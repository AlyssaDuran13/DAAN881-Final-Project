{
 "cells": [
  {
   "cell_type": "code",
   "execution_count": null,
   "metadata": {},
   "outputs": [],
   "source": [
    "%store -r electric_vehicle_df"
   ]
  },
  {
   "cell_type": "code",
   "execution_count": null,
   "metadata": {},
   "outputs": [],
   "source": [
    "import matplotlib.pyplot as plt\n",
    "import numpy as np\n",
    "import pingouin as pg"
   ]
  },
  {
   "cell_type": "code",
   "execution_count": null,
   "metadata": {},
   "outputs": [],
   "source": [
    "ev_q4_df = electric_vehicle_df[[\"Model Year\", \"Electric Vehicle Type\"]]\n",
    "ev_BEV_df = ev_q4_df.loc[ev_q4_df[\"Electric Vehicle Type\"] == \"Battery Electric Vehicle (BEV)\"]\n",
    "ev_PHEV_df = ev_q4_df.loc[ev_q4_df[\"Electric Vehicle Type\"] == \"Plug-in Hybrid Electric Vehicle (PHEV)\"]\n",
    "\n",
    "BEV = ev_BEV_df[\"Model Year\"]\n",
    "PHEV = ev_PHEV_df[\"Model Year\"]\n",
    "q4_data = [BEV, PHEV]\n",
    "\n",
    "fig = plt.figure(figsize =(10, 7))\n",
    "plt.boxplot(q4_data)\n",
    "\n",
    "plt.show()"
   ]
  },
  {
   "cell_type": "code",
   "execution_count": null,
   "metadata": {},
   "outputs": [],
   "source": [
    "ev_q4_summary = pd.DataFrame(\n",
    "    {\"EV Type\": [\"Battery Electric Vehicle (BEV)\",\"Plug-in Hybrid Electric Vehicle (PHEV)\"],\n",
    "     \"mean\": [ev_q4_df.loc[ev_q4_df[\"Electric Vehicle Type\"] == \"Battery Electric Vehicle (BEV)\"][\"Model Year\"].mean().round(2), \n",
    "             ev_q4_df.loc[ev_q4_df[\"Electric Vehicle Type\"] == \"Plug-in Hybrid Electric Vehicle (PHEV)\"][\"Model Year\"].mean().round(2)],\n",
    "     'std dev': [ev_q4_df.loc[ev_q4_df[\"Electric Vehicle Type\"] == \"Battery Electric Vehicle (BEV)\"][\"Model Year\"].std(), \n",
    "                ev_q4_df.loc[ev_q4_df[\"Electric Vehicle Type\"] == \"Plug-in Hybrid Electric Vehicle (PHEV)\"][\"Model Year\"].std()],\n",
    "     'N': [len(ev_q4_df.loc[ev_q4_df[\"Electric Vehicle Type\"] == \"Battery Electric Vehicle (BEV)\"]),\n",
    "           len(ev_q4_df.loc[ev_q4_df[\"Electric Vehicle Type\"] == \"Plug-in Hybrid Electric Vehicle (PHEV)\"])]\n",
    "    })\n",
    "ev_q4_summary"
   ]
  },
  {
   "cell_type": "code",
   "execution_count": null,
   "metadata": {},
   "outputs": [],
   "source": [
    "ev_q4_test = pd.DataFrame(\n",
    "                {\"Battery Electric Vehicle (BEV)\": ev_q4_df.loc[ev_q4_df[\"Electric Vehicle Type\"] == \"Battery Electric Vehicle (BEV)\"][\"Model Year\"],\n",
    "                 \"Plug-in Hybrid Electric Vehicle (PHEV)\": ev_q4_df.loc[ev_q4_df[\"Electric Vehicle Type\"] == \"Plug-in Hybrid Electric Vehicle (PHEV)\"][\"Model Year\"]})\n",
    "\n",
    "from pingouin import ttest\n",
    "\n",
    "ttest(ev_q4_test[\"Battery Electric Vehicle (BEV)\"], ev_q4_test[\"Plug-in Hybrid Electric Vehicle (PHEV)\"], correction = True)"
   ]
  },
  {
   "cell_type": "code",
   "execution_count": null,
   "metadata": {},
   "outputs": [],
   "source": [
    "ev_q4_test.describe()"
   ]
  }
 ],
 "metadata": {
  "language_info": {
   "name": "python"
  }
 },
 "nbformat": 4,
 "nbformat_minor": 2
}
