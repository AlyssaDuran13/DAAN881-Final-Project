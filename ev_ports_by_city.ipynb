{
 "cells": [
  {
   "cell_type": "code",
   "execution_count": 2,
   "metadata": {},
   "outputs": [],
   "source": [
    "%store -r electric_vehicle_df\n",
    "%store -r charging_stations_df"
   ]
  },
  {
   "cell_type": "code",
   "execution_count": 3,
   "metadata": {},
   "outputs": [],
   "source": [
    "import matplotlib.pyplot as plt\n",
    "import pandas as pd\n",
    "from scipy import stats\n",
    "from scipy.stats import pearsonr\n",
    "from sklearn.linear_model import LinearRegression\n",
    "from sklearn.metrics import mean_squared_error, mean_absolute_error, r2_score\n",
    "import numpy as np"
   ]
  },
  {
   "cell_type": "markdown",
   "metadata": {},
   "source": [
    "### Does there exist a correlation between charging ports and number of EV's owned per city?"
   ]
  },
  {
   "cell_type": "markdown",
   "metadata": {},
   "source": [
    "First a quick refresh of the datasets and the explore graphs"
   ]
  },
  {
   "cell_type": "code",
   "execution_count": 4,
   "metadata": {},
   "outputs": [
    {
     "data": {
      "text/html": [
       "<div>\n",
       "<style scoped>\n",
       "    .dataframe tbody tr th:only-of-type {\n",
       "        vertical-align: middle;\n",
       "    }\n",
       "\n",
       "    .dataframe tbody tr th {\n",
       "        vertical-align: top;\n",
       "    }\n",
       "\n",
       "    .dataframe thead th {\n",
       "        text-align: right;\n",
       "    }\n",
       "</style>\n",
       "<table border=\"1\" class=\"dataframe\">\n",
       "  <thead>\n",
       "    <tr style=\"text-align: right;\">\n",
       "      <th></th>\n",
       "      <th>Postal Code</th>\n",
       "      <th>County</th>\n",
       "      <th>City</th>\n",
       "      <th>Make</th>\n",
       "      <th>Model</th>\n",
       "      <th>Electric Vehicle Type</th>\n",
       "      <th>Clean Alternative Fuel Vehicle (CAFV) Eligibility</th>\n",
       "      <th>Electric Utility</th>\n",
       "    </tr>\n",
       "  </thead>\n",
       "  <tbody>\n",
       "    <tr>\n",
       "      <th>0</th>\n",
       "      <td>98103.0</td>\n",
       "      <td>King</td>\n",
       "      <td>Seattle</td>\n",
       "      <td>HYUNDAI</td>\n",
       "      <td>KONA</td>\n",
       "      <td>Battery Electric Vehicle (BEV)</td>\n",
       "      <td>Clean Alternative Fuel Vehicle Eligible</td>\n",
       "      <td>CITY OF SEATTLE - (WA)|CITY OF TACOMA - (WA)</td>\n",
       "    </tr>\n",
       "    <tr>\n",
       "      <th>1</th>\n",
       "      <td>98011.0</td>\n",
       "      <td>King</td>\n",
       "      <td>Bothell</td>\n",
       "      <td>JEEP</td>\n",
       "      <td>GRAND CHEROKEE</td>\n",
       "      <td>Plug-in Hybrid Electric Vehicle (PHEV)</td>\n",
       "      <td>Not eligible due to low battery range</td>\n",
       "      <td>PUGET SOUND ENERGY INC||CITY OF TACOMA - (WA)</td>\n",
       "    </tr>\n",
       "    <tr>\n",
       "      <th>2</th>\n",
       "      <td>98908.0</td>\n",
       "      <td>Yakima</td>\n",
       "      <td>Yakima</td>\n",
       "      <td>JEEP</td>\n",
       "      <td>GRAND CHEROKEE</td>\n",
       "      <td>Plug-in Hybrid Electric Vehicle (PHEV)</td>\n",
       "      <td>Not eligible due to low battery range</td>\n",
       "      <td>PACIFICORP</td>\n",
       "    </tr>\n",
       "    <tr>\n",
       "      <th>3</th>\n",
       "      <td>98034.0</td>\n",
       "      <td>King</td>\n",
       "      <td>Kirkland</td>\n",
       "      <td>TESLA</td>\n",
       "      <td>MODEL 3</td>\n",
       "      <td>Battery Electric Vehicle (BEV)</td>\n",
       "      <td>Clean Alternative Fuel Vehicle Eligible</td>\n",
       "      <td>PUGET SOUND ENERGY INC||CITY OF TACOMA - (WA)</td>\n",
       "    </tr>\n",
       "    <tr>\n",
       "      <th>4</th>\n",
       "      <td>98501.0</td>\n",
       "      <td>Thurston</td>\n",
       "      <td>Olympia</td>\n",
       "      <td>BMW</td>\n",
       "      <td>I3</td>\n",
       "      <td>Plug-in Hybrid Electric Vehicle (PHEV)</td>\n",
       "      <td>Clean Alternative Fuel Vehicle Eligible</td>\n",
       "      <td>PUGET SOUND ENERGY INC</td>\n",
       "    </tr>\n",
       "  </tbody>\n",
       "</table>\n",
       "</div>"
      ],
      "text/plain": [
       "   Postal Code    County      City     Make           Model  \\\n",
       "0      98103.0      King   Seattle  HYUNDAI            KONA   \n",
       "1      98011.0      King   Bothell     JEEP  GRAND CHEROKEE   \n",
       "2      98908.0    Yakima    Yakima     JEEP  GRAND CHEROKEE   \n",
       "3      98034.0      King  Kirkland    TESLA         MODEL 3   \n",
       "4      98501.0  Thurston   Olympia      BMW              I3   \n",
       "\n",
       "                    Electric Vehicle Type  \\\n",
       "0          Battery Electric Vehicle (BEV)   \n",
       "1  Plug-in Hybrid Electric Vehicle (PHEV)   \n",
       "2  Plug-in Hybrid Electric Vehicle (PHEV)   \n",
       "3          Battery Electric Vehicle (BEV)   \n",
       "4  Plug-in Hybrid Electric Vehicle (PHEV)   \n",
       "\n",
       "  Clean Alternative Fuel Vehicle (CAFV) Eligibility  \\\n",
       "0           Clean Alternative Fuel Vehicle Eligible   \n",
       "1             Not eligible due to low battery range   \n",
       "2             Not eligible due to low battery range   \n",
       "3           Clean Alternative Fuel Vehicle Eligible   \n",
       "4           Clean Alternative Fuel Vehicle Eligible   \n",
       "\n",
       "                                Electric Utility  \n",
       "0   CITY OF SEATTLE - (WA)|CITY OF TACOMA - (WA)  \n",
       "1  PUGET SOUND ENERGY INC||CITY OF TACOMA - (WA)  \n",
       "2                                     PACIFICORP  \n",
       "3  PUGET SOUND ENERGY INC||CITY OF TACOMA - (WA)  \n",
       "4                         PUGET SOUND ENERGY INC  "
      ]
     },
     "execution_count": 4,
     "metadata": {},
     "output_type": "execute_result"
    }
   ],
   "source": [
    "electric_vehicle_df.head()"
   ]
  },
  {
   "cell_type": "code",
   "execution_count": 5,
   "metadata": {},
   "outputs": [
    {
     "data": {
      "text/html": [
       "<div>\n",
       "<style scoped>\n",
       "    .dataframe tbody tr th:only-of-type {\n",
       "        vertical-align: middle;\n",
       "    }\n",
       "\n",
       "    .dataframe tbody tr th {\n",
       "        vertical-align: top;\n",
       "    }\n",
       "\n",
       "    .dataframe thead th {\n",
       "        text-align: right;\n",
       "    }\n",
       "</style>\n",
       "<table border=\"1\" class=\"dataframe\">\n",
       "  <thead>\n",
       "    <tr style=\"text-align: right;\">\n",
       "      <th></th>\n",
       "      <th>City</th>\n",
       "      <th>ZIP</th>\n",
       "      <th>EV Network</th>\n",
       "      <th>EV Connector Types</th>\n",
       "      <th>EV Workplace Charging</th>\n",
       "    </tr>\n",
       "  </thead>\n",
       "  <tbody>\n",
       "    <tr>\n",
       "      <th>0</th>\n",
       "      <td>Lacey</td>\n",
       "      <td>98503</td>\n",
       "      <td>Non-Networked</td>\n",
       "      <td>J1772</td>\n",
       "      <td>False</td>\n",
       "    </tr>\n",
       "    <tr>\n",
       "      <th>1</th>\n",
       "      <td>Seattle</td>\n",
       "      <td>98188</td>\n",
       "      <td>Non-Networked</td>\n",
       "      <td>NEMA520</td>\n",
       "      <td>False</td>\n",
       "    </tr>\n",
       "    <tr>\n",
       "      <th>2</th>\n",
       "      <td>Spokane</td>\n",
       "      <td>99252</td>\n",
       "      <td>Non-Networked</td>\n",
       "      <td>J1772 NEMA520</td>\n",
       "      <td>False</td>\n",
       "    </tr>\n",
       "    <tr>\n",
       "      <th>3</th>\n",
       "      <td>Spokane</td>\n",
       "      <td>99201</td>\n",
       "      <td>Non-Networked</td>\n",
       "      <td>J1772</td>\n",
       "      <td>False</td>\n",
       "    </tr>\n",
       "    <tr>\n",
       "      <th>4</th>\n",
       "      <td>Bellevue</td>\n",
       "      <td>98004</td>\n",
       "      <td>ChargePoint Network</td>\n",
       "      <td>J1772</td>\n",
       "      <td>False</td>\n",
       "    </tr>\n",
       "  </tbody>\n",
       "</table>\n",
       "</div>"
      ],
      "text/plain": [
       "       City    ZIP           EV Network EV Connector Types  \\\n",
       "0     Lacey  98503        Non-Networked              J1772   \n",
       "1   Seattle  98188        Non-Networked            NEMA520   \n",
       "2   Spokane  99252        Non-Networked      J1772 NEMA520   \n",
       "3   Spokane  99201        Non-Networked              J1772   \n",
       "4  Bellevue  98004  ChargePoint Network              J1772   \n",
       "\n",
       "   EV Workplace Charging  \n",
       "0                  False  \n",
       "1                  False  \n",
       "2                  False  \n",
       "3                  False  \n",
       "4                  False  "
      ]
     },
     "execution_count": 5,
     "metadata": {},
     "output_type": "execute_result"
    }
   ],
   "source": [
    "charging_stations_df.head()"
   ]
  },
  {
   "cell_type": "code",
   "execution_count": 6,
   "metadata": {},
   "outputs": [
    {
     "name": "stdout",
     "output_type": "stream",
     "text": [
      "Seattle                 565\n",
      "Bellevue                270\n",
      "Tacoma                  101\n",
      "Spokane                  58\n",
      "Vancouver                57\n",
      "                       ... \n",
      "Steilacoom                1\n",
      "University Place          1\n",
      "SPOKANE                   1\n",
      "Tulalip                   1\n",
      "8900 E. Buckeye Ave.      1\n",
      "Name: City, Length: 226, dtype: int64\n"
     ]
    },
    {
     "data": {
      "image/png": "[encoded data removed]",
      "text/plain": [
       "<Figure size 640x480 with 1 Axes>"
      ]
     },
     "metadata": {},
     "output_type": "display_data"
    }
   ],
   "source": [
    "#Counties with the most amount of charging ports\n",
    "\n",
    "charging_stations_category_counts = charging_stations_df['City'].value_counts()\n",
    "print(charging_stations_category_counts)\n",
    "#Top 10 counties\n",
    "category_counts = charging_stations_category_counts.head(10)\n",
    "category_counts.plot(kind='bar')\n",
    "plt.xlabel('City')\n",
    "plt.ylabel('Count')\n",
    "plt.show()"
   ]
  },
  {
   "cell_type": "code",
   "execution_count": 7,
   "metadata": {},
   "outputs": [
    {
     "name": "stdout",
     "output_type": "stream",
     "text": [
      "Seattle      25675\n",
      "Bellevue      7690\n",
      "Redmond       5501\n",
      "Vancouver     5310\n",
      "Bothell       4861\n",
      "             ...  \n",
      "Beaver           1\n",
      "Rosburg          1\n",
      "Startup          1\n",
      "Alderdale        1\n",
      "Hamilton         1\n",
      "Name: City, Length: 461, dtype: int64\n"
     ]
    },
    {
     "data": {
      "image/png": "[encoded data removed]",
      "text/plain": [
       "<Figure size 640x480 with 1 Axes>"
      ]
     },
     "metadata": {},
     "output_type": "display_data"
    }
   ],
   "source": [
    "#Find counties with most amount of EV\n",
    "\n",
    "ev_category_counts = electric_vehicle_df['City'].value_counts()\n",
    "print(ev_category_counts)\n",
    "#Top 10 counties\n",
    "category_counts = ev_category_counts.head(10)\n",
    "category_counts.plot(kind='bar')\n",
    "plt.xlabel('City')\n",
    "plt.ylabel('Count')\n",
    "plt.show()"
   ]
  },
  {
   "cell_type": "markdown",
   "metadata": {},
   "source": [
    "Off of first glance there appears to be a correlation."
   ]
  },
  {
   "cell_type": "code",
   "execution_count": 8,
   "metadata": {},
   "outputs": [
    {
     "name": "stdout",
     "output_type": "stream",
     "text": [
      "Correlation between Charging Ports and EV by City is 0.9298778444631608\n"
     ]
    }
   ],
   "source": [
    "correlation = ev_category_counts.corr(charging_stations_category_counts)\n",
    "\n",
    "print(\"Correlation between Charging Ports and EV by City is\", correlation)"
   ]
  },
  {
   "cell_type": "code",
   "execution_count": 9,
   "metadata": {},
   "outputs": [
    {
     "data": {
      "text/plain": [
       "Index(['Seattle', 'Bellevue', 'Redmond', 'Vancouver', 'Bothell', 'Kirkland',\n",
       "       'Sammamish', 'Renton', 'Olympia', 'Tacoma',\n",
       "       ...\n",
       "       'Waverly', 'Centerville', 'McCleary', 'Hartline', 'Bell Hill', 'Beaver',\n",
       "       'Rosburg', 'Startup', 'Alderdale', 'Hamilton'],\n",
       "      dtype='object', length=461)"
      ]
     },
     "execution_count": 9,
     "metadata": {},
     "output_type": "execute_result"
    }
   ],
   "source": [
    "ev_category_counts.index"
   ]
  },
  {
   "cell_type": "code",
   "execution_count": 10,
   "metadata": {},
   "outputs": [
    {
     "data": {
      "text/plain": [
       "Index(['Seattle', 'Bellevue', 'Tacoma', 'Spokane', 'Vancouver', 'Richland',\n",
       "       'Renton', 'Olympia', 'Bellingham', 'Kirkland',\n",
       "       ...\n",
       "       'Longmire', 'Prosser', 'Medical Lake', 'West Seattle', 'Camano',\n",
       "       'Steilacoom', 'University Place', 'SPOKANE', 'Tulalip',\n",
       "       '8900 E. Buckeye Ave.'],\n",
       "      dtype='object', length=226)"
      ]
     },
     "execution_count": 10,
     "metadata": {},
     "output_type": "execute_result"
    }
   ],
   "source": [
    "charging_stations_category_counts.index"
   ]
  },
  {
   "cell_type": "code",
   "execution_count": 11,
   "metadata": {},
   "outputs": [],
   "source": [
    "charging_stations_category_counts.index = charging_stations_category_counts.index.str.lower()\n",
    "ev_category_counts.index = ev_category_counts.index.str.lower()"
   ]
  },
  {
   "cell_type": "code",
   "execution_count": 12,
   "metadata": {},
   "outputs": [],
   "source": [
    "# Change to dataframes to merge\n",
    "charging_stations_category_counts = pd.DataFrame(charging_stations_category_counts)\n",
    "ev_category_counts = pd.DataFrame(ev_category_counts)\n",
    "\n",
    "# Add the index as a column\n",
    "charging_stations_category_counts.reset_index(inplace=True)\n",
    "ev_category_counts.reset_index(inplace=True)"
   ]
  },
  {
   "cell_type": "code",
   "execution_count": 13,
   "metadata": {},
   "outputs": [],
   "source": [
    "# Rename columns to make more sense\n",
    "charging_stations_category_counts.columns = ['City', 'Ports_Count']\n",
    "ev_category_counts.columns = ['City', 'EV_Count']"
   ]
  },
  {
   "cell_type": "code",
   "execution_count": 14,
   "metadata": {},
   "outputs": [
    {
     "data": {
      "text/html": [
       "<div>\n",
       "<style scoped>\n",
       "    .dataframe tbody tr th:only-of-type {\n",
       "        vertical-align: middle;\n",
       "    }\n",
       "\n",
       "    .dataframe tbody tr th {\n",
       "        vertical-align: top;\n",
       "    }\n",
       "\n",
       "    .dataframe thead th {\n",
       "        text-align: right;\n",
       "    }\n",
       "</style>\n",
       "<table border=\"1\" class=\"dataframe\">\n",
       "  <thead>\n",
       "    <tr style=\"text-align: right;\">\n",
       "      <th></th>\n",
       "      <th>City</th>\n",
       "      <th>Ports_Count</th>\n",
       "    </tr>\n",
       "  </thead>\n",
       "  <tbody>\n",
       "    <tr>\n",
       "      <th>0</th>\n",
       "      <td>seattle</td>\n",
       "      <td>565</td>\n",
       "    </tr>\n",
       "    <tr>\n",
       "      <th>1</th>\n",
       "      <td>bellevue</td>\n",
       "      <td>270</td>\n",
       "    </tr>\n",
       "    <tr>\n",
       "      <th>2</th>\n",
       "      <td>tacoma</td>\n",
       "      <td>101</td>\n",
       "    </tr>\n",
       "    <tr>\n",
       "      <th>3</th>\n",
       "      <td>spokane</td>\n",
       "      <td>58</td>\n",
       "    </tr>\n",
       "    <tr>\n",
       "      <th>4</th>\n",
       "      <td>vancouver</td>\n",
       "      <td>57</td>\n",
       "    </tr>\n",
       "    <tr>\n",
       "      <th>...</th>\n",
       "      <td>...</td>\n",
       "      <td>...</td>\n",
       "    </tr>\n",
       "    <tr>\n",
       "      <th>221</th>\n",
       "      <td>steilacoom</td>\n",
       "      <td>1</td>\n",
       "    </tr>\n",
       "    <tr>\n",
       "      <th>222</th>\n",
       "      <td>university place</td>\n",
       "      <td>1</td>\n",
       "    </tr>\n",
       "    <tr>\n",
       "      <th>223</th>\n",
       "      <td>spokane</td>\n",
       "      <td>1</td>\n",
       "    </tr>\n",
       "    <tr>\n",
       "      <th>224</th>\n",
       "      <td>tulalip</td>\n",
       "      <td>1</td>\n",
       "    </tr>\n",
       "    <tr>\n",
       "      <th>225</th>\n",
       "      <td>8900 e. buckeye ave.</td>\n",
       "      <td>1</td>\n",
       "    </tr>\n",
       "  </tbody>\n",
       "</table>\n",
       "<p>226 rows × 2 columns</p>\n",
       "</div>"
      ],
      "text/plain": [
       "                     City  Ports_Count\n",
       "0                 seattle          565\n",
       "1                bellevue          270\n",
       "2                  tacoma          101\n",
       "3                 spokane           58\n",
       "4               vancouver           57\n",
       "..                    ...          ...\n",
       "221            steilacoom            1\n",
       "222      university place            1\n",
       "223               spokane            1\n",
       "224               tulalip            1\n",
       "225  8900 e. buckeye ave.            1\n",
       "\n",
       "[226 rows x 2 columns]"
      ]
     },
     "execution_count": 14,
     "metadata": {},
     "output_type": "execute_result"
    }
   ],
   "source": [
    "charging_stations_category_counts"
   ]
  },
  {
   "cell_type": "code",
   "execution_count": 15,
   "metadata": {},
   "outputs": [
    {
     "data": {
      "text/html": [
       "<div>\n",
       "<style scoped>\n",
       "    .dataframe tbody tr th:only-of-type {\n",
       "        vertical-align: middle;\n",
       "    }\n",
       "\n",
       "    .dataframe tbody tr th {\n",
       "        vertical-align: top;\n",
       "    }\n",
       "\n",
       "    .dataframe thead th {\n",
       "        text-align: right;\n",
       "    }\n",
       "</style>\n",
       "<table border=\"1\" class=\"dataframe\">\n",
       "  <thead>\n",
       "    <tr style=\"text-align: right;\">\n",
       "      <th></th>\n",
       "      <th>City</th>\n",
       "      <th>EV_Count</th>\n",
       "    </tr>\n",
       "  </thead>\n",
       "  <tbody>\n",
       "    <tr>\n",
       "      <th>0</th>\n",
       "      <td>seattle</td>\n",
       "      <td>25675</td>\n",
       "    </tr>\n",
       "    <tr>\n",
       "      <th>1</th>\n",
       "      <td>bellevue</td>\n",
       "      <td>7690</td>\n",
       "    </tr>\n",
       "    <tr>\n",
       "      <th>2</th>\n",
       "      <td>redmond</td>\n",
       "      <td>5501</td>\n",
       "    </tr>\n",
       "    <tr>\n",
       "      <th>3</th>\n",
       "      <td>vancouver</td>\n",
       "      <td>5310</td>\n",
       "    </tr>\n",
       "    <tr>\n",
       "      <th>4</th>\n",
       "      <td>bothell</td>\n",
       "      <td>4861</td>\n",
       "    </tr>\n",
       "    <tr>\n",
       "      <th>...</th>\n",
       "      <td>...</td>\n",
       "      <td>...</td>\n",
       "    </tr>\n",
       "    <tr>\n",
       "      <th>456</th>\n",
       "      <td>beaver</td>\n",
       "      <td>1</td>\n",
       "    </tr>\n",
       "    <tr>\n",
       "      <th>457</th>\n",
       "      <td>rosburg</td>\n",
       "      <td>1</td>\n",
       "    </tr>\n",
       "    <tr>\n",
       "      <th>458</th>\n",
       "      <td>startup</td>\n",
       "      <td>1</td>\n",
       "    </tr>\n",
       "    <tr>\n",
       "      <th>459</th>\n",
       "      <td>alderdale</td>\n",
       "      <td>1</td>\n",
       "    </tr>\n",
       "    <tr>\n",
       "      <th>460</th>\n",
       "      <td>hamilton</td>\n",
       "      <td>1</td>\n",
       "    </tr>\n",
       "  </tbody>\n",
       "</table>\n",
       "<p>461 rows × 2 columns</p>\n",
       "</div>"
      ],
      "text/plain": [
       "          City  EV_Count\n",
       "0      seattle     25675\n",
       "1     bellevue      7690\n",
       "2      redmond      5501\n",
       "3    vancouver      5310\n",
       "4      bothell      4861\n",
       "..         ...       ...\n",
       "456     beaver         1\n",
       "457    rosburg         1\n",
       "458    startup         1\n",
       "459  alderdale         1\n",
       "460   hamilton         1\n",
       "\n",
       "[461 rows x 2 columns]"
      ]
     },
     "execution_count": 15,
     "metadata": {},
     "output_type": "execute_result"
    }
   ],
   "source": [
    "ev_category_counts"
   ]
  },
  {
   "cell_type": "code",
   "execution_count": 16,
   "metadata": {},
   "outputs": [],
   "source": [
    "# Merge pd.Series to dataframe\n",
    "\n",
    "df = ev_category_counts.merge(charging_stations_category_counts, on=\"City\", how='outer')\n",
    "df.drop_duplicates(subset=['City'], keep='first', inplace=True, ignore_index=True)\n",
    "df.fillna(0, inplace=True)"
   ]
  },
  {
   "cell_type": "code",
   "execution_count": 17,
   "metadata": {},
   "outputs": [
    {
     "data": {
      "image/png": "[encoded data removed]",
      "text/plain": [
       "<Figure size 640x480 with 1 Axes>"
      ]
     },
     "metadata": {},
     "output_type": "display_data"
    }
   ],
   "source": [
    "# Scatter Plot\n",
    "\n",
    "plt.scatter(df.EV_Count, df.Ports_Count)\n",
    "plt.xlabel('EV')\n",
    "plt.ylabel('Charging Ports')\n",
    "plt.title('EVs and Charging Ports per City')\n",
    "plt.show()"
   ]
  },
  {
   "cell_type": "code",
   "execution_count": 18,
   "metadata": {},
   "outputs": [
    {
     "name": "stdout",
     "output_type": "stream",
     "text": [
      "The correlation according the pearson r test is  0.9305341342162305  with the p value being  1.513444743544629e-211\n",
      "We can conclude the correlation is significant\n"
     ]
    }
   ],
   "source": [
    "# Get the P value\n",
    "\n",
    "correlation_coefficient, p_value = pearsonr(df.EV_Count, df.Ports_Count)\n",
    "print('The correlation according the pearson r test is ', correlation_coefficient, ' with the p value being ', p_value)\n",
    "\n",
    "if p_value > .05:\n",
    "    print('We can conclude the correlation is not significant')\n",
    "else:\n",
    "    print('We can conclude the correlation is significant')"
   ]
  },
  {
   "cell_type": "code",
   "execution_count": 19,
   "metadata": {},
   "outputs": [],
   "source": [
    "# Create a linear regression model\n",
    "\n",
    "model = LinearRegression()\n",
    "model.fit(df.EV_Count.values.reshape(-1, 1), df.Ports_Count)\n",
    "predictions = model.predict(df.EV_Count.values.reshape(-1, 1))"
   ]
  },
  {
   "cell_type": "code",
   "execution_count": 20,
   "metadata": {},
   "outputs": [
    {
     "name": "stdout",
     "output_type": "stream",
     "text": [
      "Mean Squared Error: 117.2869992941702\n",
      "Root Mean Squared Error: 10.829912247759452\n",
      "Mean Absolute Error: 4.223984137512639\n",
      "R-squared: 0.8658937749415464\n",
      "The R-squared metric indicates the model is a good fit.\n"
     ]
    }
   ],
   "source": [
    "# Mean Squared Error\n",
    "mse = mean_squared_error(df.Ports_Count.values, predictions)\n",
    "\n",
    "# Root Mean Squared Error\n",
    "rmse = np.sqrt(mse)\n",
    "\n",
    "# Mean Absolute Error\n",
    "mae = mean_absolute_error(df.Ports_Count.values, predictions)\n",
    "\n",
    "# R-squared\n",
    "r_squared = r2_score(df.Ports_Count.values, predictions)\n",
    "\n",
    "print(\"Mean Squared Error:\", mse)\n",
    "print(\"Root Mean Squared Error:\", rmse)\n",
    "print(\"Mean Absolute Error:\", mae)\n",
    "print(\"R-squared:\", r_squared)\n",
    "\n",
    "if r_squared > .7:\n",
    "    print('The R-squared metric indicates the model is a good fit.')\n",
    "elif r_squared > .4:\n",
    "    print('The R-squared metric indicates the model could have a better fit.')\n",
    "else:\n",
    "    print('The R-squared metric indicates the model is not a suitable fit.')"
   ]
  },
  {
   "cell_type": "code",
   "execution_count": 21,
   "metadata": {},
   "outputs": [
    {
     "data": {
      "image/png": "[encoded data removed]",
      "text/plain": [
       "<Figure size 640x480 with 1 Axes>"
      ]
     },
     "metadata": {},
     "output_type": "display_data"
    }
   ],
   "source": [
    "# Scatter Plot\n",
    "\n",
    "plt.scatter(df.EV_Count, df.Ports_Count)\n",
    "plt.xlabel('EV')\n",
    "plt.ylabel('Charging Ports')\n",
    "plt.title('EVs and Charging Ports per City')\n",
    "\n",
    "# Overlay the regression line\n",
    "plt.plot(df['EV_Count'], predictions, color='red', linewidth=2)\n",
    "plt.show()"
   ]
  },
  {
   "cell_type": "markdown",
   "metadata": {},
   "source": [
    "Please note the above predictions and linear regression are attempting to predict the charging ports per city based on the number of EV's per city. This is NOT meant to imply that the number EV's or ports per city are the cause of the correlation, but rather to further explore their correlation."
   ]
  },
  {
   "cell_type": "markdown",
   "metadata": {},
   "source": [
    "### Below tests the above process again, this time without the outliers"
   ]
  },
  {
   "cell_type": "code",
   "execution_count": 23,
   "metadata": {},
   "outputs": [],
   "source": [
    "charging_stations_category_counts = charging_stations_df['City'].value_counts()\n",
    "ev_category_counts = electric_vehicle_df['City'].value_counts()\n",
    "\n",
    "charging_stations_category_counts.index = charging_stations_category_counts.index.str.lower()\n",
    "ev_category_counts.index = ev_category_counts.index.str.lower()"
   ]
  },
  {
   "cell_type": "code",
   "execution_count": 24,
   "metadata": {},
   "outputs": [],
   "source": [
    "# Checking for outliers with Ports\n",
    "z_scores = stats.zscore(df.Ports_Count)\n",
    "port_outliers = (z_scores < -3) | (z_scores > 3)\n",
    "\n",
    "# Checking for outliers with EVs\n",
    "z_scores = stats.zscore(df.EV_Count)\n",
    "ev_outliers = (z_scores < -3) | (z_scores > 3)"
   ]
  },
  {
   "cell_type": "code",
   "execution_count": 28,
   "metadata": {},
   "outputs": [],
   "source": [
    "# Change to dataframes to merge\n",
    "charging_stations_category_counts = pd.DataFrame(charging_stations_category_counts)\n",
    "ev_category_counts = pd.DataFrame(ev_category_counts)\n",
    "\n",
    "# Add the index as a column\n",
    "charging_stations_category_counts.reset_index(inplace=True)\n",
    "ev_category_counts.reset_index(inplace=True)\n",
    "\n",
    "# Rename columns to make more sense\n",
    "charging_stations_category_counts.columns = ['City', 'Ports_Count']\n",
    "ev_category_counts.columns = ['City', 'EV_Count']"
   ]
  },
  {
   "cell_type": "code",
   "execution_count": 30,
   "metadata": {},
   "outputs": [
    {
     "name": "stderr",
     "output_type": "stream",
     "text": [
      "C:\\Users\\riley\\AppData\\Local\\Temp\\ipykernel_28316\\991410229.py:2: UserWarning: Boolean Series key will be reindexed to match DataFrame index.\n",
      "  ev_category_counts = ev_category_counts[~ev_outliers]\n",
      "C:\\Users\\riley\\AppData\\Local\\Temp\\ipykernel_28316\\991410229.py:3: UserWarning: Boolean Series key will be reindexed to match DataFrame index.\n",
      "  charging_stations_category_counts = charging_stations_category_counts[~port_outliers]\n"
     ]
    }
   ],
   "source": [
    "# Drop the outliers\n",
    "ev_category_counts = ev_category_counts[~ev_outliers]\n",
    "charging_stations_category_counts = charging_stations_category_counts[~port_outliers]"
   ]
  },
  {
   "cell_type": "code",
   "execution_count": 31,
   "metadata": {},
   "outputs": [],
   "source": [
    "# Merge pd.Series to dataframe\n",
    "\n",
    "df = ev_category_counts.merge(charging_stations_category_counts, on=\"City\", how='inner')\n",
    "df.drop_duplicates(subset=['City'], keep='first', inplace=True, ignore_index=True)"
   ]
  },
  {
   "cell_type": "code",
   "execution_count": 32,
   "metadata": {},
   "outputs": [
    {
     "data": {
      "text/html": [
       "<div>\n",
       "<style scoped>\n",
       "    .dataframe tbody tr th:only-of-type {\n",
       "        vertical-align: middle;\n",
       "    }\n",
       "\n",
       "    .dataframe tbody tr th {\n",
       "        vertical-align: top;\n",
       "    }\n",
       "\n",
       "    .dataframe thead th {\n",
       "        text-align: right;\n",
       "    }\n",
       "</style>\n",
       "<table border=\"1\" class=\"dataframe\">\n",
       "  <thead>\n",
       "    <tr style=\"text-align: right;\">\n",
       "      <th></th>\n",
       "      <th>City</th>\n",
       "      <th>EV_Count</th>\n",
       "      <th>Ports_Count</th>\n",
       "    </tr>\n",
       "  </thead>\n",
       "  <tbody>\n",
       "    <tr>\n",
       "      <th>0</th>\n",
       "      <td>sammamish</td>\n",
       "      <td>4436</td>\n",
       "      <td>9</td>\n",
       "    </tr>\n",
       "    <tr>\n",
       "      <th>1</th>\n",
       "      <td>renton</td>\n",
       "      <td>4043</td>\n",
       "      <td>50</td>\n",
       "    </tr>\n",
       "    <tr>\n",
       "      <th>2</th>\n",
       "      <td>olympia</td>\n",
       "      <td>3634</td>\n",
       "      <td>46</td>\n",
       "    </tr>\n",
       "    <tr>\n",
       "      <th>3</th>\n",
       "      <td>tacoma</td>\n",
       "      <td>3121</td>\n",
       "      <td>101</td>\n",
       "    </tr>\n",
       "    <tr>\n",
       "      <th>4</th>\n",
       "      <td>bellingham</td>\n",
       "      <td>2531</td>\n",
       "      <td>38</td>\n",
       "    </tr>\n",
       "    <tr>\n",
       "      <th>...</th>\n",
       "      <td>...</td>\n",
       "      <td>...</td>\n",
       "      <td>...</td>\n",
       "    </tr>\n",
       "    <tr>\n",
       "      <th>182</th>\n",
       "      <td>copalis crossing</td>\n",
       "      <td>2</td>\n",
       "      <td>1</td>\n",
       "    </tr>\n",
       "    <tr>\n",
       "      <th>183</th>\n",
       "      <td>quinault</td>\n",
       "      <td>1</td>\n",
       "      <td>1</td>\n",
       "    </tr>\n",
       "    <tr>\n",
       "      <th>184</th>\n",
       "      <td>sprague</td>\n",
       "      <td>1</td>\n",
       "      <td>2</td>\n",
       "    </tr>\n",
       "    <tr>\n",
       "      <th>185</th>\n",
       "      <td>bridgeport</td>\n",
       "      <td>1</td>\n",
       "      <td>1</td>\n",
       "    </tr>\n",
       "    <tr>\n",
       "      <th>186</th>\n",
       "      <td>rockport</td>\n",
       "      <td>1</td>\n",
       "      <td>2</td>\n",
       "    </tr>\n",
       "  </tbody>\n",
       "</table>\n",
       "<p>187 rows × 3 columns</p>\n",
       "</div>"
      ],
      "text/plain": [
       "                 City  EV_Count  Ports_Count\n",
       "0           sammamish      4436            9\n",
       "1              renton      4043           50\n",
       "2             olympia      3634           46\n",
       "3              tacoma      3121          101\n",
       "4          bellingham      2531           38\n",
       "..                ...       ...          ...\n",
       "182  copalis crossing         2            1\n",
       "183          quinault         1            1\n",
       "184           sprague         1            2\n",
       "185        bridgeport         1            1\n",
       "186          rockport         1            2\n",
       "\n",
       "[187 rows x 3 columns]"
      ]
     },
     "execution_count": 32,
     "metadata": {},
     "output_type": "execute_result"
    }
   ],
   "source": [
    "df"
   ]
  },
  {
   "cell_type": "code",
   "execution_count": 33,
   "metadata": {},
   "outputs": [
    {
     "name": "stdout",
     "output_type": "stream",
     "text": [
      "The correlation according the pearson r test is  0.6915997046001937  with the p value being  6.110273396377117e-28\n",
      "We can conclude the correlation is significant\n"
     ]
    }
   ],
   "source": [
    "# Get the P value\n",
    "\n",
    "correlation_coefficient, p_value = pearsonr(df.EV_Count, df.Ports_Count)\n",
    "print('The correlation according the pearson r test is ', correlation_coefficient, ' with the p value being ', p_value)\n",
    "\n",
    "if p_value > .05:\n",
    "    print('We can conclude the correlation is not significant')\n",
    "else:\n",
    "    print('We can conclude the correlation is significant')"
   ]
  },
  {
   "cell_type": "code",
   "execution_count": 34,
   "metadata": {},
   "outputs": [],
   "source": [
    "# Create a linear regression model\n",
    "\n",
    "model = LinearRegression()\n",
    "model.fit(df.EV_Count.values.reshape(-1, 1), df.Ports_Count)\n",
    "predictions = model.predict(df.EV_Count.values.reshape(-1, 1))"
   ]
  },
  {
   "cell_type": "code",
   "execution_count": 38,
   "metadata": {},
   "outputs": [
    {
     "name": "stdout",
     "output_type": "stream",
     "text": [
      "Mean Squared Error: 70.75906970503922\n",
      "Root Mean Squared Error: 8.411841041355883\n",
      "Mean Absolute Error: 4.026994354979875\n",
      "R-squared: 0.4783101514030753\n",
      "The R-squared metric indicates the model could have a better fit.\n"
     ]
    }
   ],
   "source": [
    "# Mean Squared Error\n",
    "mse = mean_squared_error(df.Ports_Count.values, predictions)\n",
    "\n",
    "# Root Mean Squared Error\n",
    "rmse = np.sqrt(mse)\n",
    "\n",
    "# Mean Absolute Error\n",
    "mae = mean_absolute_error(df.Ports_Count.values, predictions)\n",
    "\n",
    "# R-squared\n",
    "r_squared = r2_score(df.Ports_Count.values, predictions)\n",
    "\n",
    "print(\"Mean Squared Error:\", mse)\n",
    "print(\"Root Mean Squared Error:\", rmse)\n",
    "print(\"Mean Absolute Error:\", mae)\n",
    "print(\"R-squared:\", r_squared)\n",
    "\n",
    "if r_squared > .7:\n",
    "    print('The R-squared metric indicates the model is a good fit.')\n",
    "elif r_squared > .4:\n",
    "    print('The R-squared metric indicates the model could have a better fit.')\n",
    "else:\n",
    "    print('The R-squared metric indicates the model is not a suitable fit.')"
   ]
  },
  {
   "cell_type": "code",
   "execution_count": 39,
   "metadata": {},
   "outputs": [
    {
     "data": {
      "image/png": "[encoded data removed]",
      "text/plain": [
       "<Figure size 640x480 with 1 Axes>"
      ]
     },
     "metadata": {},
     "output_type": "display_data"
    }
   ],
   "source": [
    "# Scatter Plot\n",
    "\n",
    "plt.scatter(df.EV_Count, df.Ports_Count)\n",
    "plt.xlabel('EV')\n",
    "plt.ylabel('Charging Ports')\n",
    "plt.title('EVs and Charging Ports per City')\n",
    "\n",
    "# Overlay the regression line\n",
    "plt.plot(df['EV_Count'], predictions, color='red', linewidth=2)\n",
    "plt.show()"
   ]
  },
  {
   "cell_type": "markdown",
   "metadata": {},
   "source": [
    "The correlation and model fitting is not as strong without the outliers, however, both datasets are showing signs of significant correlation."
   ]
  },
  {
   "cell_type": "code",
   "execution_count": null,
   "metadata": {},
   "outputs": [],
   "source": []
  }
 ],
 "metadata": {
  "kernelspec": {
   "display_name": "Python 3",
   "language": "python",
   "name": "python3"
  },
  "language_info": {
   "codemirror_mode": {
    "name": "ipython",
    "version": 3
   },
   "file_extension": ".py",
   "mimetype": "text/x-python",
   "name": "python",
   "nbconvert_exporter": "python",
   "pygments_lexer": "ipython3",
   "version": "3.11.1"
  }
 },
 "nbformat": 4,
 "nbformat_minor": 2
}
