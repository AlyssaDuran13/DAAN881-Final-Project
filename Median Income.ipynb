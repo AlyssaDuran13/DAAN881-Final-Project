{
 "cells": [
  {
   "cell_type": "code",
   "execution_count": 3,
   "id": "77e8c786-751f-460e-b4fd-c11363385b21",
   "metadata": {},
   "outputs": [],
   "source": [
    "import pandas as pd"
   ]
  },
  {
   "cell_type": "code",
   "execution_count": 4,
   "id": "6ecf5ab1-ac85-4f08-8ab0-0d9210c877b4",
   "metadata": {},
   "outputs": [],
   "source": [
    "path = './data/'"
   ]
  },
  {
   "cell_type": "markdown",
   "id": "9d650ef7-c8aa-40db-93e8-a816e80c1762",
   "metadata": {},
   "source": [
    "### Import and unpivot county income data"
   ]
  },
  {
   "cell_type": "code",
   "execution_count": 5,
   "id": "c822a139-92c2-4dd0-97df-ca0fb2201613",
   "metadata": {},
   "outputs": [],
   "source": [
    "df = pd.read_csv(path + 'county_income.csv', index_col=None)"
   ]
  },
  {
   "cell_type": "code",
   "execution_count": 6,
   "id": "3e50b750-a3fc-4602-930c-466f01056585",
   "metadata": {},
   "outputs": [],
   "source": [
    "income = pd.melt(df,\n",
    "                 id_vars='County',\n",
    "                 value_vars=list(df.columns[1:]),\n",
    "                 var_name='Year',\n",
    "                 value_name='Income')"
   ]
  },
  {
   "cell_type": "markdown",
   "id": "125a3c7e-0b99-4b6e-b3d7-45995a97d021",
   "metadata": {},
   "source": [
    "### Import and unpivot census data"
   ]
  },
  {
   "cell_type": "code",
   "execution_count": 8,
   "id": "66d2bb89-b216-4a43-9fce-591eb2696c8f",
   "metadata": {},
   "outputs": [],
   "source": [
    "df = pd.read_csv(path + 'census_years.csv', index_col=None)"
   ]
  },
  {
   "cell_type": "code",
   "execution_count": 9,
   "id": "9eff9eae-dece-47e6-8b6a-521e7a04fbaf",
   "metadata": {},
   "outputs": [],
   "source": [
    "census_method = df.melt(var_name='Year',\n",
    "                        value_name='Census Method')"
   ]
  },
  {
   "cell_type": "markdown",
   "id": "2869a588-1278-4308-b2d7-643c57196756",
   "metadata": {},
   "source": [
    "### Merge dataframes and set data types. Remove commas from numeric data"
   ]
  },
  {
   "cell_type": "code",
   "execution_count": 10,
   "id": "0c3a9d0a-d359-4ebd-925e-24ff03d93696",
   "metadata": {},
   "outputs": [],
   "source": [
    "median_income = pd.merge(income, census_method, on='Year')"
   ]
  },
  {
   "cell_type": "code",
   "execution_count": 11,
   "id": "24329ad2-54d6-419f-b5e1-149da64644da",
   "metadata": {},
   "outputs": [],
   "source": [
    "median_income['Income'] = median_income['Income'].str.replace(',', '').astype('int64')\n",
    "median_income['County'] = median_income['County'].astype('category')\n",
    "median_income['Year'] = median_income['Year'].astype('category')\n",
    "median_income['Census Method'] = median_income['Census Method'].astype('category')"
   ]
  },
  {
   "cell_type": "markdown",
   "id": "3c523d3c-7fb9-406b-9f99-c03df2063f34",
   "metadata": {},
   "source": [
    "### Summary info"
   ]
  },
  {
   "cell_type": "code",
   "execution_count": 12,
   "id": "74862462-f282-4a34-8bf0-0b450452b7f7",
   "metadata": {},
   "outputs": [
    {
     "data": {
      "text/plain": [
       "County           category\n",
       "Year             category\n",
       "Income              int64\n",
       "Census Method    category\n",
       "dtype: object"
      ]
     },
     "execution_count": 12,
     "metadata": {},
     "output_type": "execute_result"
    }
   ],
   "source": [
    "median_income.dtypes"
   ]
  },
  {
   "cell_type": "code",
   "execution_count": 13,
   "id": "80aa94b5-2a43-404f-840a-6bc6babd2595",
   "metadata": {},
   "outputs": [
    {
     "name": "stdout",
     "output_type": "stream",
     "text": [
      "<class 'pandas.core.frame.DataFrame'>\n",
      "Int64Index: 1360 entries, 0 to 1359\n",
      "Data columns (total 4 columns):\n",
      " #   Column         Non-Null Count  Dtype   \n",
      "---  ------         --------------  -----   \n",
      " 0   County         1360 non-null   category\n",
      " 1   Year           1360 non-null   category\n",
      " 2   Income         1360 non-null   int64   \n",
      " 3   Census Method  1360 non-null   category\n",
      "dtypes: category(3), int64(1)\n",
      "memory usage: 28.1 KB\n"
     ]
    }
   ],
   "source": [
    "median_income.info()"
   ]
  },
  {
   "cell_type": "code",
   "execution_count": 14,
   "id": "d7262cd7-3f2d-40c4-8d49-38e80763e3ea",
   "metadata": {},
   "outputs": [
    {
     "data": {
      "text/plain": [
       "count      1360.000000\n",
       "mean      44760.612500\n",
       "std       14072.791772\n",
       "min       20029.000000\n",
       "25%       34719.500000\n",
       "50%       42287.500000\n",
       "75%       53328.000000\n",
       "max      118664.000000\n",
       "Name: Income, dtype: float64"
      ]
     },
     "execution_count": 14,
     "metadata": {},
     "output_type": "execute_result"
    }
   ],
   "source": [
    "median_income['Income'].describe()"
   ]
  },
  {
   "cell_type": "code",
   "execution_count": 15,
   "id": "3a87cc3f-c527-4d19-a373-b8bac13fe14b",
   "metadata": {},
   "outputs": [
    {
     "data": {
      "text/plain": [
       "count     1360\n",
       "unique      34\n",
       "top       1989\n",
       "freq        40\n",
       "Name: Year, dtype: object"
      ]
     },
     "execution_count": 15,
     "metadata": {},
     "output_type": "execute_result"
    }
   ],
   "source": [
    "median_income['Year'].describe()"
   ]
  },
  {
   "cell_type": "code",
   "execution_count": 16,
   "id": "c2aad0c0-b1b5-4ab0-9b28-19bc078e916d",
   "metadata": {},
   "outputs": [
    {
     "data": {
      "text/plain": [
       "count      1360\n",
       "unique       40\n",
       "top       Adams\n",
       "freq         34\n",
       "Name: County, dtype: object"
      ]
     },
     "execution_count": 16,
     "metadata": {},
     "output_type": "execute_result"
    }
   ],
   "source": [
    "median_income['County'].describe()"
   ]
  },
  {
   "cell_type": "code",
   "execution_count": 17,
   "id": "0b03421a-47f3-4100-a116-126b9ede4c68",
   "metadata": {},
   "outputs": [
    {
     "data": {
      "text/plain": [
       "count         1360\n",
       "unique           4\n",
       "top       Estimate\n",
       "freq          1160\n",
       "Name: Census Method, dtype: object"
      ]
     },
     "execution_count": 17,
     "metadata": {},
     "output_type": "execute_result"
    }
   ],
   "source": [
    "median_income['Census Method'].describe()"
   ]
  },
  {
   "cell_type": "code",
   "execution_count": null,
   "id": "17308905",
   "metadata": {},
   "outputs": [],
   "source": []
  }
 ],
 "metadata": {
  "kernelspec": {
   "display_name": "Python 3 (ipykernel)",
   "language": "python",
   "name": "python3"
  },
  "language_info": {
   "codemirror_mode": {
    "name": "ipython",
    "version": 3
   },
   "file_extension": ".py",
   "mimetype": "text/x-python",
   "name": "python",
   "nbconvert_exporter": "python",
   "pygments_lexer": "ipython3",
   "version": "3.11.1"
  }
 },
 "nbformat": 4,
 "nbformat_minor": 5
}
