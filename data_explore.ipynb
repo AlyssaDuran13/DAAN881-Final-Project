{
 "cells": [
  {
   "cell_type": "code",
   "execution_count": 4,
   "metadata": {},
   "outputs": [],
   "source": [
    "# Load dataframes from data_clean.ipynb\n",
    "\n",
    "%store -r ev_sales_nation_df\n",
    "%store -r electric_vehicle_df\n",
    "%store -r charging_stations_df\n",
    "%store -r income_df"
   ]
  },
  {
   "cell_type": "code",
   "execution_count": 34,
   "metadata": {},
   "outputs": [],
   "source": [
    "import matplotlib.pyplot as plt\n",
    "import plotly.express as px"
   ]
  },
  {
   "cell_type": "markdown",
   "metadata": {},
   "source": [
    "# Explore Electric Vehicle DataFrame"
   ]
  },
  {
   "cell_type": "code",
   "execution_count": 6,
   "metadata": {},
   "outputs": [
    {
     "data": {
      "text/html": [
       "<div>\n",
       "<style scoped>\n",
       "    .dataframe tbody tr th:only-of-type {\n",
       "        vertical-align: middle;\n",
       "    }\n",
       "\n",
       "    .dataframe tbody tr th {\n",
       "        vertical-align: top;\n",
       "    }\n",
       "\n",
       "    .dataframe thead th {\n",
       "        text-align: right;\n",
       "    }\n",
       "</style>\n",
       "<table border=\"1\" class=\"dataframe\">\n",
       "  <thead>\n",
       "    <tr style=\"text-align: right;\">\n",
       "      <th></th>\n",
       "      <th>Postal Code</th>\n",
       "      <th>County</th>\n",
       "      <th>City</th>\n",
       "      <th>Make</th>\n",
       "      <th>Model</th>\n",
       "      <th>Electric Vehicle Type</th>\n",
       "      <th>Clean Alternative Fuel Vehicle (CAFV) Eligibility</th>\n",
       "      <th>Electric Utility</th>\n",
       "    </tr>\n",
       "  </thead>\n",
       "  <tbody>\n",
       "    <tr>\n",
       "      <th>0</th>\n",
       "      <td>98103.0</td>\n",
       "      <td>King</td>\n",
       "      <td>Seattle</td>\n",
       "      <td>HYUNDAI</td>\n",
       "      <td>KONA</td>\n",
       "      <td>Battery Electric Vehicle (BEV)</td>\n",
       "      <td>Clean Alternative Fuel Vehicle Eligible</td>\n",
       "      <td>CITY OF SEATTLE - (WA)|CITY OF TACOMA - (WA)</td>\n",
       "    </tr>\n",
       "    <tr>\n",
       "      <th>1</th>\n",
       "      <td>98011.0</td>\n",
       "      <td>King</td>\n",
       "      <td>Bothell</td>\n",
       "      <td>JEEP</td>\n",
       "      <td>GRAND CHEROKEE</td>\n",
       "      <td>Plug-in Hybrid Electric Vehicle (PHEV)</td>\n",
       "      <td>Not eligible due to low battery range</td>\n",
       "      <td>PUGET SOUND ENERGY INC||CITY OF TACOMA - (WA)</td>\n",
       "    </tr>\n",
       "    <tr>\n",
       "      <th>2</th>\n",
       "      <td>98908.0</td>\n",
       "      <td>Yakima</td>\n",
       "      <td>Yakima</td>\n",
       "      <td>JEEP</td>\n",
       "      <td>GRAND CHEROKEE</td>\n",
       "      <td>Plug-in Hybrid Electric Vehicle (PHEV)</td>\n",
       "      <td>Not eligible due to low battery range</td>\n",
       "      <td>PACIFICORP</td>\n",
       "    </tr>\n",
       "    <tr>\n",
       "      <th>3</th>\n",
       "      <td>98034.0</td>\n",
       "      <td>King</td>\n",
       "      <td>Kirkland</td>\n",
       "      <td>TESLA</td>\n",
       "      <td>MODEL 3</td>\n",
       "      <td>Battery Electric Vehicle (BEV)</td>\n",
       "      <td>Clean Alternative Fuel Vehicle Eligible</td>\n",
       "      <td>PUGET SOUND ENERGY INC||CITY OF TACOMA - (WA)</td>\n",
       "    </tr>\n",
       "    <tr>\n",
       "      <th>4</th>\n",
       "      <td>98501.0</td>\n",
       "      <td>Thurston</td>\n",
       "      <td>Olympia</td>\n",
       "      <td>BMW</td>\n",
       "      <td>I3</td>\n",
       "      <td>Plug-in Hybrid Electric Vehicle (PHEV)</td>\n",
       "      <td>Clean Alternative Fuel Vehicle Eligible</td>\n",
       "      <td>PUGET SOUND ENERGY INC</td>\n",
       "    </tr>\n",
       "    <tr>\n",
       "      <th>...</th>\n",
       "      <td>...</td>\n",
       "      <td>...</td>\n",
       "      <td>...</td>\n",
       "      <td>...</td>\n",
       "      <td>...</td>\n",
       "      <td>...</td>\n",
       "      <td>...</td>\n",
       "      <td>...</td>\n",
       "    </tr>\n",
       "    <tr>\n",
       "      <th>150477</th>\n",
       "      <td>98563.0</td>\n",
       "      <td>Grays Harbor</td>\n",
       "      <td>Montesano</td>\n",
       "      <td>BMW</td>\n",
       "      <td>I4</td>\n",
       "      <td>Battery Electric Vehicle (BEV)</td>\n",
       "      <td>Eligibility unknown as battery range has not b...</td>\n",
       "      <td>BONNEVILLE POWER ADMINISTRATION||PUD NO 1 OF G...</td>\n",
       "    </tr>\n",
       "    <tr>\n",
       "      <th>150478</th>\n",
       "      <td>98104.0</td>\n",
       "      <td>King</td>\n",
       "      <td>Seattle</td>\n",
       "      <td>TESLA</td>\n",
       "      <td>MODEL 3</td>\n",
       "      <td>Battery Electric Vehicle (BEV)</td>\n",
       "      <td>Eligibility unknown as battery range has not b...</td>\n",
       "      <td>CITY OF SEATTLE - (WA)|CITY OF TACOMA - (WA)</td>\n",
       "    </tr>\n",
       "    <tr>\n",
       "      <th>150479</th>\n",
       "      <td>98109.0</td>\n",
       "      <td>King</td>\n",
       "      <td>Seattle</td>\n",
       "      <td>TESLA</td>\n",
       "      <td>MODEL Y</td>\n",
       "      <td>Battery Electric Vehicle (BEV)</td>\n",
       "      <td>Eligibility unknown as battery range has not b...</td>\n",
       "      <td>CITY OF SEATTLE - (WA)|CITY OF TACOMA - (WA)</td>\n",
       "    </tr>\n",
       "    <tr>\n",
       "      <th>150480</th>\n",
       "      <td>98043.0</td>\n",
       "      <td>Snohomish</td>\n",
       "      <td>Mountlake Terrace</td>\n",
       "      <td>BMW</td>\n",
       "      <td>X5</td>\n",
       "      <td>Plug-in Hybrid Electric Vehicle (PHEV)</td>\n",
       "      <td>Clean Alternative Fuel Vehicle Eligible</td>\n",
       "      <td>PUGET SOUND ENERGY INC</td>\n",
       "    </tr>\n",
       "    <tr>\n",
       "      <th>150481</th>\n",
       "      <td>98273.0</td>\n",
       "      <td>Skagit</td>\n",
       "      <td>Mount Vernon</td>\n",
       "      <td>TESLA</td>\n",
       "      <td>MODEL Y</td>\n",
       "      <td>Battery Electric Vehicle (BEV)</td>\n",
       "      <td>Eligibility unknown as battery range has not b...</td>\n",
       "      <td>PUGET SOUND ENERGY INC</td>\n",
       "    </tr>\n",
       "  </tbody>\n",
       "</table>\n",
       "<p>150141 rows × 8 columns</p>\n",
       "</div>"
      ],
      "text/plain": [
       "        Postal Code        County               City     Make           Model  \\\n",
       "0           98103.0          King            Seattle  HYUNDAI            KONA   \n",
       "1           98011.0          King            Bothell     JEEP  GRAND CHEROKEE   \n",
       "2           98908.0        Yakima             Yakima     JEEP  GRAND CHEROKEE   \n",
       "3           98034.0          King           Kirkland    TESLA         MODEL 3   \n",
       "4           98501.0      Thurston            Olympia      BMW              I3   \n",
       "...             ...           ...                ...      ...             ...   \n",
       "150477      98563.0  Grays Harbor          Montesano      BMW              I4   \n",
       "150478      98104.0          King            Seattle    TESLA         MODEL 3   \n",
       "150479      98109.0          King            Seattle    TESLA         MODEL Y   \n",
       "150480      98043.0     Snohomish  Mountlake Terrace      BMW              X5   \n",
       "150481      98273.0        Skagit       Mount Vernon    TESLA         MODEL Y   \n",
       "\n",
       "                         Electric Vehicle Type  \\\n",
       "0               Battery Electric Vehicle (BEV)   \n",
       "1       Plug-in Hybrid Electric Vehicle (PHEV)   \n",
       "2       Plug-in Hybrid Electric Vehicle (PHEV)   \n",
       "3               Battery Electric Vehicle (BEV)   \n",
       "4       Plug-in Hybrid Electric Vehicle (PHEV)   \n",
       "...                                        ...   \n",
       "150477          Battery Electric Vehicle (BEV)   \n",
       "150478          Battery Electric Vehicle (BEV)   \n",
       "150479          Battery Electric Vehicle (BEV)   \n",
       "150480  Plug-in Hybrid Electric Vehicle (PHEV)   \n",
       "150481          Battery Electric Vehicle (BEV)   \n",
       "\n",
       "        Clean Alternative Fuel Vehicle (CAFV) Eligibility  \\\n",
       "0                 Clean Alternative Fuel Vehicle Eligible   \n",
       "1                   Not eligible due to low battery range   \n",
       "2                   Not eligible due to low battery range   \n",
       "3                 Clean Alternative Fuel Vehicle Eligible   \n",
       "4                 Clean Alternative Fuel Vehicle Eligible   \n",
       "...                                                   ...   \n",
       "150477  Eligibility unknown as battery range has not b...   \n",
       "150478  Eligibility unknown as battery range has not b...   \n",
       "150479  Eligibility unknown as battery range has not b...   \n",
       "150480            Clean Alternative Fuel Vehicle Eligible   \n",
       "150481  Eligibility unknown as battery range has not b...   \n",
       "\n",
       "                                         Electric Utility  \n",
       "0            CITY OF SEATTLE - (WA)|CITY OF TACOMA - (WA)  \n",
       "1           PUGET SOUND ENERGY INC||CITY OF TACOMA - (WA)  \n",
       "2                                              PACIFICORP  \n",
       "3           PUGET SOUND ENERGY INC||CITY OF TACOMA - (WA)  \n",
       "4                                  PUGET SOUND ENERGY INC  \n",
       "...                                                   ...  \n",
       "150477  BONNEVILLE POWER ADMINISTRATION||PUD NO 1 OF G...  \n",
       "150478       CITY OF SEATTLE - (WA)|CITY OF TACOMA - (WA)  \n",
       "150479       CITY OF SEATTLE - (WA)|CITY OF TACOMA - (WA)  \n",
       "150480                             PUGET SOUND ENERGY INC  \n",
       "150481                             PUGET SOUND ENERGY INC  \n",
       "\n",
       "[150141 rows x 8 columns]"
      ]
     },
     "execution_count": 6,
     "metadata": {},
     "output_type": "execute_result"
    }
   ],
   "source": [
    "electric_vehicle_df"
   ]
  },
  {
   "cell_type": "code",
   "execution_count": 22,
   "metadata": {},
   "outputs": [
    {
     "name": "stdout",
     "output_type": "stream",
     "text": [
      "King            79075\n",
      "Snohomish       17307\n",
      "Pierce          11542\n",
      "Clark            8849\n",
      "Thurston         5403\n",
      "Kitsap           4923\n",
      "Spokane          3690\n",
      "Whatcom          3668\n",
      "Benton           1800\n",
      "Skagit           1658\n",
      "Island           1640\n",
      "Clallam           920\n",
      "Jefferson         875\n",
      "Chelan            863\n",
      "San Juan          844\n",
      "Yakima            835\n",
      "Cowlitz           762\n",
      "Mason             706\n",
      "Lewis             598\n",
      "Grays Harbor      533\n",
      "Franklin          511\n",
      "Kittitas          503\n",
      "Grant             452\n",
      "Walla Walla       360\n",
      "Douglas           294\n",
      "Whitman           262\n",
      "Klickitat         239\n",
      "Okanogan          211\n",
      "Stevens           193\n",
      "Pacific           177\n",
      "Skamania          164\n",
      "Asotin             63\n",
      "Wahkiakum          49\n",
      "Pend Oreille       47\n",
      "Adams              41\n",
      "Lincoln            39\n",
      "Ferry              24\n",
      "Columbia           18\n",
      "Garfield            3\n",
      "Name: County, dtype: int64\n"
     ]
    },
    {
     "data": {
      "image/png": "[encoded data removed]",
      "text/plain": [
       "<Figure size 640x480 with 1 Axes>"
      ]
     },
     "metadata": {},
     "output_type": "display_data"
    }
   ],
   "source": [
    "#Find counties with most amount of EV\n",
    "\n",
    "category_counts = electric_vehicle_df['County'].value_counts()\n",
    "print(category_counts)\n",
    "#Top 10 counties\n",
    "category_counts = category_counts.head(10)\n",
    "category_counts.plot(kind='bar')\n",
    "plt.xlabel('County')\n",
    "plt.ylabel('Count')\n",
    "plt.show()"
   ]
  },
  {
   "cell_type": "code",
   "execution_count": 73,
   "metadata": {},
   "outputs": [
    {
     "name": "stdout",
     "output_type": "stream",
     "text": [
      "Seattle      25675\n",
      "Bellevue      7690\n",
      "Redmond       5501\n",
      "Vancouver     5310\n",
      "Bothell       4861\n",
      "             ...  \n",
      "Beaver           1\n",
      "Rosburg          1\n",
      "Startup          1\n",
      "Alderdale        1\n",
      "Hamilton         1\n",
      "Name: City, Length: 461, dtype: int64\n"
     ]
    },
    {
     "data": {
      "image/png": "[encoded data removed]",
      "text/plain": [
       "<Figure size 640x480 with 1 Axes>"
      ]
     },
     "metadata": {},
     "output_type": "display_data"
    }
   ],
   "source": [
    "#Find counties with most amount of EV\n",
    "\n",
    "category_counts = electric_vehicle_df['City'].value_counts()\n",
    "print(category_counts)\n",
    "#Top 10 counties\n",
    "category_counts = category_counts.head(10)\n",
    "category_counts.plot(kind='bar')\n",
    "plt.xlabel('City')\n",
    "plt.ylabel('Count')\n",
    "plt.show()"
   ]
  },
  {
   "cell_type": "code",
   "execution_count": 28,
   "metadata": {},
   "outputs": [
    {
     "name": "stdout",
     "output_type": "stream",
     "text": [
      "Eligibility unknown as battery range has not been researched    69581\n",
      "Clean Alternative Fuel Vehicle Eligible                         62793\n",
      "Not eligible due to low battery range                           17767\n",
      "Name: Clean Alternative Fuel Vehicle (CAFV) Eligibility, dtype: int64\n"
     ]
    },
    {
     "data": {
      "image/png": "[encoded data removed]",
      "text/plain": [
       "<Figure size 640x480 with 1 Axes>"
      ]
     },
     "metadata": {},
     "output_type": "display_data"
    }
   ],
   "source": [
    "#Quantify amount of Alt Fuel Vehicles\n",
    "\n",
    "category_counts = electric_vehicle_df['Clean Alternative Fuel Vehicle (CAFV) Eligibility'].value_counts()\n",
    "print(category_counts)\n",
    "category_counts.plot(kind='bar')\n",
    "plt.xlabel('Eligibility of Clean Fuel Vehicle')\n",
    "plt.ylabel('Count')\n",
    "plt.show()"
   ]
  },
  {
   "cell_type": "markdown",
   "metadata": {},
   "source": [
    "# Explore Washington Income Data"
   ]
  },
  {
   "cell_type": "code",
   "execution_count": 29,
   "metadata": {},
   "outputs": [
    {
     "data": {
      "text/html": [
       "<div>\n",
       "<style scoped>\n",
       "    .dataframe tbody tr th:only-of-type {\n",
       "        vertical-align: middle;\n",
       "    }\n",
       "\n",
       "    .dataframe tbody tr th {\n",
       "        vertical-align: top;\n",
       "    }\n",
       "\n",
       "    .dataframe thead th {\n",
       "        text-align: right;\n",
       "    }\n",
       "</style>\n",
       "<table border=\"1\" class=\"dataframe\">\n",
       "  <thead>\n",
       "    <tr style=\"text-align: right;\">\n",
       "      <th>Year</th>\n",
       "      <th>Adams</th>\n",
       "      <th>Asotin</th>\n",
       "      <th>Benton</th>\n",
       "      <th>Chelan</th>\n",
       "      <th>Clallam</th>\n",
       "      <th>Clark</th>\n",
       "      <th>Columbia</th>\n",
       "      <th>Cowlitz</th>\n",
       "      <th>Douglas</th>\n",
       "      <th>Ferry</th>\n",
       "      <th>...</th>\n",
       "      <th>Skamania</th>\n",
       "      <th>Snohomish</th>\n",
       "      <th>Spokane</th>\n",
       "      <th>Stevens</th>\n",
       "      <th>Thurston</th>\n",
       "      <th>Wahkiakum</th>\n",
       "      <th>Walla Walla</th>\n",
       "      <th>Whatcom</th>\n",
       "      <th>Whitman</th>\n",
       "      <th>Yakima</th>\n",
       "    </tr>\n",
       "  </thead>\n",
       "  <tbody>\n",
       "    <tr>\n",
       "      <th>1989</th>\n",
       "      <td>24604.0</td>\n",
       "      <td>22897.0</td>\n",
       "      <td>32593.0</td>\n",
       "      <td>24312.0</td>\n",
       "      <td>25434.0</td>\n",
       "      <td>31800.0</td>\n",
       "      <td>22418.0</td>\n",
       "      <td>27866.0</td>\n",
       "      <td>27054.0</td>\n",
       "      <td>25170.0</td>\n",
       "      <td>...</td>\n",
       "      <td>28778.0</td>\n",
       "      <td>36847.0</td>\n",
       "      <td>25769.0</td>\n",
       "      <td>24440.0</td>\n",
       "      <td>30976.0</td>\n",
       "      <td>26969.0</td>\n",
       "      <td>24414.0</td>\n",
       "      <td>28367.0</td>\n",
       "      <td>21674.0</td>\n",
       "      <td>23612.0</td>\n",
       "    </tr>\n",
       "    <tr>\n",
       "      <th>1990</th>\n",
       "      <td>28024.0</td>\n",
       "      <td>24206.0</td>\n",
       "      <td>35012.0</td>\n",
       "      <td>25833.0</td>\n",
       "      <td>27329.0</td>\n",
       "      <td>33734.0</td>\n",
       "      <td>24478.0</td>\n",
       "      <td>29746.0</td>\n",
       "      <td>28708.0</td>\n",
       "      <td>27355.0</td>\n",
       "      <td>...</td>\n",
       "      <td>31368.0</td>\n",
       "      <td>38820.0</td>\n",
       "      <td>27337.0</td>\n",
       "      <td>25609.0</td>\n",
       "      <td>33139.0</td>\n",
       "      <td>28590.0</td>\n",
       "      <td>25808.0</td>\n",
       "      <td>31097.0</td>\n",
       "      <td>22949.0</td>\n",
       "      <td>25484.0</td>\n",
       "    </tr>\n",
       "    <tr>\n",
       "      <th>1991</th>\n",
       "      <td>27301.0</td>\n",
       "      <td>25110.0</td>\n",
       "      <td>37093.0</td>\n",
       "      <td>27592.0</td>\n",
       "      <td>27861.0</td>\n",
       "      <td>34250.0</td>\n",
       "      <td>24123.0</td>\n",
       "      <td>31038.0</td>\n",
       "      <td>29407.0</td>\n",
       "      <td>27236.0</td>\n",
       "      <td>...</td>\n",
       "      <td>31000.0</td>\n",
       "      <td>39868.0</td>\n",
       "      <td>28355.0</td>\n",
       "      <td>26482.0</td>\n",
       "      <td>34851.0</td>\n",
       "      <td>28459.0</td>\n",
       "      <td>26242.0</td>\n",
       "      <td>31953.0</td>\n",
       "      <td>23735.0</td>\n",
       "      <td>25866.0</td>\n",
       "    </tr>\n",
       "    <tr>\n",
       "      <th>1992</th>\n",
       "      <td>28328.0</td>\n",
       "      <td>26251.0</td>\n",
       "      <td>39228.0</td>\n",
       "      <td>28746.0</td>\n",
       "      <td>28578.0</td>\n",
       "      <td>35847.0</td>\n",
       "      <td>26136.0</td>\n",
       "      <td>31195.0</td>\n",
       "      <td>30932.0</td>\n",
       "      <td>27841.0</td>\n",
       "      <td>...</td>\n",
       "      <td>31833.0</td>\n",
       "      <td>41670.0</td>\n",
       "      <td>29570.0</td>\n",
       "      <td>27519.0</td>\n",
       "      <td>36676.0</td>\n",
       "      <td>29655.0</td>\n",
       "      <td>27647.0</td>\n",
       "      <td>32599.0</td>\n",
       "      <td>24389.0</td>\n",
       "      <td>27085.0</td>\n",
       "    </tr>\n",
       "    <tr>\n",
       "      <th>1993</th>\n",
       "      <td>31277.0</td>\n",
       "      <td>27359.0</td>\n",
       "      <td>41153.0</td>\n",
       "      <td>30148.0</td>\n",
       "      <td>29340.0</td>\n",
       "      <td>37418.0</td>\n",
       "      <td>28123.0</td>\n",
       "      <td>31957.0</td>\n",
       "      <td>31855.0</td>\n",
       "      <td>27829.0</td>\n",
       "      <td>...</td>\n",
       "      <td>32283.0</td>\n",
       "      <td>42418.0</td>\n",
       "      <td>30482.0</td>\n",
       "      <td>28818.0</td>\n",
       "      <td>37766.0</td>\n",
       "      <td>31076.0</td>\n",
       "      <td>28902.0</td>\n",
       "      <td>32958.0</td>\n",
       "      <td>25162.0</td>\n",
       "      <td>28079.0</td>\n",
       "    </tr>\n",
       "    <tr>\n",
       "      <th>1994</th>\n",
       "      <td>29537.0</td>\n",
       "      <td>27873.0</td>\n",
       "      <td>42790.0</td>\n",
       "      <td>31547.0</td>\n",
       "      <td>29951.0</td>\n",
       "      <td>38828.0</td>\n",
       "      <td>26779.0</td>\n",
       "      <td>33309.0</td>\n",
       "      <td>32688.0</td>\n",
       "      <td>29587.0</td>\n",
       "      <td>...</td>\n",
       "      <td>33401.0</td>\n",
       "      <td>43741.0</td>\n",
       "      <td>31631.0</td>\n",
       "      <td>29854.0</td>\n",
       "      <td>38939.0</td>\n",
       "      <td>31298.0</td>\n",
       "      <td>30152.0</td>\n",
       "      <td>34031.0</td>\n",
       "      <td>25134.0</td>\n",
       "      <td>29164.0</td>\n",
       "    </tr>\n",
       "    <tr>\n",
       "      <th>1995</th>\n",
       "      <td>29604.0</td>\n",
       "      <td>28288.0</td>\n",
       "      <td>42540.0</td>\n",
       "      <td>32164.0</td>\n",
       "      <td>31163.0</td>\n",
       "      <td>40525.0</td>\n",
       "      <td>29861.0</td>\n",
       "      <td>34191.0</td>\n",
       "      <td>32930.0</td>\n",
       "      <td>28910.0</td>\n",
       "      <td>...</td>\n",
       "      <td>33364.0</td>\n",
       "      <td>44994.0</td>\n",
       "      <td>32256.0</td>\n",
       "      <td>29783.0</td>\n",
       "      <td>39971.0</td>\n",
       "      <td>32688.0</td>\n",
       "      <td>31014.0</td>\n",
       "      <td>34893.0</td>\n",
       "      <td>26270.0</td>\n",
       "      <td>29717.0</td>\n",
       "    </tr>\n",
       "    <tr>\n",
       "      <th>1996</th>\n",
       "      <td>31806.0</td>\n",
       "      <td>29813.0</td>\n",
       "      <td>42817.0</td>\n",
       "      <td>33918.0</td>\n",
       "      <td>32559.0</td>\n",
       "      <td>43044.0</td>\n",
       "      <td>33041.0</td>\n",
       "      <td>35516.0</td>\n",
       "      <td>35420.0</td>\n",
       "      <td>30091.0</td>\n",
       "      <td>...</td>\n",
       "      <td>36619.0</td>\n",
       "      <td>47416.0</td>\n",
       "      <td>33517.0</td>\n",
       "      <td>30759.0</td>\n",
       "      <td>41497.0</td>\n",
       "      <td>34014.0</td>\n",
       "      <td>32957.0</td>\n",
       "      <td>36492.0</td>\n",
       "      <td>27838.0</td>\n",
       "      <td>31442.0</td>\n",
       "    </tr>\n",
       "    <tr>\n",
       "      <th>1997</th>\n",
       "      <td>31795.0</td>\n",
       "      <td>31499.0</td>\n",
       "      <td>44057.0</td>\n",
       "      <td>35662.0</td>\n",
       "      <td>34770.0</td>\n",
       "      <td>45705.0</td>\n",
       "      <td>30820.0</td>\n",
       "      <td>36738.0</td>\n",
       "      <td>36855.0</td>\n",
       "      <td>30489.0</td>\n",
       "      <td>...</td>\n",
       "      <td>37409.0</td>\n",
       "      <td>50680.0</td>\n",
       "      <td>34920.0</td>\n",
       "      <td>32435.0</td>\n",
       "      <td>43748.0</td>\n",
       "      <td>36566.0</td>\n",
       "      <td>34094.0</td>\n",
       "      <td>37553.0</td>\n",
       "      <td>28697.0</td>\n",
       "      <td>32946.0</td>\n",
       "    </tr>\n",
       "    <tr>\n",
       "      <th>1998</th>\n",
       "      <td>34073.0</td>\n",
       "      <td>32477.0</td>\n",
       "      <td>45665.0</td>\n",
       "      <td>37175.0</td>\n",
       "      <td>36012.0</td>\n",
       "      <td>47252.0</td>\n",
       "      <td>33060.0</td>\n",
       "      <td>38437.0</td>\n",
       "      <td>37733.0</td>\n",
       "      <td>30412.0</td>\n",
       "      <td>...</td>\n",
       "      <td>38194.0</td>\n",
       "      <td>52342.0</td>\n",
       "      <td>36389.0</td>\n",
       "      <td>33851.0</td>\n",
       "      <td>45843.0</td>\n",
       "      <td>38626.0</td>\n",
       "      <td>35688.0</td>\n",
       "      <td>39188.0</td>\n",
       "      <td>29174.0</td>\n",
       "      <td>34649.0</td>\n",
       "    </tr>\n",
       "    <tr>\n",
       "      <th>1999</th>\n",
       "      <td>33888.0</td>\n",
       "      <td>33524.0</td>\n",
       "      <td>47044.0</td>\n",
       "      <td>37316.0</td>\n",
       "      <td>36449.0</td>\n",
       "      <td>48376.0</td>\n",
       "      <td>33500.0</td>\n",
       "      <td>39797.0</td>\n",
       "      <td>38464.0</td>\n",
       "      <td>30388.0</td>\n",
       "      <td>...</td>\n",
       "      <td>39317.0</td>\n",
       "      <td>53060.0</td>\n",
       "      <td>37308.0</td>\n",
       "      <td>34673.0</td>\n",
       "      <td>46975.0</td>\n",
       "      <td>39444.0</td>\n",
       "      <td>35900.0</td>\n",
       "      <td>40005.0</td>\n",
       "      <td>28584.0</td>\n",
       "      <td>34828.0</td>\n",
       "    </tr>\n",
       "    <tr>\n",
       "      <th>2000</th>\n",
       "      <td>35292.0</td>\n",
       "      <td>32590.0</td>\n",
       "      <td>49389.0</td>\n",
       "      <td>39439.0</td>\n",
       "      <td>30866.0</td>\n",
       "      <td>49320.0</td>\n",
       "      <td>37360.0</td>\n",
       "      <td>35246.0</td>\n",
       "      <td>39789.0</td>\n",
       "      <td>31175.0</td>\n",
       "      <td>...</td>\n",
       "      <td>40389.0</td>\n",
       "      <td>50870.0</td>\n",
       "      <td>39401.0</td>\n",
       "      <td>33370.0</td>\n",
       "      <td>48457.0</td>\n",
       "      <td>40628.0</td>\n",
       "      <td>34533.0</td>\n",
       "      <td>37044.0</td>\n",
       "      <td>24596.0</td>\n",
       "      <td>34630.0</td>\n",
       "    </tr>\n",
       "    <tr>\n",
       "      <th>2001</th>\n",
       "      <td>37839.0</td>\n",
       "      <td>35920.0</td>\n",
       "      <td>52598.0</td>\n",
       "      <td>41653.0</td>\n",
       "      <td>32939.0</td>\n",
       "      <td>51610.0</td>\n",
       "      <td>38376.0</td>\n",
       "      <td>37266.0</td>\n",
       "      <td>40699.0</td>\n",
       "      <td>33129.0</td>\n",
       "      <td>...</td>\n",
       "      <td>41395.0</td>\n",
       "      <td>52935.0</td>\n",
       "      <td>40525.0</td>\n",
       "      <td>35256.0</td>\n",
       "      <td>50885.0</td>\n",
       "      <td>42972.0</td>\n",
       "      <td>36943.0</td>\n",
       "      <td>39301.0</td>\n",
       "      <td>24841.0</td>\n",
       "      <td>36037.0</td>\n",
       "    </tr>\n",
       "    <tr>\n",
       "      <th>2002</th>\n",
       "      <td>38306.0</td>\n",
       "      <td>37013.0</td>\n",
       "      <td>53736.0</td>\n",
       "      <td>41731.0</td>\n",
       "      <td>33229.0</td>\n",
       "      <td>50518.0</td>\n",
       "      <td>37328.0</td>\n",
       "      <td>37040.0</td>\n",
       "      <td>41062.0</td>\n",
       "      <td>33488.0</td>\n",
       "      <td>...</td>\n",
       "      <td>41123.0</td>\n",
       "      <td>53174.0</td>\n",
       "      <td>40872.0</td>\n",
       "      <td>35074.0</td>\n",
       "      <td>51111.0</td>\n",
       "      <td>42491.0</td>\n",
       "      <td>36443.0</td>\n",
       "      <td>39568.0</td>\n",
       "      <td>24805.0</td>\n",
       "      <td>36141.0</td>\n",
       "    </tr>\n",
       "    <tr>\n",
       "      <th>2003</th>\n",
       "      <td>38934.0</td>\n",
       "      <td>37080.0</td>\n",
       "      <td>55409.0</td>\n",
       "      <td>42918.0</td>\n",
       "      <td>34020.0</td>\n",
       "      <td>50520.0</td>\n",
       "      <td>37593.0</td>\n",
       "      <td>36516.0</td>\n",
       "      <td>41809.0</td>\n",
       "      <td>33182.0</td>\n",
       "      <td>...</td>\n",
       "      <td>41984.0</td>\n",
       "      <td>54563.0</td>\n",
       "      <td>42533.0</td>\n",
       "      <td>35824.0</td>\n",
       "      <td>51243.0</td>\n",
       "      <td>44243.0</td>\n",
       "      <td>37184.0</td>\n",
       "      <td>40486.0</td>\n",
       "      <td>25869.0</td>\n",
       "      <td>38095.0</td>\n",
       "    </tr>\n",
       "    <tr>\n",
       "      <th>2004</th>\n",
       "      <td>39235.0</td>\n",
       "      <td>37140.0</td>\n",
       "      <td>57613.0</td>\n",
       "      <td>43696.0</td>\n",
       "      <td>34172.0</td>\n",
       "      <td>50474.0</td>\n",
       "      <td>37341.0</td>\n",
       "      <td>36355.0</td>\n",
       "      <td>42524.0</td>\n",
       "      <td>33867.0</td>\n",
       "      <td>...</td>\n",
       "      <td>43048.0</td>\n",
       "      <td>56736.0</td>\n",
       "      <td>44836.0</td>\n",
       "      <td>36591.0</td>\n",
       "      <td>52043.0</td>\n",
       "      <td>43526.0</td>\n",
       "      <td>37885.0</td>\n",
       "      <td>41151.0</td>\n",
       "      <td>26752.0</td>\n",
       "      <td>39394.0</td>\n",
       "    </tr>\n",
       "    <tr>\n",
       "      <th>2005</th>\n",
       "      <td>39105.0</td>\n",
       "      <td>37657.0</td>\n",
       "      <td>56200.0</td>\n",
       "      <td>44422.0</td>\n",
       "      <td>35050.0</td>\n",
       "      <td>52108.0</td>\n",
       "      <td>36028.0</td>\n",
       "      <td>37958.0</td>\n",
       "      <td>43189.0</td>\n",
       "      <td>34452.0</td>\n",
       "      <td>...</td>\n",
       "      <td>46392.0</td>\n",
       "      <td>58353.0</td>\n",
       "      <td>44538.0</td>\n",
       "      <td>37712.0</td>\n",
       "      <td>54914.0</td>\n",
       "      <td>44188.0</td>\n",
       "      <td>38523.0</td>\n",
       "      <td>43372.0</td>\n",
       "      <td>26788.0</td>\n",
       "      <td>37968.0</td>\n",
       "    </tr>\n",
       "    <tr>\n",
       "      <th>2006</th>\n",
       "      <td>41298.0</td>\n",
       "      <td>39768.0</td>\n",
       "      <td>54942.0</td>\n",
       "      <td>46522.0</td>\n",
       "      <td>37770.0</td>\n",
       "      <td>56994.0</td>\n",
       "      <td>37211.0</td>\n",
       "      <td>39777.0</td>\n",
       "      <td>45383.0</td>\n",
       "      <td>34828.0</td>\n",
       "      <td>...</td>\n",
       "      <td>49448.0</td>\n",
       "      <td>60975.0</td>\n",
       "      <td>45753.0</td>\n",
       "      <td>39641.0</td>\n",
       "      <td>57985.0</td>\n",
       "      <td>46485.0</td>\n",
       "      <td>40600.0</td>\n",
       "      <td>46879.0</td>\n",
       "      <td>28303.0</td>\n",
       "      <td>37576.0</td>\n",
       "    </tr>\n",
       "    <tr>\n",
       "      <th>2007</th>\n",
       "      <td>42299.0</td>\n",
       "      <td>40558.0</td>\n",
       "      <td>55361.0</td>\n",
       "      <td>44964.0</td>\n",
       "      <td>37926.0</td>\n",
       "      <td>57621.0</td>\n",
       "      <td>41531.0</td>\n",
       "      <td>39954.0</td>\n",
       "      <td>45748.0</td>\n",
       "      <td>37001.0</td>\n",
       "      <td>...</td>\n",
       "      <td>52478.0</td>\n",
       "      <td>63682.0</td>\n",
       "      <td>47848.0</td>\n",
       "      <td>41484.0</td>\n",
       "      <td>60576.0</td>\n",
       "      <td>47888.0</td>\n",
       "      <td>43995.0</td>\n",
       "      <td>49778.0</td>\n",
       "      <td>31302.0</td>\n",
       "      <td>41224.0</td>\n",
       "    </tr>\n",
       "    <tr>\n",
       "      <th>2008</th>\n",
       "      <td>42455.0</td>\n",
       "      <td>42945.0</td>\n",
       "      <td>57114.0</td>\n",
       "      <td>44013.0</td>\n",
       "      <td>40912.0</td>\n",
       "      <td>57999.0</td>\n",
       "      <td>43508.0</td>\n",
       "      <td>41412.0</td>\n",
       "      <td>48325.0</td>\n",
       "      <td>38093.0</td>\n",
       "      <td>...</td>\n",
       "      <td>53983.0</td>\n",
       "      <td>64289.0</td>\n",
       "      <td>48876.0</td>\n",
       "      <td>42573.0</td>\n",
       "      <td>63009.0</td>\n",
       "      <td>47008.0</td>\n",
       "      <td>44940.0</td>\n",
       "      <td>50443.0</td>\n",
       "      <td>32604.0</td>\n",
       "      <td>43692.0</td>\n",
       "    </tr>\n",
       "    <tr>\n",
       "      <th>2009</th>\n",
       "      <td>41102.0</td>\n",
       "      <td>40035.0</td>\n",
       "      <td>58496.0</td>\n",
       "      <td>46780.0</td>\n",
       "      <td>38647.0</td>\n",
       "      <td>54370.0</td>\n",
       "      <td>39978.0</td>\n",
       "      <td>40572.0</td>\n",
       "      <td>46269.0</td>\n",
       "      <td>38284.0</td>\n",
       "      <td>...</td>\n",
       "      <td>52241.0</td>\n",
       "      <td>63297.0</td>\n",
       "      <td>46983.0</td>\n",
       "      <td>41619.0</td>\n",
       "      <td>60978.0</td>\n",
       "      <td>44867.0</td>\n",
       "      <td>44267.0</td>\n",
       "      <td>49761.0</td>\n",
       "      <td>32037.0</td>\n",
       "      <td>39836.0</td>\n",
       "    </tr>\n",
       "    <tr>\n",
       "      <th>2010</th>\n",
       "      <td>40656.0</td>\n",
       "      <td>39820.0</td>\n",
       "      <td>60070.0</td>\n",
       "      <td>45478.0</td>\n",
       "      <td>38397.0</td>\n",
       "      <td>54581.0</td>\n",
       "      <td>38474.0</td>\n",
       "      <td>40867.0</td>\n",
       "      <td>46159.0</td>\n",
       "      <td>36712.0</td>\n",
       "      <td>...</td>\n",
       "      <td>50862.0</td>\n",
       "      <td>62034.0</td>\n",
       "      <td>46320.0</td>\n",
       "      <td>40008.0</td>\n",
       "      <td>60038.0</td>\n",
       "      <td>44492.0</td>\n",
       "      <td>44117.0</td>\n",
       "      <td>49294.0</td>\n",
       "      <td>31062.0</td>\n",
       "      <td>40802.0</td>\n",
       "    </tr>\n",
       "    <tr>\n",
       "      <th>2011</th>\n",
       "      <td>41068.0</td>\n",
       "      <td>40171.0</td>\n",
       "      <td>60608.0</td>\n",
       "      <td>46275.0</td>\n",
       "      <td>38886.0</td>\n",
       "      <td>54951.0</td>\n",
       "      <td>38916.0</td>\n",
       "      <td>41406.0</td>\n",
       "      <td>46723.0</td>\n",
       "      <td>36921.0</td>\n",
       "      <td>...</td>\n",
       "      <td>51223.0</td>\n",
       "      <td>62687.0</td>\n",
       "      <td>46846.0</td>\n",
       "      <td>40282.0</td>\n",
       "      <td>60621.0</td>\n",
       "      <td>45083.0</td>\n",
       "      <td>44606.0</td>\n",
       "      <td>49775.0</td>\n",
       "      <td>31396.0</td>\n",
       "      <td>41164.0</td>\n",
       "    </tr>\n",
       "    <tr>\n",
       "      <th>2012</th>\n",
       "      <td>42354.0</td>\n",
       "      <td>41703.0</td>\n",
       "      <td>62739.0</td>\n",
       "      <td>47265.0</td>\n",
       "      <td>41887.0</td>\n",
       "      <td>56054.0</td>\n",
       "      <td>39461.0</td>\n",
       "      <td>42752.0</td>\n",
       "      <td>48050.0</td>\n",
       "      <td>37548.0</td>\n",
       "      <td>...</td>\n",
       "      <td>52401.0</td>\n",
       "      <td>64033.0</td>\n",
       "      <td>48265.0</td>\n",
       "      <td>41643.0</td>\n",
       "      <td>62009.0</td>\n",
       "      <td>45624.0</td>\n",
       "      <td>46147.0</td>\n",
       "      <td>51268.0</td>\n",
       "      <td>32570.0</td>\n",
       "      <td>42162.0</td>\n",
       "    </tr>\n",
       "    <tr>\n",
       "      <th>2013</th>\n",
       "      <td>43541.0</td>\n",
       "      <td>42174.0</td>\n",
       "      <td>63710.0</td>\n",
       "      <td>51713.0</td>\n",
       "      <td>44824.0</td>\n",
       "      <td>57852.0</td>\n",
       "      <td>39931.0</td>\n",
       "      <td>43409.0</td>\n",
       "      <td>49030.0</td>\n",
       "      <td>39596.0</td>\n",
       "      <td>...</td>\n",
       "      <td>51716.0</td>\n",
       "      <td>64391.0</td>\n",
       "      <td>48312.0</td>\n",
       "      <td>45528.0</td>\n",
       "      <td>63408.0</td>\n",
       "      <td>43140.0</td>\n",
       "      <td>47238.0</td>\n",
       "      <td>50879.0</td>\n",
       "      <td>43091.0</td>\n",
       "      <td>40696.0</td>\n",
       "    </tr>\n",
       "    <tr>\n",
       "      <th>2014</th>\n",
       "      <td>45712.0</td>\n",
       "      <td>43368.0</td>\n",
       "      <td>63157.0</td>\n",
       "      <td>50825.0</td>\n",
       "      <td>45454.0</td>\n",
       "      <td>61711.0</td>\n",
       "      <td>42886.0</td>\n",
       "      <td>39635.0</td>\n",
       "      <td>50878.0</td>\n",
       "      <td>41343.0</td>\n",
       "      <td>...</td>\n",
       "      <td>51429.0</td>\n",
       "      <td>68637.0</td>\n",
       "      <td>50856.0</td>\n",
       "      <td>45683.0</td>\n",
       "      <td>65288.0</td>\n",
       "      <td>47174.0</td>\n",
       "      <td>50835.0</td>\n",
       "      <td>53481.0</td>\n",
       "      <td>42218.0</td>\n",
       "      <td>43050.0</td>\n",
       "    </tr>\n",
       "    <tr>\n",
       "      <th>2015</th>\n",
       "      <td>47646.0</td>\n",
       "      <td>46107.0</td>\n",
       "      <td>62071.0</td>\n",
       "      <td>53068.0</td>\n",
       "      <td>46241.0</td>\n",
       "      <td>63639.0</td>\n",
       "      <td>39807.0</td>\n",
       "      <td>49997.0</td>\n",
       "      <td>50886.0</td>\n",
       "      <td>40340.0</td>\n",
       "      <td>...</td>\n",
       "      <td>53196.0</td>\n",
       "      <td>75292.0</td>\n",
       "      <td>48189.0</td>\n",
       "      <td>42417.0</td>\n",
       "      <td>61676.0</td>\n",
       "      <td>49898.0</td>\n",
       "      <td>49619.0</td>\n",
       "      <td>54522.0</td>\n",
       "      <td>43379.0</td>\n",
       "      <td>46422.0</td>\n",
       "    </tr>\n",
       "    <tr>\n",
       "      <th>2016</th>\n",
       "      <td>49501.0</td>\n",
       "      <td>47020.0</td>\n",
       "      <td>62282.0</td>\n",
       "      <td>55109.0</td>\n",
       "      <td>48187.0</td>\n",
       "      <td>66782.0</td>\n",
       "      <td>41517.0</td>\n",
       "      <td>48208.0</td>\n",
       "      <td>52364.0</td>\n",
       "      <td>42330.0</td>\n",
       "      <td>...</td>\n",
       "      <td>52700.0</td>\n",
       "      <td>77985.0</td>\n",
       "      <td>49482.0</td>\n",
       "      <td>44467.0</td>\n",
       "      <td>63286.0</td>\n",
       "      <td>50872.0</td>\n",
       "      <td>52094.0</td>\n",
       "      <td>55710.0</td>\n",
       "      <td>49946.0</td>\n",
       "      <td>46957.0</td>\n",
       "    </tr>\n",
       "    <tr>\n",
       "      <th>2017</th>\n",
       "      <td>48849.0</td>\n",
       "      <td>51767.0</td>\n",
       "      <td>63502.0</td>\n",
       "      <td>60791.0</td>\n",
       "      <td>47767.0</td>\n",
       "      <td>71922.0</td>\n",
       "      <td>43622.0</td>\n",
       "      <td>47132.0</td>\n",
       "      <td>54581.0</td>\n",
       "      <td>45546.0</td>\n",
       "      <td>...</td>\n",
       "      <td>56324.0</td>\n",
       "      <td>81779.0</td>\n",
       "      <td>49954.0</td>\n",
       "      <td>45189.0</td>\n",
       "      <td>68765.0</td>\n",
       "      <td>50433.0</td>\n",
       "      <td>52721.0</td>\n",
       "      <td>60028.0</td>\n",
       "      <td>52543.0</td>\n",
       "      <td>46316.0</td>\n",
       "    </tr>\n",
       "    <tr>\n",
       "      <th>2018</th>\n",
       "      <td>52870.0</td>\n",
       "      <td>50746.0</td>\n",
       "      <td>67912.0</td>\n",
       "      <td>60747.0</td>\n",
       "      <td>55664.0</td>\n",
       "      <td>71659.0</td>\n",
       "      <td>46550.0</td>\n",
       "      <td>54588.0</td>\n",
       "      <td>65913.0</td>\n",
       "      <td>42212.0</td>\n",
       "      <td>...</td>\n",
       "      <td>60767.0</td>\n",
       "      <td>86435.0</td>\n",
       "      <td>55535.0</td>\n",
       "      <td>44363.0</td>\n",
       "      <td>69757.0</td>\n",
       "      <td>52309.0</td>\n",
       "      <td>55721.0</td>\n",
       "      <td>61244.0</td>\n",
       "      <td>53100.0</td>\n",
       "      <td>50019.0</td>\n",
       "    </tr>\n",
       "    <tr>\n",
       "      <th>2019</th>\n",
       "      <td>53535.0</td>\n",
       "      <td>54776.0</td>\n",
       "      <td>72847.0</td>\n",
       "      <td>59838.0</td>\n",
       "      <td>57571.0</td>\n",
       "      <td>80407.0</td>\n",
       "      <td>56338.0</td>\n",
       "      <td>57316.0</td>\n",
       "      <td>63086.0</td>\n",
       "      <td>47463.0</td>\n",
       "      <td>...</td>\n",
       "      <td>69163.0</td>\n",
       "      <td>89119.0</td>\n",
       "      <td>59976.0</td>\n",
       "      <td>55000.0</td>\n",
       "      <td>77890.0</td>\n",
       "      <td>61123.0</td>\n",
       "      <td>60202.0</td>\n",
       "      <td>68656.0</td>\n",
       "      <td>45906.0</td>\n",
       "      <td>55674.0</td>\n",
       "    </tr>\n",
       "    <tr>\n",
       "      <th>2020</th>\n",
       "      <td>56421.0</td>\n",
       "      <td>53377.0</td>\n",
       "      <td>75882.0</td>\n",
       "      <td>61546.0</td>\n",
       "      <td>54712.0</td>\n",
       "      <td>76929.0</td>\n",
       "      <td>58220.0</td>\n",
       "      <td>64357.0</td>\n",
       "      <td>64768.0</td>\n",
       "      <td>47722.0</td>\n",
       "      <td>...</td>\n",
       "      <td>68501.0</td>\n",
       "      <td>93589.0</td>\n",
       "      <td>60827.0</td>\n",
       "      <td>50958.0</td>\n",
       "      <td>79769.0</td>\n",
       "      <td>62099.0</td>\n",
       "      <td>61281.0</td>\n",
       "      <td>70463.0</td>\n",
       "      <td>52066.0</td>\n",
       "      <td>56353.0</td>\n",
       "    </tr>\n",
       "    <tr>\n",
       "      <th>2021</th>\n",
       "      <td>57405.0</td>\n",
       "      <td>56438.0</td>\n",
       "      <td>77339.0</td>\n",
       "      <td>64700.0</td>\n",
       "      <td>62623.0</td>\n",
       "      <td>83790.0</td>\n",
       "      <td>59650.0</td>\n",
       "      <td>70104.0</td>\n",
       "      <td>64932.0</td>\n",
       "      <td>50565.0</td>\n",
       "      <td>...</td>\n",
       "      <td>75158.0</td>\n",
       "      <td>99650.0</td>\n",
       "      <td>65571.0</td>\n",
       "      <td>60180.0</td>\n",
       "      <td>81544.0</td>\n",
       "      <td>64777.0</td>\n",
       "      <td>63631.0</td>\n",
       "      <td>71739.0</td>\n",
       "      <td>53140.0</td>\n",
       "      <td>60058.0</td>\n",
       "    </tr>\n",
       "    <tr>\n",
       "      <th>2022</th>\n",
       "      <td>58406.0</td>\n",
       "      <td>59675.0</td>\n",
       "      <td>78824.0</td>\n",
       "      <td>68016.0</td>\n",
       "      <td>65652.0</td>\n",
       "      <td>87397.0</td>\n",
       "      <td>61115.0</td>\n",
       "      <td>76364.0</td>\n",
       "      <td>65096.0</td>\n",
       "      <td>53577.0</td>\n",
       "      <td>...</td>\n",
       "      <td>82462.0</td>\n",
       "      <td>106104.0</td>\n",
       "      <td>70685.0</td>\n",
       "      <td>63241.0</td>\n",
       "      <td>83358.0</td>\n",
       "      <td>67570.0</td>\n",
       "      <td>66071.0</td>\n",
       "      <td>73038.0</td>\n",
       "      <td>54236.0</td>\n",
       "      <td>64007.0</td>\n",
       "    </tr>\n",
       "  </tbody>\n",
       "</table>\n",
       "<p>34 rows × 39 columns</p>\n",
       "</div>"
      ],
      "text/plain": [
       "Year    Adams   Asotin   Benton   Chelan  Clallam    Clark Columbia  Cowlitz  \\\n",
       "1989  24604.0  22897.0  32593.0  24312.0  25434.0  31800.0  22418.0  27866.0   \n",
       "1990  28024.0  24206.0  35012.0  25833.0  27329.0  33734.0  24478.0  29746.0   \n",
       "1991  27301.0  25110.0  37093.0  27592.0  27861.0  34250.0  24123.0  31038.0   \n",
       "1992  28328.0  26251.0  39228.0  28746.0  28578.0  35847.0  26136.0  31195.0   \n",
       "1993  31277.0  27359.0  41153.0  30148.0  29340.0  37418.0  28123.0  31957.0   \n",
       "1994  29537.0  27873.0  42790.0  31547.0  29951.0  38828.0  26779.0  33309.0   \n",
       "1995  29604.0  28288.0  42540.0  32164.0  31163.0  40525.0  29861.0  34191.0   \n",
       "1996  31806.0  29813.0  42817.0  33918.0  32559.0  43044.0  33041.0  35516.0   \n",
       "1997  31795.0  31499.0  44057.0  35662.0  34770.0  45705.0  30820.0  36738.0   \n",
       "1998  34073.0  32477.0  45665.0  37175.0  36012.0  47252.0  33060.0  38437.0   \n",
       "1999  33888.0  33524.0  47044.0  37316.0  36449.0  48376.0  33500.0  39797.0   \n",
       "2000  35292.0  32590.0  49389.0  39439.0  30866.0  49320.0  37360.0  35246.0   \n",
       "2001  37839.0  35920.0  52598.0  41653.0  32939.0  51610.0  38376.0  37266.0   \n",
       "2002  38306.0  37013.0  53736.0  41731.0  33229.0  50518.0  37328.0  37040.0   \n",
       "2003  38934.0  37080.0  55409.0  42918.0  34020.0  50520.0  37593.0  36516.0   \n",
       "2004  39235.0  37140.0  57613.0  43696.0  34172.0  50474.0  37341.0  36355.0   \n",
       "2005  39105.0  37657.0  56200.0  44422.0  35050.0  52108.0  36028.0  37958.0   \n",
       "2006  41298.0  39768.0  54942.0  46522.0  37770.0  56994.0  37211.0  39777.0   \n",
       "2007  42299.0  40558.0  55361.0  44964.0  37926.0  57621.0  41531.0  39954.0   \n",
       "2008  42455.0  42945.0  57114.0  44013.0  40912.0  57999.0  43508.0  41412.0   \n",
       "2009  41102.0  40035.0  58496.0  46780.0  38647.0  54370.0  39978.0  40572.0   \n",
       "2010  40656.0  39820.0  60070.0  45478.0  38397.0  54581.0  38474.0  40867.0   \n",
       "2011  41068.0  40171.0  60608.0  46275.0  38886.0  54951.0  38916.0  41406.0   \n",
       "2012  42354.0  41703.0  62739.0  47265.0  41887.0  56054.0  39461.0  42752.0   \n",
       "2013  43541.0  42174.0  63710.0  51713.0  44824.0  57852.0  39931.0  43409.0   \n",
       "2014  45712.0  43368.0  63157.0  50825.0  45454.0  61711.0  42886.0  39635.0   \n",
       "2015  47646.0  46107.0  62071.0  53068.0  46241.0  63639.0  39807.0  49997.0   \n",
       "2016  49501.0  47020.0  62282.0  55109.0  48187.0  66782.0  41517.0  48208.0   \n",
       "2017  48849.0  51767.0  63502.0  60791.0  47767.0  71922.0  43622.0  47132.0   \n",
       "2018  52870.0  50746.0  67912.0  60747.0  55664.0  71659.0  46550.0  54588.0   \n",
       "2019  53535.0  54776.0  72847.0  59838.0  57571.0  80407.0  56338.0  57316.0   \n",
       "2020  56421.0  53377.0  75882.0  61546.0  54712.0  76929.0  58220.0  64357.0   \n",
       "2021  57405.0  56438.0  77339.0  64700.0  62623.0  83790.0  59650.0  70104.0   \n",
       "2022  58406.0  59675.0  78824.0  68016.0  65652.0  87397.0  61115.0  76364.0   \n",
       "\n",
       "Year  Douglas    Ferry  ... Skamania Snohomish  Spokane  Stevens Thurston  \\\n",
       "1989  27054.0  25170.0  ...  28778.0   36847.0  25769.0  24440.0  30976.0   \n",
       "1990  28708.0  27355.0  ...  31368.0   38820.0  27337.0  25609.0  33139.0   \n",
       "1991  29407.0  27236.0  ...  31000.0   39868.0  28355.0  26482.0  34851.0   \n",
       "1992  30932.0  27841.0  ...  31833.0   41670.0  29570.0  27519.0  36676.0   \n",
       "1993  31855.0  27829.0  ...  32283.0   42418.0  30482.0  28818.0  37766.0   \n",
       "1994  32688.0  29587.0  ...  33401.0   43741.0  31631.0  29854.0  38939.0   \n",
       "1995  32930.0  28910.0  ...  33364.0   44994.0  32256.0  29783.0  39971.0   \n",
       "1996  35420.0  30091.0  ...  36619.0   47416.0  33517.0  30759.0  41497.0   \n",
       "1997  36855.0  30489.0  ...  37409.0   50680.0  34920.0  32435.0  43748.0   \n",
       "1998  37733.0  30412.0  ...  38194.0   52342.0  36389.0  33851.0  45843.0   \n",
       "1999  38464.0  30388.0  ...  39317.0   53060.0  37308.0  34673.0  46975.0   \n",
       "2000  39789.0  31175.0  ...  40389.0   50870.0  39401.0  33370.0  48457.0   \n",
       "2001  40699.0  33129.0  ...  41395.0   52935.0  40525.0  35256.0  50885.0   \n",
       "2002  41062.0  33488.0  ...  41123.0   53174.0  40872.0  35074.0  51111.0   \n",
       "2003  41809.0  33182.0  ...  41984.0   54563.0  42533.0  35824.0  51243.0   \n",
       "2004  42524.0  33867.0  ...  43048.0   56736.0  44836.0  36591.0  52043.0   \n",
       "2005  43189.0  34452.0  ...  46392.0   58353.0  44538.0  37712.0  54914.0   \n",
       "2006  45383.0  34828.0  ...  49448.0   60975.0  45753.0  39641.0  57985.0   \n",
       "2007  45748.0  37001.0  ...  52478.0   63682.0  47848.0  41484.0  60576.0   \n",
       "2008  48325.0  38093.0  ...  53983.0   64289.0  48876.0  42573.0  63009.0   \n",
       "2009  46269.0  38284.0  ...  52241.0   63297.0  46983.0  41619.0  60978.0   \n",
       "2010  46159.0  36712.0  ...  50862.0   62034.0  46320.0  40008.0  60038.0   \n",
       "2011  46723.0  36921.0  ...  51223.0   62687.0  46846.0  40282.0  60621.0   \n",
       "2012  48050.0  37548.0  ...  52401.0   64033.0  48265.0  41643.0  62009.0   \n",
       "2013  49030.0  39596.0  ...  51716.0   64391.0  48312.0  45528.0  63408.0   \n",
       "2014  50878.0  41343.0  ...  51429.0   68637.0  50856.0  45683.0  65288.0   \n",
       "2015  50886.0  40340.0  ...  53196.0   75292.0  48189.0  42417.0  61676.0   \n",
       "2016  52364.0  42330.0  ...  52700.0   77985.0  49482.0  44467.0  63286.0   \n",
       "2017  54581.0  45546.0  ...  56324.0   81779.0  49954.0  45189.0  68765.0   \n",
       "2018  65913.0  42212.0  ...  60767.0   86435.0  55535.0  44363.0  69757.0   \n",
       "2019  63086.0  47463.0  ...  69163.0   89119.0  59976.0  55000.0  77890.0   \n",
       "2020  64768.0  47722.0  ...  68501.0   93589.0  60827.0  50958.0  79769.0   \n",
       "2021  64932.0  50565.0  ...  75158.0   99650.0  65571.0  60180.0  81544.0   \n",
       "2022  65096.0  53577.0  ...  82462.0  106104.0  70685.0  63241.0  83358.0   \n",
       "\n",
       "Year Wahkiakum Walla Walla  Whatcom  Whitman   Yakima  \n",
       "1989   26969.0     24414.0  28367.0  21674.0  23612.0  \n",
       "1990   28590.0     25808.0  31097.0  22949.0  25484.0  \n",
       "1991   28459.0     26242.0  31953.0  23735.0  25866.0  \n",
       "1992   29655.0     27647.0  32599.0  24389.0  27085.0  \n",
       "1993   31076.0     28902.0  32958.0  25162.0  28079.0  \n",
       "1994   31298.0     30152.0  34031.0  25134.0  29164.0  \n",
       "1995   32688.0     31014.0  34893.0  26270.0  29717.0  \n",
       "1996   34014.0     32957.0  36492.0  27838.0  31442.0  \n",
       "1997   36566.0     34094.0  37553.0  28697.0  32946.0  \n",
       "1998   38626.0     35688.0  39188.0  29174.0  34649.0  \n",
       "1999   39444.0     35900.0  40005.0  28584.0  34828.0  \n",
       "2000   40628.0     34533.0  37044.0  24596.0  34630.0  \n",
       "2001   42972.0     36943.0  39301.0  24841.0  36037.0  \n",
       "2002   42491.0     36443.0  39568.0  24805.0  36141.0  \n",
       "2003   44243.0     37184.0  40486.0  25869.0  38095.0  \n",
       "2004   43526.0     37885.0  41151.0  26752.0  39394.0  \n",
       "2005   44188.0     38523.0  43372.0  26788.0  37968.0  \n",
       "2006   46485.0     40600.0  46879.0  28303.0  37576.0  \n",
       "2007   47888.0     43995.0  49778.0  31302.0  41224.0  \n",
       "2008   47008.0     44940.0  50443.0  32604.0  43692.0  \n",
       "2009   44867.0     44267.0  49761.0  32037.0  39836.0  \n",
       "2010   44492.0     44117.0  49294.0  31062.0  40802.0  \n",
       "2011   45083.0     44606.0  49775.0  31396.0  41164.0  \n",
       "2012   45624.0     46147.0  51268.0  32570.0  42162.0  \n",
       "2013   43140.0     47238.0  50879.0  43091.0  40696.0  \n",
       "2014   47174.0     50835.0  53481.0  42218.0  43050.0  \n",
       "2015   49898.0     49619.0  54522.0  43379.0  46422.0  \n",
       "2016   50872.0     52094.0  55710.0  49946.0  46957.0  \n",
       "2017   50433.0     52721.0  60028.0  52543.0  46316.0  \n",
       "2018   52309.0     55721.0  61244.0  53100.0  50019.0  \n",
       "2019   61123.0     60202.0  68656.0  45906.0  55674.0  \n",
       "2020   62099.0     61281.0  70463.0  52066.0  56353.0  \n",
       "2021   64777.0     63631.0  71739.0  53140.0  60058.0  \n",
       "2022   67570.0     66071.0  73038.0  54236.0  64007.0  \n",
       "\n",
       "[34 rows x 39 columns]"
      ]
     },
     "execution_count": 29,
     "metadata": {},
     "output_type": "execute_result"
    }
   ],
   "source": [
    "income_df"
   ]
  },
  {
   "cell_type": "code",
   "execution_count": 32,
   "metadata": {},
   "outputs": [
    {
     "data": {
      "image/png": "[encoded data removed]",
      "text/plain": [
       "<Figure size 640x480 with 1 Axes>"
      ]
     },
     "metadata": {},
     "output_type": "display_data"
    }
   ],
   "source": [
    "#Explore income of the county with greatest amount of EVs\n",
    "\n",
    "income_df['King'].plot(kind='bar')\n",
    "plt.xlabel('Year')\n",
    "plt.ylabel('Income')\n",
    "plt.show()"
   ]
  },
  {
   "cell_type": "code",
   "execution_count": 56,
   "metadata": {},
   "outputs": [
    {
     "data": {
      "application/vnd.plotly.v1+json": {
       "config": {
        "plotlyServerURL": "https://plot.ly"
       },
       "data": [
        {
         "hovertemplate": "Year=Adams<br>County=%{x}<br>Income=%{y}<extra></extra>",
         "legendgroup": "Adams",
         "line": {
          "color": "#636efa",
          "dash": "solid",
          "shape": "linear"
         },
         "marker": {
          "symbol": "circle"
         },
         "mode": "lines+markers",
         "name": "Adams",
         "showlegend": true,
         "type": "scattergl",
         "x": [
          "1989",
          "1990",
          "1991",
          "1992",
          "1993",
          "1994",
          "1995",
          "1996",
          "1997",
          "1998",
          "1999",
          "2000",
          "2001",
          "2002",
          "2003",
          "2004",
          "2005",
          "2006",
          "2007",
          "2008",
          "2009",
          "2010",
          "2011",
          "2012",
          "2013",
          "2014",
          "2015",
          "2016",
          "2017",
          "2018",
          "2019",
          "2020",
          "2021",
          "2022"
         ],
         "xaxis": "x",
         "y": [
          24604,
          28024,
          27301,
          28328,
          31277,
          29537,
          29604,
          31806,
          31795,
          34073,
          33888,
          35292,
          37839,
          38306,
          38934,
          39235,
          39105,
          41298,
          42299,
          42455,
          41102,
          40656,
          41068,
          42354,
          43541,
          45712,
          47646,
          49501,
          48849,
          52870,
          53535,
          56421,
          57405,
          58406
         ],
         "yaxis": "y"
        },
        {
         "hovertemplate": "Year=Asotin<br>County=%{x}<br>Income=%{y}<extra></extra>",
         "legendgroup": "Asotin",
         "line": {
          "color": "#EF553B",
          "dash": "solid",
          "shape": "linear"
         },
         "marker": {
          "symbol": "circle"
         },
         "mode": "lines+markers",
         "name": "Asotin",
         "showlegend": true,
         "type": "scattergl",
         "x": [
          "1989",
          "1990",
          "1991",
          "1992",
          "1993",
          "1994",
          "1995",
          "1996",
          "1997",
          "1998",
          "1999",
          "2000",
          "2001",
          "2002",
          "2003",
          "2004",
          "2005",
          "2006",
          "2007",
          "2008",
          "2009",
          "2010",
          "2011",
          "2012",
          "2013",
          "2014",
          "2015",
          "2016",
          "2017",
          "2018",
          "2019",
          "2020",
          "2021",
          "2022"
         ],
         "xaxis": "x",
         "y": [
          22897,
          24206,
          25110,
          26251,
          27359,
          27873,
          28288,
          29813,
          31499,
          32477,
          33524,
          32590,
          35920,
          37013,
          37080,
          37140,
          37657,
          39768,
          40558,
          42945,
          40035,
          39820,
          40171,
          41703,
          42174,
          43368,
          46107,
          47020,
          51767,
          50746,
          54776,
          53377,
          56438,
          59675
         ],
         "yaxis": "y"
        },
        {
         "hovertemplate": "Year=Benton<br>County=%{x}<br>Income=%{y}<extra></extra>",
         "legendgroup": "Benton",
         "line": {
          "color": "#00cc96",
          "dash": "solid",
          "shape": "linear"
         },
         "marker": {
          "symbol": "circle"
         },
         "mode": "lines+markers",
         "name": "Benton",
         "showlegend": true,
         "type": "scattergl",
         "x": [
          "1989",
          "1990",
          "1991",
          "1992",
          "1993",
          "1994",
          "1995",
          "1996",
          "1997",
          "1998",
          "1999",
          "2000",
          "2001",
          "2002",
          "2003",
          "2004",
          "2005",
          "2006",
          "2007",
          "2008",
          "2009",
          "2010",
          "2011",
          "2012",
          "2013",
          "2014",
          "2015",
          "2016",
          "2017",
          "2018",
          "2019",
          "2020",
          "2021",
          "2022"
         ],
         "xaxis": "x",
         "y": [
          32593,
          35012,
          37093,
          39228,
          41153,
          42790,
          42540,
          42817,
          44057,
          45665,
          47044,
          49389,
          52598,
          53736,
          55409,
          57613,
          56200,
          54942,
          55361,
          57114,
          58496,
          60070,
          60608,
          62739,
          63710,
          63157,
          62071,
          62282,
          63502,
          67912,
          72847,
          75882,
          77339,
          78824
         ],
         "yaxis": "y"
        },
        {
         "hovertemplate": "Year=Chelan<br>County=%{x}<br>Income=%{y}<extra></extra>",
         "legendgroup": "Chelan",
         "line": {
          "color": "#ab63fa",
          "dash": "solid",
          "shape": "linear"
         },
         "marker": {
          "symbol": "circle"
         },
         "mode": "lines+markers",
         "name": "Chelan",
         "showlegend": true,
         "type": "scattergl",
         "x": [
          "1989",
          "1990",
          "1991",
          "1992",
          "1993",
          "1994",
          "1995",
          "1996",
          "1997",
          "1998",
          "1999",
          "2000",
          "2001",
          "2002",
          "2003",
          "2004",
          "2005",
          "2006",
          "2007",
          "2008",
          "2009",
          "2010",
          "2011",
          "2012",
          "2013",
          "2014",
          "2015",
          "2016",
          "2017",
          "2018",
          "2019",
          "2020",
          "2021",
          "2022"
         ],
         "xaxis": "x",
         "y": [
          24312,
          25833,
          27592,
          28746,
          30148,
          31547,
          32164,
          33918,
          35662,
          37175,
          37316,
          39439,
          41653,
          41731,
          42918,
          43696,
          44422,
          46522,
          44964,
          44013,
          46780,
          45478,
          46275,
          47265,
          51713,
          50825,
          53068,
          55109,
          60791,
          60747,
          59838,
          61546,
          64700,
          68016
         ],
         "yaxis": "y"
        },
        {
         "hovertemplate": "Year=Clallam<br>County=%{x}<br>Income=%{y}<extra></extra>",
         "legendgroup": "Clallam",
         "line": {
          "color": "#FFA15A",
          "dash": "solid",
          "shape": "linear"
         },
         "marker": {
          "symbol": "circle"
         },
         "mode": "lines+markers",
         "name": "Clallam",
         "showlegend": true,
         "type": "scattergl",
         "x": [
          "1989",
          "1990",
          "1991",
          "1992",
          "1993",
          "1994",
          "1995",
          "1996",
          "1997",
          "1998",
          "1999",
          "2000",
          "2001",
          "2002",
          "2003",
          "2004",
          "2005",
          "2006",
          "2007",
          "2008",
          "2009",
          "2010",
          "2011",
          "2012",
          "2013",
          "2014",
          "2015",
          "2016",
          "2017",
          "2018",
          "2019",
          "2020",
          "2021",
          "2022"
         ],
         "xaxis": "x",
         "y": [
          25434,
          27329,
          27861,
          28578,
          29340,
          29951,
          31163,
          32559,
          34770,
          36012,
          36449,
          30866,
          32939,
          33229,
          34020,
          34172,
          35050,
          37770,
          37926,
          40912,
          38647,
          38397,
          38886,
          41887,
          44824,
          45454,
          46241,
          48187,
          47767,
          55664,
          57571,
          54712,
          62623,
          65652
         ],
         "yaxis": "y"
        },
        {
         "hovertemplate": "Year=Clark<br>County=%{x}<br>Income=%{y}<extra></extra>",
         "legendgroup": "Clark",
         "line": {
          "color": "#19d3f3",
          "dash": "solid",
          "shape": "linear"
         },
         "marker": {
          "symbol": "circle"
         },
         "mode": "lines+markers",
         "name": "Clark",
         "showlegend": true,
         "type": "scattergl",
         "x": [
          "1989",
          "1990",
          "1991",
          "1992",
          "1993",
          "1994",
          "1995",
          "1996",
          "1997",
          "1998",
          "1999",
          "2000",
          "2001",
          "2002",
          "2003",
          "2004",
          "2005",
          "2006",
          "2007",
          "2008",
          "2009",
          "2010",
          "2011",
          "2012",
          "2013",
          "2014",
          "2015",
          "2016",
          "2017",
          "2018",
          "2019",
          "2020",
          "2021",
          "2022"
         ],
         "xaxis": "x",
         "y": [
          31800,
          33734,
          34250,
          35847,
          37418,
          38828,
          40525,
          43044,
          45705,
          47252,
          48376,
          49320,
          51610,
          50518,
          50520,
          50474,
          52108,
          56994,
          57621,
          57999,
          54370,
          54581,
          54951,
          56054,
          57852,
          61711,
          63639,
          66782,
          71922,
          71659,
          80407,
          76929,
          83790,
          87397
         ],
         "yaxis": "y"
        },
        {
         "hovertemplate": "Year=Columbia<br>County=%{x}<br>Income=%{y}<extra></extra>",
         "legendgroup": "Columbia",
         "line": {
          "color": "#FF6692",
          "dash": "solid",
          "shape": "linear"
         },
         "marker": {
          "symbol": "circle"
         },
         "mode": "lines+markers",
         "name": "Columbia",
         "showlegend": true,
         "type": "scattergl",
         "x": [
          "1989",
          "1990",
          "1991",
          "1992",
          "1993",
          "1994",
          "1995",
          "1996",
          "1997",
          "1998",
          "1999",
          "2000",
          "2001",
          "2002",
          "2003",
          "2004",
          "2005",
          "2006",
          "2007",
          "2008",
          "2009",
          "2010",
          "2011",
          "2012",
          "2013",
          "2014",
          "2015",
          "2016",
          "2017",
          "2018",
          "2019",
          "2020",
          "2021",
          "2022"
         ],
         "xaxis": "x",
         "y": [
          22418,
          24478,
          24123,
          26136,
          28123,
          26779,
          29861,
          33041,
          30820,
          33060,
          33500,
          37360,
          38376,
          37328,
          37593,
          37341,
          36028,
          37211,
          41531,
          43508,
          39978,
          38474,
          38916,
          39461,
          39931,
          42886,
          39807,
          41517,
          43622,
          46550,
          56338,
          58220,
          59650,
          61115
         ],
         "yaxis": "y"
        },
        {
         "hovertemplate": "Year=Cowlitz<br>County=%{x}<br>Income=%{y}<extra></extra>",
         "legendgroup": "Cowlitz",
         "line": {
          "color": "#B6E880",
          "dash": "solid",
          "shape": "linear"
         },
         "marker": {
          "symbol": "circle"
         },
         "mode": "lines+markers",
         "name": "Cowlitz",
         "showlegend": true,
         "type": "scattergl",
         "x": [
          "1989",
          "1990",
          "1991",
          "1992",
          "1993",
          "1994",
          "1995",
          "1996",
          "1997",
          "1998",
          "1999",
          "2000",
          "2001",
          "2002",
          "2003",
          "2004",
          "2005",
          "2006",
          "2007",
          "2008",
          "2009",
          "2010",
          "2011",
          "2012",
          "2013",
          "2014",
          "2015",
          "2016",
          "2017",
          "2018",
          "2019",
          "2020",
          "2021",
          "2022"
         ],
         "xaxis": "x",
         "y": [
          27866,
          29746,
          31038,
          31195,
          31957,
          33309,
          34191,
          35516,
          36738,
          38437,
          39797,
          35246,
          37266,
          37040,
          36516,
          36355,
          37958,
          39777,
          39954,
          41412,
          40572,
          40867,
          41406,
          42752,
          43409,
          39635,
          49997,
          48208,
          47132,
          54588,
          57316,
          64357,
          70104,
          76364
         ],
         "yaxis": "y"
        },
        {
         "hovertemplate": "Year=Douglas<br>County=%{x}<br>Income=%{y}<extra></extra>",
         "legendgroup": "Douglas",
         "line": {
          "color": "#FF97FF",
          "dash": "solid",
          "shape": "linear"
         },
         "marker": {
          "symbol": "circle"
         },
         "mode": "lines+markers",
         "name": "Douglas",
         "showlegend": true,
         "type": "scattergl",
         "x": [
          "1989",
          "1990",
          "1991",
          "1992",
          "1993",
          "1994",
          "1995",
          "1996",
          "1997",
          "1998",
          "1999",
          "2000",
          "2001",
          "2002",
          "2003",
          "2004",
          "2005",
          "2006",
          "2007",
          "2008",
          "2009",
          "2010",
          "2011",
          "2012",
          "2013",
          "2014",
          "2015",
          "2016",
          "2017",
          "2018",
          "2019",
          "2020",
          "2021",
          "2022"
         ],
         "xaxis": "x",
         "y": [
          27054,
          28708,
          29407,
          30932,
          31855,
          32688,
          32930,
          35420,
          36855,
          37733,
          38464,
          39789,
          40699,
          41062,
          41809,
          42524,
          43189,
          45383,
          45748,
          48325,
          46269,
          46159,
          46723,
          48050,
          49030,
          50878,
          50886,
          52364,
          54581,
          65913,
          63086,
          64768,
          64932,
          65096
         ],
         "yaxis": "y"
        },
        {
         "hovertemplate": "Year=Ferry<br>County=%{x}<br>Income=%{y}<extra></extra>",
         "legendgroup": "Ferry",
         "line": {
          "color": "#FECB52",
          "dash": "solid",
          "shape": "linear"
         },
         "marker": {
          "symbol": "circle"
         },
         "mode": "lines+markers",
         "name": "Ferry",
         "showlegend": true,
         "type": "scattergl",
         "x": [
          "1989",
          "1990",
          "1991",
          "1992",
          "1993",
          "1994",
          "1995",
          "1996",
          "1997",
          "1998",
          "1999",
          "2000",
          "2001",
          "2002",
          "2003",
          "2004",
          "2005",
          "2006",
          "2007",
          "2008",
          "2009",
          "2010",
          "2011",
          "2012",
          "2013",
          "2014",
          "2015",
          "2016",
          "2017",
          "2018",
          "2019",
          "2020",
          "2021",
          "2022"
         ],
         "xaxis": "x",
         "y": [
          25170,
          27355,
          27236,
          27841,
          27829,
          29587,
          28910,
          30091,
          30489,
          30412,
          30388,
          31175,
          33129,
          33488,
          33182,
          33867,
          34452,
          34828,
          37001,
          38093,
          38284,
          36712,
          36921,
          37548,
          39596,
          41343,
          40340,
          42330,
          45546,
          42212,
          47463,
          47722,
          50565,
          53577
         ],
         "yaxis": "y"
        },
        {
         "hovertemplate": "Year=Franklin<br>County=%{x}<br>Income=%{y}<extra></extra>",
         "legendgroup": "Franklin",
         "line": {
          "color": "#636efa",
          "dash": "solid",
          "shape": "linear"
         },
         "marker": {
          "symbol": "circle"
         },
         "mode": "lines+markers",
         "name": "Franklin",
         "showlegend": true,
         "type": "scattergl",
         "x": [
          "1989",
          "1990",
          "1991",
          "1992",
          "1993",
          "1994",
          "1995",
          "1996",
          "1997",
          "1998",
          "1999",
          "2000",
          "2001",
          "2002",
          "2003",
          "2004",
          "2005",
          "2006",
          "2007",
          "2008",
          "2009",
          "2010",
          "2011",
          "2012",
          "2013",
          "2014",
          "2015",
          "2016",
          "2017",
          "2018",
          "2019",
          "2020",
          "2021",
          "2022"
         ],
         "xaxis": "x",
         "y": [
          24604,
          26435,
          26861,
          28680,
          30902,
          31768,
          32604,
          34843,
          35770,
          37209,
          38991,
          38755,
          41681,
          41817,
          42117,
          41309,
          42256,
          43187,
          49337,
          44797,
          48754,
          53355,
          53644,
          56221,
          56105,
          58538,
          57664,
          58854,
          63345,
          62516,
          63575,
          73656,
          79532,
          85877
         ],
         "yaxis": "y"
        },
        {
         "hovertemplate": "Year=Garfield<br>County=%{x}<br>Income=%{y}<extra></extra>",
         "legendgroup": "Garfield",
         "line": {
          "color": "#EF553B",
          "dash": "solid",
          "shape": "linear"
         },
         "marker": {
          "symbol": "circle"
         },
         "mode": "lines+markers",
         "name": "Garfield",
         "showlegend": true,
         "type": "scattergl",
         "x": [
          "1989",
          "1990",
          "1991",
          "1992",
          "1993",
          "1994",
          "1995",
          "1996",
          "1997",
          "1998",
          "1999",
          "2000",
          "2001",
          "2002",
          "2003",
          "2004",
          "2005",
          "2006",
          "2007",
          "2008",
          "2009",
          "2010",
          "2011",
          "2012",
          "2013",
          "2014",
          "2015",
          "2016",
          "2017",
          "2018",
          "2019",
          "2020",
          "2021",
          "2022"
         ],
         "xaxis": "x",
         "y": [
          25156,
          26534,
          27185,
          28554,
          30368,
          27044,
          30435,
          34959,
          34792,
          36608,
          33398,
          38507,
          38485,
          38343,
          41173,
          40350,
          39603,
          40567,
          45811,
          49407,
          45672,
          43915,
          44608,
          45187,
          44446,
          44684,
          46616,
          46358,
          47037,
          44808,
          54555,
          56804,
          61268,
          66083
         ],
         "yaxis": "y"
        },
        {
         "hovertemplate": "Year=Grant<br>County=%{x}<br>Income=%{y}<extra></extra>",
         "legendgroup": "Grant",
         "line": {
          "color": "#00cc96",
          "dash": "solid",
          "shape": "linear"
         },
         "marker": {
          "symbol": "circle"
         },
         "mode": "lines+markers",
         "name": "Grant",
         "showlegend": true,
         "type": "scattergl",
         "x": [
          "1989",
          "1990",
          "1991",
          "1992",
          "1993",
          "1994",
          "1995",
          "1996",
          "1997",
          "1998",
          "1999",
          "2000",
          "2001",
          "2002",
          "2003",
          "2004",
          "2005",
          "2006",
          "2007",
          "2008",
          "2009",
          "2010",
          "2011",
          "2012",
          "2013",
          "2014",
          "2015",
          "2016",
          "2017",
          "2018",
          "2019",
          "2020",
          "2021",
          "2022"
         ],
         "xaxis": "x",
         "y": [
          22372,
          24216,
          25463,
          26996,
          29172,
          29978,
          30384,
          32738,
          33977,
          35692,
          35276,
          37278,
          39556,
          40173,
          41186,
          41707,
          41824,
          44438,
          47480,
          48207,
          41195,
          42799,
          42994,
          45021,
          46036,
          50356,
          50067,
          52981,
          60344,
          58053,
          57152,
          54753,
          61815,
          65593
         ],
         "yaxis": "y"
        },
        {
         "hovertemplate": "Year=Grays Harbor<br>County=%{x}<br>Income=%{y}<extra></extra>",
         "legendgroup": "Grays Harbor",
         "line": {
          "color": "#ab63fa",
          "dash": "solid",
          "shape": "linear"
         },
         "marker": {
          "symbol": "circle"
         },
         "mode": "lines+markers",
         "name": "Grays Harbor",
         "showlegend": true,
         "type": "scattergl",
         "x": [
          "1989",
          "1990",
          "1991",
          "1992",
          "1993",
          "1994",
          "1995",
          "1996",
          "1997",
          "1998",
          "1999",
          "2000",
          "2001",
          "2002",
          "2003",
          "2004",
          "2005",
          "2006",
          "2007",
          "2008",
          "2009",
          "2010",
          "2011",
          "2012",
          "2013",
          "2014",
          "2015",
          "2016",
          "2017",
          "2018",
          "2019",
          "2020",
          "2021",
          "2022"
         ],
         "xaxis": "x",
         "y": [
          23042,
          24053,
          24677,
          26038,
          27002,
          27252,
          28638,
          29792,
          31368,
          33167,
          34160,
          36410,
          37440,
          38102,
          38305,
          38367,
          39943,
          42029,
          43126,
          42646,
          39927,
          39452,
          39836,
          40354,
          40323,
          41687,
          43902,
          44627,
          44080,
          45139,
          59346,
          54034,
          55018,
          56020
         ],
         "yaxis": "y"
        },
        {
         "hovertemplate": "Year=Island<br>County=%{x}<br>Income=%{y}<extra></extra>",
         "legendgroup": "Island",
         "line": {
          "color": "#FFA15A",
          "dash": "solid",
          "shape": "linear"
         },
         "marker": {
          "symbol": "circle"
         },
         "mode": "lines+markers",
         "name": "Island",
         "showlegend": true,
         "type": "scattergl",
         "x": [
          "1989",
          "1990",
          "1991",
          "1992",
          "1993",
          "1994",
          "1995",
          "1996",
          "1997",
          "1998",
          "1999",
          "2000",
          "2001",
          "2002",
          "2003",
          "2004",
          "2005",
          "2006",
          "2007",
          "2008",
          "2009",
          "2010",
          "2011",
          "2012",
          "2013",
          "2014",
          "2015",
          "2016",
          "2017",
          "2018",
          "2019",
          "2020",
          "2021",
          "2022"
         ],
         "xaxis": "x",
         "y": [
          29161,
          30642,
          32030,
          33139,
          34594,
          35975,
          37178,
          39716,
          41901,
          44824,
          45513,
          42237,
          44310,
          45441,
          46176,
          48399,
          49104,
          51572,
          56509,
          54886,
          55016,
          53754,
          54206,
          55091,
          52014,
          57919,
          59961,
          61691,
          60786,
          63138,
          72173,
          76965,
          76729,
          76494
         ],
         "yaxis": "y"
        },
        {
         "hovertemplate": "Year=Jefferson<br>County=%{x}<br>Income=%{y}<extra></extra>",
         "legendgroup": "Jefferson",
         "line": {
          "color": "#19d3f3",
          "dash": "solid",
          "shape": "linear"
         },
         "marker": {
          "symbol": "circle"
         },
         "mode": "lines+markers",
         "name": "Jefferson",
         "showlegend": true,
         "type": "scattergl",
         "x": [
          "1989",
          "1990",
          "1991",
          "1992",
          "1993",
          "1994",
          "1995",
          "1996",
          "1997",
          "1998",
          "1999",
          "2000",
          "2001",
          "2002",
          "2003",
          "2004",
          "2005",
          "2006",
          "2007",
          "2008",
          "2009",
          "2010",
          "2011",
          "2012",
          "2013",
          "2014",
          "2015",
          "2016",
          "2017",
          "2018",
          "2019",
          "2020",
          "2021",
          "2022"
         ],
         "xaxis": "x",
         "y": [
          25197,
          27294,
          28465,
          29171,
          29885,
          30606,
          31058,
          32530,
          34282,
          36404,
          37869,
          33565,
          35299,
          35723,
          36136,
          38014,
          39746,
          43099,
          44511,
          45995,
          45225,
          43814,
          44348,
          46651,
          46957,
          50161,
          52887,
          54864,
          54884,
          57485,
          60556,
          66386,
          61548,
          63641
         ],
         "yaxis": "y"
        },
        {
         "hovertemplate": "Year=King<br>County=%{x}<br>Income=%{y}<extra></extra>",
         "legendgroup": "King",
         "line": {
          "color": "#FF6692",
          "dash": "solid",
          "shape": "linear"
         },
         "marker": {
          "symbol": "circle"
         },
         "mode": "lines+markers",
         "name": "King",
         "showlegend": true,
         "type": "scattergl",
         "x": [
          "1989",
          "1990",
          "1991",
          "1992",
          "1993",
          "1994",
          "1995",
          "1996",
          "1997",
          "1998",
          "1999",
          "2000",
          "2001",
          "2002",
          "2003",
          "2004",
          "2005",
          "2006",
          "2007",
          "2008",
          "2009",
          "2010",
          "2011",
          "2012",
          "2013",
          "2014",
          "2015",
          "2016",
          "2017",
          "2018",
          "2019",
          "2020",
          "2021",
          "2022"
         ],
         "xaxis": "x",
         "y": [
          36179,
          38633,
          39831,
          41647,
          42234,
          43810,
          45397,
          46726,
          48271,
          51266,
          53157,
          53937,
          55220,
          56098,
          56952,
          61565,
          61225,
          63745,
          65489,
          67027,
          65877,
          65383,
          66294,
          68313,
          71122,
          75045,
          80998,
          84897,
          88466,
          93707,
          102338,
          102620,
          110351,
          118664
         ],
         "yaxis": "y"
        },
        {
         "hovertemplate": "Year=Kitsap<br>County=%{x}<br>Income=%{y}<extra></extra>",
         "legendgroup": "Kitsap",
         "line": {
          "color": "#B6E880",
          "dash": "solid",
          "shape": "linear"
         },
         "marker": {
          "symbol": "circle"
         },
         "mode": "lines+markers",
         "name": "Kitsap",
         "showlegend": true,
         "type": "scattergl",
         "x": [
          "1989",
          "1990",
          "1991",
          "1992",
          "1993",
          "1994",
          "1995",
          "1996",
          "1997",
          "1998",
          "1999",
          "2000",
          "2001",
          "2002",
          "2003",
          "2004",
          "2005",
          "2006",
          "2007",
          "2008",
          "2009",
          "2010",
          "2011",
          "2012",
          "2013",
          "2014",
          "2015",
          "2016",
          "2017",
          "2018",
          "2019",
          "2020",
          "2021",
          "2022"
         ],
         "xaxis": "x",
         "y": [
          32043,
          36145,
          37380,
          38404,
          39391,
          40407,
          40630,
          41740,
          44098,
          45667,
          46840,
          48387,
          50751,
          52051,
          52192,
          53227,
          57034,
          51610,
          53680,
          55417,
          56863,
          54804,
          55400,
          57155,
          60200,
          59605,
          65156,
          66569,
          70531,
          74150,
          79268,
          76814,
          86826,
          91737
         ],
         "yaxis": "y"
        },
        {
         "hovertemplate": "Year=Kittitas<br>County=%{x}<br>Income=%{y}<extra></extra>",
         "legendgroup": "Kittitas",
         "line": {
          "color": "#FF97FF",
          "dash": "solid",
          "shape": "linear"
         },
         "marker": {
          "symbol": "circle"
         },
         "mode": "lines+markers",
         "name": "Kittitas",
         "showlegend": true,
         "type": "scattergl",
         "x": [
          "1989",
          "1990",
          "1991",
          "1992",
          "1993",
          "1994",
          "1995",
          "1996",
          "1997",
          "1998",
          "1999",
          "2000",
          "2001",
          "2002",
          "2003",
          "2004",
          "2005",
          "2006",
          "2007",
          "2008",
          "2009",
          "2010",
          "2011",
          "2012",
          "2013",
          "2014",
          "2015",
          "2016",
          "2017",
          "2018",
          "2019",
          "2020",
          "2021",
          "2022"
         ],
         "xaxis": "x",
         "y": [
          20489,
          21773,
          22793,
          23828,
          25126,
          26061,
          27089,
          28626,
          29775,
          31495,
          32546,
          34206,
          36203,
          36174,
          36265,
          36640,
          37854,
          40278,
          41240,
          43582,
          41629,
          41321,
          41601,
          43098,
          46690,
          47519,
          46904,
          49275,
          55124,
          54372,
          59172,
          64727,
          62721,
          60777
         ],
         "yaxis": "y"
        },
        {
         "hovertemplate": "Year=Klickitat<br>County=%{x}<br>Income=%{y}<extra></extra>",
         "legendgroup": "Klickitat",
         "line": {
          "color": "#FECB52",
          "dash": "solid",
          "shape": "linear"
         },
         "marker": {
          "symbol": "circle"
         },
         "mode": "lines+markers",
         "name": "Klickitat",
         "showlegend": true,
         "type": "scattergl",
         "x": [
          "1989",
          "1990",
          "1991",
          "1992",
          "1993",
          "1994",
          "1995",
          "1996",
          "1997",
          "1998",
          "1999",
          "2000",
          "2001",
          "2002",
          "2003",
          "2004",
          "2005",
          "2006",
          "2007",
          "2008",
          "2009",
          "2010",
          "2011",
          "2012",
          "2013",
          "2014",
          "2015",
          "2016",
          "2017",
          "2018",
          "2019",
          "2020",
          "2021",
          "2022"
         ],
         "xaxis": "x",
         "y": [
          23012,
          24590,
          24542,
          25518,
          27209,
          28739,
          29745,
          32935,
          33543,
          34249,
          34267,
          33588,
          34590,
          36105,
          37226,
          38842,
          38066,
          38519,
          41061,
          41403,
          41105,
          42782,
          43104,
          44825,
          46733,
          48086,
          49543,
          51314,
          55962,
          57198,
          60567,
          57476,
          61542,
          65896
         ],
         "yaxis": "y"
        },
        {
         "hovertemplate": "Year=Lewis<br>County=%{x}<br>Income=%{y}<extra></extra>",
         "legendgroup": "Lewis",
         "line": {
          "color": "#636efa",
          "dash": "solid",
          "shape": "linear"
         },
         "marker": {
          "symbol": "circle"
         },
         "mode": "lines+markers",
         "name": "Lewis",
         "showlegend": true,
         "type": "scattergl",
         "x": [
          "1989",
          "1990",
          "1991",
          "1992",
          "1993",
          "1994",
          "1995",
          "1996",
          "1997",
          "1998",
          "1999",
          "2000",
          "2001",
          "2002",
          "2003",
          "2004",
          "2005",
          "2006",
          "2007",
          "2008",
          "2009",
          "2010",
          "2011",
          "2012",
          "2013",
          "2014",
          "2015",
          "2016",
          "2017",
          "2018",
          "2019",
          "2020",
          "2021",
          "2022"
         ],
         "xaxis": "x",
         "y": [
          24410,
          25975,
          26295,
          27552,
          28502,
          29744,
          30621,
          32112,
          33610,
          34315,
          35511,
          32968,
          34603,
          34672,
          34393,
          34735,
          36046,
          38454,
          39130,
          38696,
          38701,
          37947,
          38325,
          41208,
          39609,
          42406,
          47143,
          47893,
          50900,
          57945,
          58525,
          54578,
          63828,
          67910
         ],
         "yaxis": "y"
        },
        {
         "hovertemplate": "Year=Lincoln<br>County=%{x}<br>Income=%{y}<extra></extra>",
         "legendgroup": "Lincoln",
         "line": {
          "color": "#EF553B",
          "dash": "solid",
          "shape": "linear"
         },
         "marker": {
          "symbol": "circle"
         },
         "mode": "lines+markers",
         "name": "Lincoln",
         "showlegend": true,
         "type": "scattergl",
         "x": [
          "1989",
          "1990",
          "1991",
          "1992",
          "1993",
          "1994",
          "1995",
          "1996",
          "1997",
          "1998",
          "1999",
          "2000",
          "2001",
          "2002",
          "2003",
          "2004",
          "2005",
          "2006",
          "2007",
          "2008",
          "2009",
          "2010",
          "2011",
          "2012",
          "2013",
          "2014",
          "2015",
          "2016",
          "2017",
          "2018",
          "2019",
          "2020",
          "2021",
          "2022"
         ],
         "xaxis": "x",
         "y": [
          24617,
          26616,
          26591,
          28192,
          29777,
          28941,
          31844,
          35152,
          35838,
          36106,
          35255,
          37188,
          39419,
          39574,
          40885,
          40891,
          39999,
          41756,
          45047,
          44798,
          44126,
          43632,
          43936,
          45690,
          46956,
          48976,
          49276,
          51019,
          50657,
          50489,
          60849,
          61332,
          64692,
          68236
         ],
         "yaxis": "y"
        },
        {
         "hovertemplate": "Year=Mason<br>County=%{x}<br>Income=%{y}<extra></extra>",
         "legendgroup": "Mason",
         "line": {
          "color": "#00cc96",
          "dash": "solid",
          "shape": "linear"
         },
         "marker": {
          "symbol": "circle"
         },
         "mode": "lines+markers",
         "name": "Mason",
         "showlegend": true,
         "type": "scattergl",
         "x": [
          "1989",
          "1990",
          "1991",
          "1992",
          "1993",
          "1994",
          "1995",
          "1996",
          "1997",
          "1998",
          "1999",
          "2000",
          "2001",
          "2002",
          "2003",
          "2004",
          "2005",
          "2006",
          "2007",
          "2008",
          "2009",
          "2010",
          "2011",
          "2012",
          "2013",
          "2014",
          "2015",
          "2016",
          "2017",
          "2018",
          "2019",
          "2020",
          "2021",
          "2022"
         ],
         "xaxis": "x",
         "y": [
          26304,
          27834,
          28585,
          29785,
          30776,
          31553,
          32792,
          34748,
          36524,
          38531,
          39586,
          42907,
          44724,
          45596,
          45710,
          46436,
          47713,
          50878,
          46893,
          48655,
          47898,
          47273,
          47724,
          48804,
          47142,
          52598,
          53633,
          55824,
          58228,
          61624,
          63689,
          63785,
          73696,
          77936
         ],
         "yaxis": "y"
        },
        {
         "hovertemplate": "Year=Okanogan<br>County=%{x}<br>Income=%{y}<extra></extra>",
         "legendgroup": "Okanogan",
         "line": {
          "color": "#ab63fa",
          "dash": "solid",
          "shape": "linear"
         },
         "marker": {
          "symbol": "circle"
         },
         "mode": "lines+markers",
         "name": "Okanogan",
         "showlegend": true,
         "type": "scattergl",
         "x": [
          "1989",
          "1990",
          "1991",
          "1992",
          "1993",
          "1994",
          "1995",
          "1996",
          "1997",
          "1998",
          "1999",
          "2000",
          "2001",
          "2002",
          "2003",
          "2004",
          "2005",
          "2006",
          "2007",
          "2008",
          "2009",
          "2010",
          "2011",
          "2012",
          "2013",
          "2014",
          "2015",
          "2016",
          "2017",
          "2018",
          "2019",
          "2020",
          "2021",
          "2022"
         ],
         "xaxis": "x",
         "y": [
          20303,
          20580,
          22203,
          23697,
          25074,
          25999,
          25495,
          27576,
          28047,
          29598,
          29726,
          28659,
          30137,
          31451,
          32725,
          34497,
          34659,
          36798,
          35712,
          36681,
          35227,
          34915,
          35161,
          35848,
          36292,
          35146,
          41426,
          41028,
          44069,
          47536,
          44777,
          48979,
          55233,
          57422
         ],
         "yaxis": "y"
        },
        {
         "hovertemplate": "Year=Pacific<br>County=%{x}<br>Income=%{y}<extra></extra>",
         "legendgroup": "Pacific",
         "line": {
          "color": "#FFA15A",
          "dash": "solid",
          "shape": "linear"
         },
         "marker": {
          "symbol": "circle"
         },
         "mode": "lines+markers",
         "name": "Pacific",
         "showlegend": true,
         "type": "scattergl",
         "x": [
          "1989",
          "1990",
          "1991",
          "1992",
          "1993",
          "1994",
          "1995",
          "1996",
          "1997",
          "1998",
          "1999",
          "2000",
          "2001",
          "2002",
          "2003",
          "2004",
          "2005",
          "2006",
          "2007",
          "2008",
          "2009",
          "2010",
          "2011",
          "2012",
          "2013",
          "2014",
          "2015",
          "2016",
          "2017",
          "2018",
          "2019",
          "2020",
          "2021",
          "2022"
         ],
         "xaxis": "x",
         "y": [
          20029,
          20977,
          21596,
          22449,
          23372,
          24299,
          25748,
          27425,
          28974,
          30422,
          31209,
          33263,
          35123,
          34898,
          34458,
          35339,
          36420,
          38767,
          38251,
          37368,
          37898,
          36914,
          37420,
          38018,
          35934,
          40449,
          40677,
          42118,
          44418,
          45237,
          50521,
          53319,
          58715,
          60936
         ],
         "yaxis": "y"
        },
        {
         "hovertemplate": "Year=Pend Oreille<br>County=%{x}<br>Income=%{y}<extra></extra>",
         "legendgroup": "Pend Oreille",
         "line": {
          "color": "#19d3f3",
          "dash": "solid",
          "shape": "linear"
         },
         "marker": {
          "symbol": "circle"
         },
         "mode": "lines+markers",
         "name": "Pend Oreille",
         "showlegend": true,
         "type": "scattergl",
         "x": [
          "1989",
          "1990",
          "1991",
          "1992",
          "1993",
          "1994",
          "1995",
          "1996",
          "1997",
          "1998",
          "1999",
          "2000",
          "2001",
          "2002",
          "2003",
          "2004",
          "2005",
          "2006",
          "2007",
          "2008",
          "2009",
          "2010",
          "2011",
          "2012",
          "2013",
          "2014",
          "2015",
          "2016",
          "2017",
          "2018",
          "2019",
          "2020",
          "2021",
          "2022"
         ],
         "xaxis": "x",
         "y": [
          20808,
          22660,
          23214,
          24690,
          26103,
          27123,
          28328,
          29785,
          31223,
          31684,
          31677,
          33513,
          34855,
          34208,
          35054,
          35143,
          35343,
          36737,
          37268,
          37680,
          37467,
          37005,
          37234,
          37755,
          42043,
          39886,
          41111,
          42391,
          42276,
          43299,
          51950,
          57212,
          55060,
          52989
         ],
         "yaxis": "y"
        },
        {
         "hovertemplate": "Year=Pierce<br>County=%{x}<br>Income=%{y}<extra></extra>",
         "legendgroup": "Pierce",
         "line": {
          "color": "#FF6692",
          "dash": "solid",
          "shape": "linear"
         },
         "marker": {
          "symbol": "circle"
         },
         "mode": "lines+markers",
         "name": "Pierce",
         "showlegend": true,
         "type": "scattergl",
         "x": [
          "1989",
          "1990",
          "1991",
          "1992",
          "1993",
          "1994",
          "1995",
          "1996",
          "1997",
          "1998",
          "1999",
          "2000",
          "2001",
          "2002",
          "2003",
          "2004",
          "2005",
          "2006",
          "2007",
          "2008",
          "2009",
          "2010",
          "2011",
          "2012",
          "2013",
          "2014",
          "2015",
          "2016",
          "2017",
          "2018",
          "2019",
          "2020",
          "2021",
          "2022"
         ],
         "xaxis": "x",
         "y": [
          30412,
          33380,
          33976,
          35417,
          36210,
          37105,
          38222,
          39878,
          42596,
          44333,
          45204,
          42555,
          44965,
          45581,
          47084,
          49151,
          50678,
          55506,
          56426,
          57674,
          56555,
          55531,
          56114,
          57162,
          57238,
          59998,
          59566,
          61042,
          65517,
          71208,
          78779,
          80236,
          85492,
          91092
         ],
         "yaxis": "y"
        },
        {
         "hovertemplate": "Year=San Juan<br>County=%{x}<br>Income=%{y}<extra></extra>",
         "legendgroup": "San Juan",
         "line": {
          "color": "#B6E880",
          "dash": "solid",
          "shape": "linear"
         },
         "marker": {
          "symbol": "circle"
         },
         "mode": "lines+markers",
         "name": "San Juan",
         "showlegend": true,
         "type": "scattergl",
         "x": [
          "1989",
          "1990",
          "1991",
          "1992",
          "1993",
          "1994",
          "1995",
          "1996",
          "1997",
          "1998",
          "1999",
          "2000",
          "2001",
          "2002",
          "2003",
          "2004",
          "2005",
          "2006",
          "2007",
          "2008",
          "2009",
          "2010",
          "2011",
          "2012",
          "2013",
          "2014",
          "2015",
          "2016",
          "2017",
          "2018",
          "2019",
          "2020",
          "2021",
          "2022"
         ],
         "xaxis": "x",
         "y": [
          31278,
          32388,
          33298,
          34893,
          36059,
          38412,
          37596,
          39037,
          41134,
          43253,
          43491,
          44568,
          45369,
          45809,
          47688,
          51217,
          52929,
          55794,
          57026,
          56784,
          55133,
          53041,
          53916,
          55025,
          60872,
          58782,
          59260,
          61391,
          61268,
          64058,
          69113,
          74533,
          71678,
          68932
         ],
         "yaxis": "y"
        },
        {
         "hovertemplate": "Year=Skagit<br>County=%{x}<br>Income=%{y}<extra></extra>",
         "legendgroup": "Skagit",
         "line": {
          "color": "#FF97FF",
          "dash": "solid",
          "shape": "linear"
         },
         "marker": {
          "symbol": "circle"
         },
         "mode": "lines+markers",
         "name": "Skagit",
         "showlegend": true,
         "type": "scattergl",
         "x": [
          "1989",
          "1990",
          "1991",
          "1992",
          "1993",
          "1994",
          "1995",
          "1996",
          "1997",
          "1998",
          "1999",
          "2000",
          "2001",
          "2002",
          "2003",
          "2004",
          "2005",
          "2006",
          "2007",
          "2008",
          "2009",
          "2010",
          "2011",
          "2012",
          "2013",
          "2014",
          "2015",
          "2016",
          "2017",
          "2018",
          "2019",
          "2020",
          "2021",
          "2022"
         ],
         "xaxis": "x",
         "y": [
          28389,
          30181,
          30979,
          31970,
          32843,
          34089,
          35278,
          36888,
          38449,
          40582,
          42381,
          42972,
          45287,
          45747,
          46747,
          48229,
          49196,
          52104,
          53874,
          54803,
          55572,
          54426,
          55085,
          56443,
          56058,
          54852,
          56322,
          55524,
          60175,
          65182,
          67551,
          78798,
          72831,
          67316
         ],
         "yaxis": "y"
        },
        {
         "hovertemplate": "Year=Skamania<br>County=%{x}<br>Income=%{y}<extra></extra>",
         "legendgroup": "Skamania",
         "line": {
          "color": "#FECB52",
          "dash": "solid",
          "shape": "linear"
         },
         "marker": {
          "symbol": "circle"
         },
         "mode": "lines+markers",
         "name": "Skamania",
         "showlegend": true,
         "type": "scattergl",
         "x": [
          "1989",
          "1990",
          "1991",
          "1992",
          "1993",
          "1994",
          "1995",
          "1996",
          "1997",
          "1998",
          "1999",
          "2000",
          "2001",
          "2002",
          "2003",
          "2004",
          "2005",
          "2006",
          "2007",
          "2008",
          "2009",
          "2010",
          "2011",
          "2012",
          "2013",
          "2014",
          "2015",
          "2016",
          "2017",
          "2018",
          "2019",
          "2020",
          "2021",
          "2022"
         ],
         "xaxis": "x",
         "y": [
          28778,
          31368,
          31000,
          31833,
          32283,
          33401,
          33364,
          36619,
          37409,
          38194,
          39317,
          40389,
          41395,
          41123,
          41984,
          43048,
          46392,
          49448,
          52478,
          53983,
          52241,
          50862,
          51223,
          52401,
          51716,
          51429,
          53196,
          52700,
          56324,
          60767,
          69163,
          68501,
          75158,
          82462
         ],
         "yaxis": "y"
        },
        {
         "hovertemplate": "Year=Snohomish<br>County=%{x}<br>Income=%{y}<extra></extra>",
         "legendgroup": "Snohomish",
         "line": {
          "color": "#636efa",
          "dash": "solid",
          "shape": "linear"
         },
         "marker": {
          "symbol": "circle"
         },
         "mode": "lines+markers",
         "name": "Snohomish",
         "showlegend": true,
         "type": "scattergl",
         "x": [
          "1989",
          "1990",
          "1991",
          "1992",
          "1993",
          "1994",
          "1995",
          "1996",
          "1997",
          "1998",
          "1999",
          "2000",
          "2001",
          "2002",
          "2003",
          "2004",
          "2005",
          "2006",
          "2007",
          "2008",
          "2009",
          "2010",
          "2011",
          "2012",
          "2013",
          "2014",
          "2015",
          "2016",
          "2017",
          "2018",
          "2019",
          "2020",
          "2021",
          "2022"
         ],
         "xaxis": "x",
         "y": [
          36847,
          38820,
          39868,
          41670,
          42418,
          43741,
          44994,
          47416,
          50680,
          52342,
          53060,
          50870,
          52935,
          53174,
          54563,
          56736,
          58353,
          60975,
          63682,
          64289,
          63297,
          62034,
          62687,
          64033,
          64391,
          68637,
          75292,
          77985,
          81779,
          86435,
          89119,
          93589,
          99650,
          106104
         ],
         "yaxis": "y"
        },
        {
         "hovertemplate": "Year=Spokane<br>County=%{x}<br>Income=%{y}<extra></extra>",
         "legendgroup": "Spokane",
         "line": {
          "color": "#EF553B",
          "dash": "solid",
          "shape": "linear"
         },
         "marker": {
          "symbol": "circle"
         },
         "mode": "lines+markers",
         "name": "Spokane",
         "showlegend": true,
         "type": "scattergl",
         "x": [
          "1989",
          "1990",
          "1991",
          "1992",
          "1993",
          "1994",
          "1995",
          "1996",
          "1997",
          "1998",
          "1999",
          "2000",
          "2001",
          "2002",
          "2003",
          "2004",
          "2005",
          "2006",
          "2007",
          "2008",
          "2009",
          "2010",
          "2011",
          "2012",
          "2013",
          "2014",
          "2015",
          "2016",
          "2017",
          "2018",
          "2019",
          "2020",
          "2021",
          "2022"
         ],
         "xaxis": "x",
         "y": [
          25769,
          27337,
          28355,
          29570,
          30482,
          31631,
          32256,
          33517,
          34920,
          36389,
          37308,
          39401,
          40525,
          40872,
          42533,
          44836,
          44538,
          45753,
          47848,
          48876,
          46983,
          46320,
          46846,
          48265,
          48312,
          50856,
          48189,
          49482,
          49954,
          55535,
          59976,
          60827,
          65571,
          70685
         ],
         "yaxis": "y"
        },
        {
         "hovertemplate": "Year=Stevens<br>County=%{x}<br>Income=%{y}<extra></extra>",
         "legendgroup": "Stevens",
         "line": {
          "color": "#00cc96",
          "dash": "solid",
          "shape": "linear"
         },
         "marker": {
          "symbol": "circle"
         },
         "mode": "lines+markers",
         "name": "Stevens",
         "showlegend": true,
         "type": "scattergl",
         "x": [
          "1989",
          "1990",
          "1991",
          "1992",
          "1993",
          "1994",
          "1995",
          "1996",
          "1997",
          "1998",
          "1999",
          "2000",
          "2001",
          "2002",
          "2003",
          "2004",
          "2005",
          "2006",
          "2007",
          "2008",
          "2009",
          "2010",
          "2011",
          "2012",
          "2013",
          "2014",
          "2015",
          "2016",
          "2017",
          "2018",
          "2019",
          "2020",
          "2021",
          "2022"
         ],
         "xaxis": "x",
         "y": [
          24440,
          25609,
          26482,
          27519,
          28818,
          29854,
          29783,
          30759,
          32435,
          33851,
          34673,
          33370,
          35256,
          35074,
          35824,
          36591,
          37712,
          39641,
          41484,
          42573,
          41619,
          40008,
          40282,
          41643,
          45528,
          45683,
          42417,
          44467,
          45189,
          44363,
          55000,
          50958,
          60180,
          63241
         ],
         "yaxis": "y"
        },
        {
         "hovertemplate": "Year=Thurston<br>County=%{x}<br>Income=%{y}<extra></extra>",
         "legendgroup": "Thurston",
         "line": {
          "color": "#ab63fa",
          "dash": "solid",
          "shape": "linear"
         },
         "marker": {
          "symbol": "circle"
         },
         "mode": "lines+markers",
         "name": "Thurston",
         "showlegend": true,
         "type": "scattergl",
         "x": [
          "1989",
          "1990",
          "1991",
          "1992",
          "1993",
          "1994",
          "1995",
          "1996",
          "1997",
          "1998",
          "1999",
          "2000",
          "2001",
          "2002",
          "2003",
          "2004",
          "2005",
          "2006",
          "2007",
          "2008",
          "2009",
          "2010",
          "2011",
          "2012",
          "2013",
          "2014",
          "2015",
          "2016",
          "2017",
          "2018",
          "2019",
          "2020",
          "2021",
          "2022"
         ],
         "xaxis": "x",
         "y": [
          30976,
          33139,
          34851,
          36676,
          37766,
          38939,
          39971,
          41497,
          43748,
          45843,
          46975,
          48457,
          50885,
          51111,
          51243,
          52043,
          54914,
          57985,
          60576,
          63009,
          60978,
          60038,
          60621,
          62009,
          63408,
          65288,
          61676,
          63286,
          68765,
          69757,
          77890,
          79769,
          81544,
          83358
         ],
         "yaxis": "y"
        },
        {
         "hovertemplate": "Year=Wahkiakum<br>County=%{x}<br>Income=%{y}<extra></extra>",
         "legendgroup": "Wahkiakum",
         "line": {
          "color": "#FFA15A",
          "dash": "solid",
          "shape": "linear"
         },
         "marker": {
          "symbol": "circle"
         },
         "mode": "lines+markers",
         "name": "Wahkiakum",
         "showlegend": true,
         "type": "scattergl",
         "x": [
          "1989",
          "1990",
          "1991",
          "1992",
          "1993",
          "1994",
          "1995",
          "1996",
          "1997",
          "1998",
          "1999",
          "2000",
          "2001",
          "2002",
          "2003",
          "2004",
          "2005",
          "2006",
          "2007",
          "2008",
          "2009",
          "2010",
          "2011",
          "2012",
          "2013",
          "2014",
          "2015",
          "2016",
          "2017",
          "2018",
          "2019",
          "2020",
          "2021",
          "2022"
         ],
         "xaxis": "x",
         "y": [
          26969,
          28590,
          28459,
          29655,
          31076,
          31298,
          32688,
          34014,
          36566,
          38626,
          39444,
          40628,
          42972,
          42491,
          44243,
          43526,
          44188,
          46485,
          47888,
          47008,
          44867,
          44492,
          45083,
          45624,
          43140,
          47174,
          49898,
          50872,
          50433,
          52309,
          61123,
          62099,
          64777,
          67570
         ],
         "yaxis": "y"
        },
        {
         "hovertemplate": "Year=Walla Walla<br>County=%{x}<br>Income=%{y}<extra></extra>",
         "legendgroup": "Walla Walla",
         "line": {
          "color": "#19d3f3",
          "dash": "solid",
          "shape": "linear"
         },
         "marker": {
          "symbol": "circle"
         },
         "mode": "lines+markers",
         "name": "Walla Walla",
         "showlegend": true,
         "type": "scattergl",
         "x": [
          "1989",
          "1990",
          "1991",
          "1992",
          "1993",
          "1994",
          "1995",
          "1996",
          "1997",
          "1998",
          "1999",
          "2000",
          "2001",
          "2002",
          "2003",
          "2004",
          "2005",
          "2006",
          "2007",
          "2008",
          "2009",
          "2010",
          "2011",
          "2012",
          "2013",
          "2014",
          "2015",
          "2016",
          "2017",
          "2018",
          "2019",
          "2020",
          "2021",
          "2022"
         ],
         "xaxis": "x",
         "y": [
          24414,
          25808,
          26242,
          27647,
          28902,
          30152,
          31014,
          32957,
          34094,
          35688,
          35900,
          34533,
          36943,
          36443,
          37184,
          37885,
          38523,
          40600,
          43995,
          44940,
          44267,
          44117,
          44606,
          46147,
          47238,
          50835,
          49619,
          52094,
          52721,
          55721,
          60202,
          61281,
          63631,
          66071
         ],
         "yaxis": "y"
        },
        {
         "hovertemplate": "Year=Whatcom<br>County=%{x}<br>Income=%{y}<extra></extra>",
         "legendgroup": "Whatcom",
         "line": {
          "color": "#FF6692",
          "dash": "solid",
          "shape": "linear"
         },
         "marker": {
          "symbol": "circle"
         },
         "mode": "lines+markers",
         "name": "Whatcom",
         "showlegend": true,
         "type": "scattergl",
         "x": [
          "1989",
          "1990",
          "1991",
          "1992",
          "1993",
          "1994",
          "1995",
          "1996",
          "1997",
          "1998",
          "1999",
          "2000",
          "2001",
          "2002",
          "2003",
          "2004",
          "2005",
          "2006",
          "2007",
          "2008",
          "2009",
          "2010",
          "2011",
          "2012",
          "2013",
          "2014",
          "2015",
          "2016",
          "2017",
          "2018",
          "2019",
          "2020",
          "2021",
          "2022"
         ],
         "xaxis": "x",
         "y": [
          28367,
          31097,
          31953,
          32599,
          32958,
          34031,
          34893,
          36492,
          37553,
          39188,
          40005,
          37044,
          39301,
          39568,
          40486,
          41151,
          43372,
          46879,
          49778,
          50443,
          49761,
          49294,
          49775,
          51268,
          50879,
          53481,
          54522,
          55710,
          60028,
          61244,
          68656,
          70463,
          71739,
          73038
         ],
         "yaxis": "y"
        },
        {
         "hovertemplate": "Year=Whitman<br>County=%{x}<br>Income=%{y}<extra></extra>",
         "legendgroup": "Whitman",
         "line": {
          "color": "#B6E880",
          "dash": "solid",
          "shape": "linear"
         },
         "marker": {
          "symbol": "circle"
         },
         "mode": "lines+markers",
         "name": "Whitman",
         "showlegend": true,
         "type": "scattergl",
         "x": [
          "1989",
          "1990",
          "1991",
          "1992",
          "1993",
          "1994",
          "1995",
          "1996",
          "1997",
          "1998",
          "1999",
          "2000",
          "2001",
          "2002",
          "2003",
          "2004",
          "2005",
          "2006",
          "2007",
          "2008",
          "2009",
          "2010",
          "2011",
          "2012",
          "2013",
          "2014",
          "2015",
          "2016",
          "2017",
          "2018",
          "2019",
          "2020",
          "2021",
          "2022"
         ],
         "xaxis": "x",
         "y": [
          21674,
          22949,
          23735,
          24389,
          25162,
          25134,
          26270,
          27838,
          28697,
          29174,
          28584,
          24596,
          24841,
          24805,
          25869,
          26752,
          26788,
          28303,
          31302,
          32604,
          32037,
          31062,
          31396,
          32570,
          43091,
          42218,
          43379,
          49946,
          52543,
          53100,
          45906,
          52066,
          53140,
          54236
         ],
         "yaxis": "y"
        },
        {
         "hovertemplate": "Year=Yakima<br>County=%{x}<br>Income=%{y}<extra></extra>",
         "legendgroup": "Yakima",
         "line": {
          "color": "#FF97FF",
          "dash": "solid",
          "shape": "linear"
         },
         "marker": {
          "symbol": "circle"
         },
         "mode": "lines+markers",
         "name": "Yakima",
         "showlegend": true,
         "type": "scattergl",
         "x": [
          "1989",
          "1990",
          "1991",
          "1992",
          "1993",
          "1994",
          "1995",
          "1996",
          "1997",
          "1998",
          "1999",
          "2000",
          "2001",
          "2002",
          "2003",
          "2004",
          "2005",
          "2006",
          "2007",
          "2008",
          "2009",
          "2010",
          "2011",
          "2012",
          "2013",
          "2014",
          "2015",
          "2016",
          "2017",
          "2018",
          "2019",
          "2020",
          "2021",
          "2022"
         ],
         "xaxis": "x",
         "y": [
          23612,
          25484,
          25866,
          27085,
          28079,
          29164,
          29717,
          31442,
          32946,
          34649,
          34828,
          34630,
          36037,
          36141,
          38095,
          39394,
          37968,
          37576,
          41224,
          43692,
          39836,
          40802,
          41164,
          42162,
          40696,
          43050,
          46422,
          46957,
          46316,
          50019,
          55674,
          56353,
          60058,
          64007
         ],
         "yaxis": "y"
        }
       ],
       "layout": {
        "legend": {
         "title": {
          "text": "Year"
         },
         "tracegroupgap": 0
        },
        "template": {
         "data": {
          "bar": [
           {
            "error_x": {
             "color": "#2a3f5f"
            },
            "error_y": {
             "color": "#2a3f5f"
            },
            "marker": {
             "line": {
              "color": "#E5ECF6",
              "width": 0.5
             },
             "pattern": {
              "fillmode": "overlay",
              "size": 10,
              "solidity": 0.2
             }
            },
            "type": "bar"
           }
          ],
          "barpolar": [
           {
            "marker": {
             "line": {
              "color": "#E5ECF6",
              "width": 0.5
             },
             "pattern": {
              "fillmode": "overlay",
              "size": 10,
              "solidity": 0.2
             }
            },
            "type": "barpolar"
           }
          ],
          "carpet": [
           {
            "aaxis": {
             "endlinecolor": "#2a3f5f",
             "gridcolor": "white",
             "linecolor": "white",
             "minorgridcolor": "white",
             "startlinecolor": "#2a3f5f"
            },
            "baxis": {
             "endlinecolor": "#2a3f5f",
             "gridcolor": "white",
             "linecolor": "white",
             "minorgridcolor": "white",
             "startlinecolor": "#2a3f5f"
            },
            "type": "carpet"
           }
          ],
          "choropleth": [
           {
            "colorbar": {
             "outlinewidth": 0,
             "ticks": ""
            },
            "type": "choropleth"
           }
          ],
          "contour": [
           {
            "colorbar": {
             "outlinewidth": 0,
             "ticks": ""
            },
            "colorscale": [
             [
              0,
              "#0d0887"
             ],
             [
              0.1111111111111111,
              "#46039f"
             ],
             [
              0.2222222222222222,
              "#7201a8"
             ],
             [
              0.3333333333333333,
              "#9c179e"
             ],
             [
              0.4444444444444444,
              "#bd3786"
             ],
             [
              0.5555555555555556,
              "#d8576b"
             ],
             [
              0.6666666666666666,
              "#ed7953"
             ],
             [
              0.7777777777777778,
              "#fb9f3a"
             ],
             [
              0.8888888888888888,
              "#fdca26"
             ],
             [
              1,
              "#f0f921"
             ]
            ],
            "type": "contour"
           }
          ],
          "contourcarpet": [
           {
            "colorbar": {
             "outlinewidth": 0,
             "ticks": ""
            },
            "type": "contourcarpet"
           }
          ],
          "heatmap": [
           {
            "colorbar": {
             "outlinewidth": 0,
             "ticks": ""
            },
            "colorscale": [
             [
              0,
              "#0d0887"
             ],
             [
              0.1111111111111111,
              "#46039f"
             ],
             [
              0.2222222222222222,
              "#7201a8"
             ],
             [
              0.3333333333333333,
              "#9c179e"
             ],
             [
              0.4444444444444444,
              "#bd3786"
             ],
             [
              0.5555555555555556,
              "#d8576b"
             ],
             [
              0.6666666666666666,
              "#ed7953"
             ],
             [
              0.7777777777777778,
              "#fb9f3a"
             ],
             [
              0.8888888888888888,
              "#fdca26"
             ],
             [
              1,
              "#f0f921"
             ]
            ],
            "type": "heatmap"
           }
          ],
          "heatmapgl": [
           {
            "colorbar": {
             "outlinewidth": 0,
             "ticks": ""
            },
            "colorscale": [
             [
              0,
              "#0d0887"
             ],
             [
              0.1111111111111111,
              "#46039f"
             ],
             [
              0.2222222222222222,
              "#7201a8"
             ],
             [
              0.3333333333333333,
              "#9c179e"
             ],
             [
              0.4444444444444444,
              "#bd3786"
             ],
             [
              0.5555555555555556,
              "#d8576b"
             ],
             [
              0.6666666666666666,
              "#ed7953"
             ],
             [
              0.7777777777777778,
              "#fb9f3a"
             ],
             [
              0.8888888888888888,
              "#fdca26"
             ],
             [
              1,
              "#f0f921"
             ]
            ],
            "type": "heatmapgl"
           }
          ],
          "histogram": [
           {
            "marker": {
             "pattern": {
              "fillmode": "overlay",
              "size": 10,
              "solidity": 0.2
             }
            },
            "type": "histogram"
           }
          ],
          "histogram2d": [
           {
            "colorbar": {
             "outlinewidth": 0,
             "ticks": ""
            },
            "colorscale": [
             [
              0,
              "#0d0887"
             ],
             [
              0.1111111111111111,
              "#46039f"
             ],
             [
              0.2222222222222222,
              "#7201a8"
             ],
             [
              0.3333333333333333,
              "#9c179e"
             ],
             [
              0.4444444444444444,
              "#bd3786"
             ],
             [
              0.5555555555555556,
              "#d8576b"
             ],
             [
              0.6666666666666666,
              "#ed7953"
             ],
             [
              0.7777777777777778,
              "#fb9f3a"
             ],
             [
              0.8888888888888888,
              "#fdca26"
             ],
             [
              1,
              "#f0f921"
             ]
            ],
            "type": "histogram2d"
           }
          ],
          "histogram2dcontour": [
           {
            "colorbar": {
             "outlinewidth": 0,
             "ticks": ""
            },
            "colorscale": [
             [
              0,
              "#0d0887"
             ],
             [
              0.1111111111111111,
              "#46039f"
             ],
             [
              0.2222222222222222,
              "#7201a8"
             ],
             [
              0.3333333333333333,
              "#9c179e"
             ],
             [
              0.4444444444444444,
              "#bd3786"
             ],
             [
              0.5555555555555556,
              "#d8576b"
             ],
             [
              0.6666666666666666,
              "#ed7953"
             ],
             [
              0.7777777777777778,
              "#fb9f3a"
             ],
             [
              0.8888888888888888,
              "#fdca26"
             ],
             [
              1,
              "#f0f921"
             ]
            ],
            "type": "histogram2dcontour"
           }
          ],
          "mesh3d": [
           {
            "colorbar": {
             "outlinewidth": 0,
             "ticks": ""
            },
            "type": "mesh3d"
           }
          ],
          "parcoords": [
           {
            "line": {
             "colorbar": {
              "outlinewidth": 0,
              "ticks": ""
             }
            },
            "type": "parcoords"
           }
          ],
          "pie": [
           {
            "automargin": true,
            "type": "pie"
           }
          ],
          "scatter": [
           {
            "fillpattern": {
             "fillmode": "overlay",
             "size": 10,
             "solidity": 0.2
            },
            "type": "scatter"
           }
          ],
          "scatter3d": [
           {
            "line": {
             "colorbar": {
              "outlinewidth": 0,
              "ticks": ""
             }
            },
            "marker": {
             "colorbar": {
              "outlinewidth": 0,
              "ticks": ""
             }
            },
            "type": "scatter3d"
           }
          ],
          "scattercarpet": [
           {
            "marker": {
             "colorbar": {
              "outlinewidth": 0,
              "ticks": ""
             }
            },
            "type": "scattercarpet"
           }
          ],
          "scattergeo": [
           {
            "marker": {
             "colorbar": {
              "outlinewidth": 0,
              "ticks": ""
             }
            },
            "type": "scattergeo"
           }
          ],
          "scattergl": [
           {
            "marker": {
             "colorbar": {
              "outlinewidth": 0,
              "ticks": ""
             }
            },
            "type": "scattergl"
           }
          ],
          "scattermapbox": [
           {
            "marker": {
             "colorbar": {
              "outlinewidth": 0,
              "ticks": ""
             }
            },
            "type": "scattermapbox"
           }
          ],
          "scatterpolar": [
           {
            "marker": {
             "colorbar": {
              "outlinewidth": 0,
              "ticks": ""
             }
            },
            "type": "scatterpolar"
           }
          ],
          "scatterpolargl": [
           {
            "marker": {
             "colorbar": {
              "outlinewidth": 0,
              "ticks": ""
             }
            },
            "type": "scatterpolargl"
           }
          ],
          "scatterternary": [
           {
            "marker": {
             "colorbar": {
              "outlinewidth": 0,
              "ticks": ""
             }
            },
            "type": "scatterternary"
           }
          ],
          "surface": [
           {
            "colorbar": {
             "outlinewidth": 0,
             "ticks": ""
            },
            "colorscale": [
             [
              0,
              "#0d0887"
             ],
             [
              0.1111111111111111,
              "#46039f"
             ],
             [
              0.2222222222222222,
              "#7201a8"
             ],
             [
              0.3333333333333333,
              "#9c179e"
             ],
             [
              0.4444444444444444,
              "#bd3786"
             ],
             [
              0.5555555555555556,
              "#d8576b"
             ],
             [
              0.6666666666666666,
              "#ed7953"
             ],
             [
              0.7777777777777778,
              "#fb9f3a"
             ],
             [
              0.8888888888888888,
              "#fdca26"
             ],
             [
              1,
              "#f0f921"
             ]
            ],
            "type": "surface"
           }
          ],
          "table": [
           {
            "cells": {
             "fill": {
              "color": "#EBF0F8"
             },
             "line": {
              "color": "white"
             }
            },
            "header": {
             "fill": {
              "color": "#C8D4E3"
             },
             "line": {
              "color": "white"
             }
            },
            "type": "table"
           }
          ]
         },
         "layout": {
          "annotationdefaults": {
           "arrowcolor": "#2a3f5f",
           "arrowhead": 0,
           "arrowwidth": 1
          },
          "autotypenumbers": "strict",
          "coloraxis": {
           "colorbar": {
            "outlinewidth": 0,
            "ticks": ""
           }
          },
          "colorscale": {
           "diverging": [
            [
             0,
             "#8e0152"
            ],
            [
             0.1,
             "#c51b7d"
            ],
            [
             0.2,
             "#de77ae"
            ],
            [
             0.3,
             "#f1b6da"
            ],
            [
             0.4,
             "#fde0ef"
            ],
            [
             0.5,
             "#f7f7f7"
            ],
            [
             0.6,
             "#e6f5d0"
            ],
            [
             0.7,
             "#b8e186"
            ],
            [
             0.8,
             "#7fbc41"
            ],
            [
             0.9,
             "#4d9221"
            ],
            [
             1,
             "#276419"
            ]
           ],
           "sequential": [
            [
             0,
             "#0d0887"
            ],
            [
             0.1111111111111111,
             "#46039f"
            ],
            [
             0.2222222222222222,
             "#7201a8"
            ],
            [
             0.3333333333333333,
             "#9c179e"
            ],
            [
             0.4444444444444444,
             "#bd3786"
            ],
            [
             0.5555555555555556,
             "#d8576b"
            ],
            [
             0.6666666666666666,
             "#ed7953"
            ],
            [
             0.7777777777777778,
             "#fb9f3a"
            ],
            [
             0.8888888888888888,
             "#fdca26"
            ],
            [
             1,
             "#f0f921"
            ]
           ],
           "sequentialminus": [
            [
             0,
             "#0d0887"
            ],
            [
             0.1111111111111111,
             "#46039f"
            ],
            [
             0.2222222222222222,
             "#7201a8"
            ],
            [
             0.3333333333333333,
             "#9c179e"
            ],
            [
             0.4444444444444444,
             "#bd3786"
            ],
            [
             0.5555555555555556,
             "#d8576b"
            ],
            [
             0.6666666666666666,
             "#ed7953"
            ],
            [
             0.7777777777777778,
             "#fb9f3a"
            ],
            [
             0.8888888888888888,
             "#fdca26"
            ],
            [
             1,
             "#f0f921"
            ]
           ]
          },
          "colorway": [
           "#636efa",
           "#EF553B",
           "#00cc96",
           "#ab63fa",
           "#FFA15A",
           "#19d3f3",
           "#FF6692",
           "#B6E880",
           "#FF97FF",
           "#FECB52"
          ],
          "font": {
           "color": "#2a3f5f"
          },
          "geo": {
           "bgcolor": "white",
           "lakecolor": "white",
           "landcolor": "#E5ECF6",
           "showlakes": true,
           "showland": true,
           "subunitcolor": "white"
          },
          "hoverlabel": {
           "align": "left"
          },
          "hovermode": "closest",
          "mapbox": {
           "style": "light"
          },
          "paper_bgcolor": "white",
          "plot_bgcolor": "#E5ECF6",
          "polar": {
           "angularaxis": {
            "gridcolor": "white",
            "linecolor": "white",
            "ticks": ""
           },
           "bgcolor": "#E5ECF6",
           "radialaxis": {
            "gridcolor": "white",
            "linecolor": "white",
            "ticks": ""
           }
          },
          "scene": {
           "xaxis": {
            "backgroundcolor": "#E5ECF6",
            "gridcolor": "white",
            "gridwidth": 2,
            "linecolor": "white",
            "showbackground": true,
            "ticks": "",
            "zerolinecolor": "white"
           },
           "yaxis": {
            "backgroundcolor": "#E5ECF6",
            "gridcolor": "white",
            "gridwidth": 2,
            "linecolor": "white",
            "showbackground": true,
            "ticks": "",
            "zerolinecolor": "white"
           },
           "zaxis": {
            "backgroundcolor": "#E5ECF6",
            "gridcolor": "white",
            "gridwidth": 2,
            "linecolor": "white",
            "showbackground": true,
            "ticks": "",
            "zerolinecolor": "white"
           }
          },
          "shapedefaults": {
           "line": {
            "color": "#2a3f5f"
           }
          },
          "ternary": {
           "aaxis": {
            "gridcolor": "white",
            "linecolor": "white",
            "ticks": ""
           },
           "baxis": {
            "gridcolor": "white",
            "linecolor": "white",
            "ticks": ""
           },
           "bgcolor": "#E5ECF6",
           "caxis": {
            "gridcolor": "white",
            "linecolor": "white",
            "ticks": ""
           }
          },
          "title": {
           "x": 0.05
          },
          "xaxis": {
           "automargin": true,
           "gridcolor": "white",
           "linecolor": "white",
           "ticks": "",
           "title": {
            "standoff": 15
           },
           "zerolinecolor": "white",
           "zerolinewidth": 2
          },
          "yaxis": {
           "automargin": true,
           "gridcolor": "white",
           "linecolor": "white",
           "ticks": "",
           "title": {
            "standoff": 15
           },
           "zerolinecolor": "white",
           "zerolinewidth": 2
          }
         }
        },
        "title": {
         "text": "Income by County over Time"
        },
        "xaxis": {
         "anchor": "y",
         "domain": [
          0,
          1
         ],
         "title": {
          "text": "County"
         }
        },
        "yaxis": {
         "anchor": "x",
         "domain": [
          0,
          1
         ],
         "title": {
          "text": "Income"
         }
        }
       }
      }
     },
     "metadata": {},
     "output_type": "display_data"
    }
   ],
   "source": [
    "#All income of counties\n",
    "\n",
    "fig = px.line(income_df, labels={'index': 'County', 'value': 'Income'},\n",
    "              title='Income by County over Time', markers=True, line_shape='linear')\n",
    "fig.show()"
   ]
  },
  {
   "cell_type": "code",
   "execution_count": 59,
   "metadata": {},
   "outputs": [],
   "source": [
    "# Get the 5 greatest income counties and 5 least income counties\n",
    "\n",
    "last_row = income_df.iloc[-1]\n",
    "top_5 = last_row.sort_values(ascending=False).head(5)\n",
    "bottom_5 = last_row.sort_values().head(5)"
   ]
  },
  {
   "cell_type": "code",
   "execution_count": 66,
   "metadata": {},
   "outputs": [
    {
     "name": "stdout",
     "output_type": "stream",
     "text": [
      "Year\n",
      "King         118664.0\n",
      "Snohomish    106104.0\n",
      "Kitsap        91737.0\n",
      "Pierce        91092.0\n",
      "Clark         87397.0\n",
      "Name: 2022, dtype: object\n"
     ]
    },
    {
     "data": {
      "image/png": "[encoded data removed]",
      "text/plain": [
       "<Figure size 640x480 with 1 Axes>"
      ]
     },
     "metadata": {},
     "output_type": "display_data"
    }
   ],
   "source": [
    "# Most income by county\n",
    "\n",
    "print(top_5)\n",
    "top_5.plot(kind='bar')\n",
    "plt.xlabel('County')\n",
    "plt.ylabel('Income')\n",
    "plt.title(\"Most Income by County in 2022\")\n",
    "plt.show()"
   ]
  },
  {
   "cell_type": "code",
   "execution_count": 67,
   "metadata": {},
   "outputs": [
    {
     "name": "stdout",
     "output_type": "stream",
     "text": [
      "Year\n",
      "Pend Oreille    52989.0\n",
      "Ferry           53577.0\n",
      "Whitman         54236.0\n",
      "Grays Harbor    56020.0\n",
      "Okanogan        57422.0\n",
      "Name: 2022, dtype: object\n"
     ]
    },
    {
     "data": {
      "image/png": "[encoded data removed]",
      "text/plain": [
       "<Figure size 640x480 with 1 Axes>"
      ]
     },
     "metadata": {},
     "output_type": "display_data"
    }
   ],
   "source": [
    "# Least income by county\n",
    "\n",
    "print(bottom_5)\n",
    "bottom_5.plot(kind='bar')\n",
    "plt.xlabel('County')\n",
    "plt.ylabel('Income')\n",
    "plt.title(\"Least Income by County in 2022\")\n",
    "plt.show()"
   ]
  },
  {
   "cell_type": "markdown",
   "metadata": {},
   "source": [
    "# Explore Charging Station Data"
   ]
  },
  {
   "cell_type": "code",
   "execution_count": 68,
   "metadata": {},
   "outputs": [
    {
     "data": {
      "text/html": [
       "<div>\n",
       "<style scoped>\n",
       "    .dataframe tbody tr th:only-of-type {\n",
       "        vertical-align: middle;\n",
       "    }\n",
       "\n",
       "    .dataframe tbody tr th {\n",
       "        vertical-align: top;\n",
       "    }\n",
       "\n",
       "    .dataframe thead th {\n",
       "        text-align: right;\n",
       "    }\n",
       "</style>\n",
       "<table border=\"1\" class=\"dataframe\">\n",
       "  <thead>\n",
       "    <tr style=\"text-align: right;\">\n",
       "      <th></th>\n",
       "      <th>City</th>\n",
       "      <th>ZIP</th>\n",
       "      <th>EV Network</th>\n",
       "      <th>EV Connector Types</th>\n",
       "      <th>EV Workplace Charging</th>\n",
       "    </tr>\n",
       "  </thead>\n",
       "  <tbody>\n",
       "    <tr>\n",
       "      <th>0</th>\n",
       "      <td>Lacey</td>\n",
       "      <td>98503</td>\n",
       "      <td>Non-Networked</td>\n",
       "      <td>J1772</td>\n",
       "      <td>False</td>\n",
       "    </tr>\n",
       "    <tr>\n",
       "      <th>1</th>\n",
       "      <td>Seattle</td>\n",
       "      <td>98188</td>\n",
       "      <td>Non-Networked</td>\n",
       "      <td>NEMA520</td>\n",
       "      <td>False</td>\n",
       "    </tr>\n",
       "    <tr>\n",
       "      <th>2</th>\n",
       "      <td>Spokane</td>\n",
       "      <td>99252</td>\n",
       "      <td>Non-Networked</td>\n",
       "      <td>J1772 NEMA520</td>\n",
       "      <td>False</td>\n",
       "    </tr>\n",
       "    <tr>\n",
       "      <th>3</th>\n",
       "      <td>Spokane</td>\n",
       "      <td>99201</td>\n",
       "      <td>Non-Networked</td>\n",
       "      <td>J1772</td>\n",
       "      <td>False</td>\n",
       "    </tr>\n",
       "    <tr>\n",
       "      <th>4</th>\n",
       "      <td>Bellevue</td>\n",
       "      <td>98004</td>\n",
       "      <td>ChargePoint Network</td>\n",
       "      <td>J1772</td>\n",
       "      <td>False</td>\n",
       "    </tr>\n",
       "    <tr>\n",
       "      <th>...</th>\n",
       "      <td>...</td>\n",
       "      <td>...</td>\n",
       "      <td>...</td>\n",
       "      <td>...</td>\n",
       "      <td>...</td>\n",
       "    </tr>\n",
       "    <tr>\n",
       "      <th>2278</th>\n",
       "      <td>Seattle</td>\n",
       "      <td>98109</td>\n",
       "      <td>ChargePoint Network</td>\n",
       "      <td>J1772</td>\n",
       "      <td>False</td>\n",
       "    </tr>\n",
       "    <tr>\n",
       "      <th>2279</th>\n",
       "      <td>Seattle</td>\n",
       "      <td>98109</td>\n",
       "      <td>ChargePoint Network</td>\n",
       "      <td>J1772</td>\n",
       "      <td>False</td>\n",
       "    </tr>\n",
       "    <tr>\n",
       "      <th>2280</th>\n",
       "      <td>Seattle</td>\n",
       "      <td>98109</td>\n",
       "      <td>ChargePoint Network</td>\n",
       "      <td>J1772</td>\n",
       "      <td>False</td>\n",
       "    </tr>\n",
       "    <tr>\n",
       "      <th>2281</th>\n",
       "      <td>Seattle</td>\n",
       "      <td>98109</td>\n",
       "      <td>ChargePoint Network</td>\n",
       "      <td>J1772</td>\n",
       "      <td>False</td>\n",
       "    </tr>\n",
       "    <tr>\n",
       "      <th>2282</th>\n",
       "      <td>Clarkston</td>\n",
       "      <td>99403</td>\n",
       "      <td>EV Connect</td>\n",
       "      <td>J1772COMBO</td>\n",
       "      <td>False</td>\n",
       "    </tr>\n",
       "  </tbody>\n",
       "</table>\n",
       "<p>2283 rows × 5 columns</p>\n",
       "</div>"
      ],
      "text/plain": [
       "           City    ZIP           EV Network EV Connector Types  \\\n",
       "0         Lacey  98503        Non-Networked              J1772   \n",
       "1       Seattle  98188        Non-Networked            NEMA520   \n",
       "2       Spokane  99252        Non-Networked      J1772 NEMA520   \n",
       "3       Spokane  99201        Non-Networked              J1772   \n",
       "4      Bellevue  98004  ChargePoint Network              J1772   \n",
       "...         ...    ...                  ...                ...   \n",
       "2278    Seattle  98109  ChargePoint Network              J1772   \n",
       "2279    Seattle  98109  ChargePoint Network              J1772   \n",
       "2280    Seattle  98109  ChargePoint Network              J1772   \n",
       "2281    Seattle  98109  ChargePoint Network              J1772   \n",
       "2282  Clarkston  99403           EV Connect         J1772COMBO   \n",
       "\n",
       "      EV Workplace Charging  \n",
       "0                     False  \n",
       "1                     False  \n",
       "2                     False  \n",
       "3                     False  \n",
       "4                     False  \n",
       "...                     ...  \n",
       "2278                  False  \n",
       "2279                  False  \n",
       "2280                  False  \n",
       "2281                  False  \n",
       "2282                  False  \n",
       "\n",
       "[2283 rows x 5 columns]"
      ]
     },
     "execution_count": 68,
     "metadata": {},
     "output_type": "execute_result"
    }
   ],
   "source": [
    "charging_stations_df"
   ]
  },
  {
   "cell_type": "code",
   "execution_count": 69,
   "metadata": {},
   "outputs": [
    {
     "name": "stdout",
     "output_type": "stream",
     "text": [
      "Seattle                 565\n",
      "Bellevue                270\n",
      "Tacoma                  101\n",
      "Spokane                  58\n",
      "Vancouver                57\n",
      "                       ... \n",
      "Steilacoom                1\n",
      "University Place          1\n",
      "SPOKANE                   1\n",
      "Tulalip                   1\n",
      "8900 E. Buckeye Ave.      1\n",
      "Name: City, Length: 226, dtype: int64\n"
     ]
    },
    {
     "data": {
      "image/png": "[encoded data removed]",
      "text/plain": [
       "<Figure size 640x480 with 1 Axes>"
      ]
     },
     "metadata": {},
     "output_type": "display_data"
    }
   ],
   "source": [
    "# Cities with the most charging stations\n",
    "\n",
    "category_counts = charging_stations_df['City'].value_counts()\n",
    "print(category_counts)\n",
    "#Top 10 counties\n",
    "category_counts = category_counts.head(10)\n",
    "category_counts.plot(kind='bar')\n",
    "plt.xlabel('City')\n",
    "plt.ylabel('Count')\n",
    "plt.show()"
   ]
  },
  {
   "cell_type": "code",
   "execution_count": 72,
   "metadata": {},
   "outputs": [
    {
     "name": "stdout",
     "output_type": "stream",
     "text": [
      "ChargePoint Network    1077\n",
      "Blink Network           377\n",
      "Non-Networked           309\n",
      "Tesla Destination       112\n",
      "Volta                   106\n",
      "SHELL_RECHARGE           61\n",
      "Tesla                    49\n",
      "Electrify America        49\n",
      "EV Connect               42\n",
      "eVgo Network             33\n",
      "FLO                      26\n",
      "OpConnect                15\n",
      "EVCS                     14\n",
      "RIVIAN_ADVENTURE          6\n",
      "AMPUP                     5\n",
      "FLASH                     1\n",
      "EVMATCH                   1\n",
      "Name: EV Network, dtype: int64\n"
     ]
    },
    {
     "data": {
      "image/png": "[encoded data removed]",
      "text/plain": [
       "<Figure size 640x480 with 1 Axes>"
      ]
     },
     "metadata": {},
     "output_type": "display_data"
    }
   ],
   "source": [
    "#Type of networks quantified\n",
    "\n",
    "category_counts = charging_stations_df['EV Network'].value_counts()\n",
    "print(category_counts)\n",
    "#Top 10 counties\n",
    "category_counts = category_counts.head(10)\n",
    "category_counts.plot(kind='bar')\n",
    "plt.xlabel('EV Network Type')\n",
    "plt.ylabel('Count')\n",
    "plt.show()"
   ]
  },
  {
   "cell_type": "markdown",
   "metadata": {},
   "source": [
    "# Explore Electic Vehicle Sales Nationwide Data"
   ]
  },
  {
   "cell_type": "code",
   "execution_count": 74,
   "metadata": {},
   "outputs": [
    {
     "data": {
      "text/html": [
       "<div>\n",
       "<style scoped>\n",
       "    .dataframe tbody tr th:only-of-type {\n",
       "        vertical-align: middle;\n",
       "    }\n",
       "\n",
       "    .dataframe tbody tr th {\n",
       "        vertical-align: top;\n",
       "    }\n",
       "\n",
       "    .dataframe thead th {\n",
       "        text-align: right;\n",
       "    }\n",
       "</style>\n",
       "<table border=\"1\" class=\"dataframe\">\n",
       "  <thead>\n",
       "    <tr style=\"text-align: right;\">\n",
       "      <th></th>\n",
       "      <th>Statistic</th>\n",
       "      <th>Value</th>\n",
       "      <th>Fiscal Year</th>\n",
       "    </tr>\n",
       "  </thead>\n",
       "  <tbody>\n",
       "    <tr>\n",
       "      <th>0</th>\n",
       "      <td>HEV</td>\n",
       "      <td>9400</td>\n",
       "      <td>2000</td>\n",
       "    </tr>\n",
       "    <tr>\n",
       "      <th>1</th>\n",
       "      <td>HEV</td>\n",
       "      <td>20300</td>\n",
       "      <td>2001</td>\n",
       "    </tr>\n",
       "    <tr>\n",
       "      <th>2</th>\n",
       "      <td>HEV</td>\n",
       "      <td>36000</td>\n",
       "      <td>2002</td>\n",
       "    </tr>\n",
       "    <tr>\n",
       "      <th>3</th>\n",
       "      <td>HEV</td>\n",
       "      <td>47600</td>\n",
       "      <td>2003</td>\n",
       "    </tr>\n",
       "    <tr>\n",
       "      <th>4</th>\n",
       "      <td>HEV</td>\n",
       "      <td>84200</td>\n",
       "      <td>2004</td>\n",
       "    </tr>\n",
       "    <tr>\n",
       "      <th>5</th>\n",
       "      <td>HEV</td>\n",
       "      <td>205900</td>\n",
       "      <td>2005</td>\n",
       "    </tr>\n",
       "    <tr>\n",
       "      <th>6</th>\n",
       "      <td>HEV</td>\n",
       "      <td>251900</td>\n",
       "      <td>2006</td>\n",
       "    </tr>\n",
       "    <tr>\n",
       "      <th>7</th>\n",
       "      <td>HEV</td>\n",
       "      <td>351100</td>\n",
       "      <td>2007</td>\n",
       "    </tr>\n",
       "    <tr>\n",
       "      <th>8</th>\n",
       "      <td>HEV</td>\n",
       "      <td>315800</td>\n",
       "      <td>2008</td>\n",
       "    </tr>\n",
       "    <tr>\n",
       "      <th>9</th>\n",
       "      <td>HEV</td>\n",
       "      <td>290300</td>\n",
       "      <td>2009</td>\n",
       "    </tr>\n",
       "    <tr>\n",
       "      <th>10</th>\n",
       "      <td>PHEV</td>\n",
       "      <td>300</td>\n",
       "      <td>2010</td>\n",
       "    </tr>\n",
       "    <tr>\n",
       "      <th>11</th>\n",
       "      <td>HEV</td>\n",
       "      <td>274600</td>\n",
       "      <td>2010</td>\n",
       "    </tr>\n",
       "    <tr>\n",
       "      <th>12</th>\n",
       "      <td>PHEV</td>\n",
       "      <td>7700</td>\n",
       "      <td>2011</td>\n",
       "    </tr>\n",
       "    <tr>\n",
       "      <th>13</th>\n",
       "      <td>HEV</td>\n",
       "      <td>268700</td>\n",
       "      <td>2011</td>\n",
       "    </tr>\n",
       "    <tr>\n",
       "      <th>14</th>\n",
       "      <td>BEV</td>\n",
       "      <td>10100</td>\n",
       "      <td>2011</td>\n",
       "    </tr>\n",
       "    <tr>\n",
       "      <th>15</th>\n",
       "      <td>BEV</td>\n",
       "      <td>14600</td>\n",
       "      <td>2012</td>\n",
       "    </tr>\n",
       "    <tr>\n",
       "      <th>16</th>\n",
       "      <td>HEV</td>\n",
       "      <td>434600</td>\n",
       "      <td>2012</td>\n",
       "    </tr>\n",
       "    <tr>\n",
       "      <th>17</th>\n",
       "      <td>PHEV</td>\n",
       "      <td>38600</td>\n",
       "      <td>2012</td>\n",
       "    </tr>\n",
       "    <tr>\n",
       "      <th>18</th>\n",
       "      <td>PHEV</td>\n",
       "      <td>49000</td>\n",
       "      <td>2013</td>\n",
       "    </tr>\n",
       "    <tr>\n",
       "      <th>19</th>\n",
       "      <td>HEV</td>\n",
       "      <td>495500</td>\n",
       "      <td>2013</td>\n",
       "    </tr>\n",
       "    <tr>\n",
       "      <th>20</th>\n",
       "      <td>BEV</td>\n",
       "      <td>48100</td>\n",
       "      <td>2013</td>\n",
       "    </tr>\n",
       "    <tr>\n",
       "      <th>21</th>\n",
       "      <td>BEV</td>\n",
       "      <td>63500</td>\n",
       "      <td>2014</td>\n",
       "    </tr>\n",
       "    <tr>\n",
       "      <th>22</th>\n",
       "      <td>PHEV</td>\n",
       "      <td>55400</td>\n",
       "      <td>2014</td>\n",
       "    </tr>\n",
       "    <tr>\n",
       "      <th>23</th>\n",
       "      <td>HEV</td>\n",
       "      <td>452200</td>\n",
       "      <td>2014</td>\n",
       "    </tr>\n",
       "    <tr>\n",
       "      <th>24</th>\n",
       "      <td>HEV</td>\n",
       "      <td>384400</td>\n",
       "      <td>2015</td>\n",
       "    </tr>\n",
       "    <tr>\n",
       "      <th>25</th>\n",
       "      <td>PHEV</td>\n",
       "      <td>43000</td>\n",
       "      <td>2015</td>\n",
       "    </tr>\n",
       "    <tr>\n",
       "      <th>26</th>\n",
       "      <td>BEV</td>\n",
       "      <td>71100</td>\n",
       "      <td>2015</td>\n",
       "    </tr>\n",
       "    <tr>\n",
       "      <th>27</th>\n",
       "      <td>BEV</td>\n",
       "      <td>86700</td>\n",
       "      <td>2016</td>\n",
       "    </tr>\n",
       "    <tr>\n",
       "      <th>28</th>\n",
       "      <td>HEV</td>\n",
       "      <td>346900</td>\n",
       "      <td>2016</td>\n",
       "    </tr>\n",
       "    <tr>\n",
       "      <th>29</th>\n",
       "      <td>PHEV</td>\n",
       "      <td>72900</td>\n",
       "      <td>2016</td>\n",
       "    </tr>\n",
       "    <tr>\n",
       "      <th>30</th>\n",
       "      <td>BEV</td>\n",
       "      <td>104500</td>\n",
       "      <td>2017</td>\n",
       "    </tr>\n",
       "    <tr>\n",
       "      <th>31</th>\n",
       "      <td>PHEV</td>\n",
       "      <td>91200</td>\n",
       "      <td>2017</td>\n",
       "    </tr>\n",
       "    <tr>\n",
       "      <th>32</th>\n",
       "      <td>HEV</td>\n",
       "      <td>362900</td>\n",
       "      <td>2017</td>\n",
       "    </tr>\n",
       "    <tr>\n",
       "      <th>33</th>\n",
       "      <td>PHEV</td>\n",
       "      <td>123900</td>\n",
       "      <td>2018</td>\n",
       "    </tr>\n",
       "    <tr>\n",
       "      <th>34</th>\n",
       "      <td>HEV</td>\n",
       "      <td>338100</td>\n",
       "      <td>2018</td>\n",
       "    </tr>\n",
       "    <tr>\n",
       "      <th>35</th>\n",
       "      <td>BEV</td>\n",
       "      <td>207100</td>\n",
       "      <td>2018</td>\n",
       "    </tr>\n",
       "    <tr>\n",
       "      <th>36</th>\n",
       "      <td>BEV</td>\n",
       "      <td>233800</td>\n",
       "      <td>2019</td>\n",
       "    </tr>\n",
       "    <tr>\n",
       "      <th>37</th>\n",
       "      <td>HEV</td>\n",
       "      <td>399400</td>\n",
       "      <td>2019</td>\n",
       "    </tr>\n",
       "    <tr>\n",
       "      <th>38</th>\n",
       "      <td>PHEV</td>\n",
       "      <td>85800</td>\n",
       "      <td>2019</td>\n",
       "    </tr>\n",
       "    <tr>\n",
       "      <th>39</th>\n",
       "      <td>PHEV</td>\n",
       "      <td>69000</td>\n",
       "      <td>2020</td>\n",
       "    </tr>\n",
       "    <tr>\n",
       "      <th>40</th>\n",
       "      <td>BEV</td>\n",
       "      <td>238500</td>\n",
       "      <td>2020</td>\n",
       "    </tr>\n",
       "    <tr>\n",
       "      <th>41</th>\n",
       "      <td>HEV</td>\n",
       "      <td>455100</td>\n",
       "      <td>2020</td>\n",
       "    </tr>\n",
       "    <tr>\n",
       "      <th>42</th>\n",
       "      <td>PHEV</td>\n",
       "      <td>173500</td>\n",
       "      <td>2021</td>\n",
       "    </tr>\n",
       "    <tr>\n",
       "      <th>43</th>\n",
       "      <td>BEV</td>\n",
       "      <td>459400</td>\n",
       "      <td>2021</td>\n",
       "    </tr>\n",
       "    <tr>\n",
       "      <th>44</th>\n",
       "      <td>HEV</td>\n",
       "      <td>799000</td>\n",
       "      <td>2021</td>\n",
       "    </tr>\n",
       "  </tbody>\n",
       "</table>\n",
       "</div>"
      ],
      "text/plain": [
       "   Statistic   Value  Fiscal Year\n",
       "0        HEV    9400         2000\n",
       "1        HEV   20300         2001\n",
       "2        HEV   36000         2002\n",
       "3        HEV   47600         2003\n",
       "4        HEV   84200         2004\n",
       "5        HEV  205900         2005\n",
       "6        HEV  251900         2006\n",
       "7        HEV  351100         2007\n",
       "8        HEV  315800         2008\n",
       "9        HEV  290300         2009\n",
       "10      PHEV     300         2010\n",
       "11       HEV  274600         2010\n",
       "12      PHEV    7700         2011\n",
       "13       HEV  268700         2011\n",
       "14       BEV   10100         2011\n",
       "15       BEV   14600         2012\n",
       "16       HEV  434600         2012\n",
       "17      PHEV   38600         2012\n",
       "18      PHEV   49000         2013\n",
       "19       HEV  495500         2013\n",
       "20       BEV   48100         2013\n",
       "21       BEV   63500         2014\n",
       "22      PHEV   55400         2014\n",
       "23       HEV  452200         2014\n",
       "24       HEV  384400         2015\n",
       "25      PHEV   43000         2015\n",
       "26       BEV   71100         2015\n",
       "27       BEV   86700         2016\n",
       "28       HEV  346900         2016\n",
       "29      PHEV   72900         2016\n",
       "30       BEV  104500         2017\n",
       "31      PHEV   91200         2017\n",
       "32       HEV  362900         2017\n",
       "33      PHEV  123900         2018\n",
       "34       HEV  338100         2018\n",
       "35       BEV  207100         2018\n",
       "36       BEV  233800         2019\n",
       "37       HEV  399400         2019\n",
       "38      PHEV   85800         2019\n",
       "39      PHEV   69000         2020\n",
       "40       BEV  238500         2020\n",
       "41       HEV  455100         2020\n",
       "42      PHEV  173500         2021\n",
       "43       BEV  459400         2021\n",
       "44       HEV  799000         2021"
      ]
     },
     "execution_count": 74,
     "metadata": {},
     "output_type": "execute_result"
    }
   ],
   "source": [
    "ev_sales_nation_df"
   ]
  },
  {
   "cell_type": "code",
   "execution_count": 88,
   "metadata": {},
   "outputs": [
    {
     "name": "stderr",
     "output_type": "stream",
     "text": [
      "C:\\Users\\riley\\AppData\\Local\\Temp\\ipykernel_2936\\214468921.py:6: SettingWithCopyWarning:\n",
      "\n",
      "\n",
      "A value is trying to be set on a copy of a slice from a DataFrame\n",
      "\n",
      "See the caveats in the documentation: https://pandas.pydata.org/pandas-docs/stable/user_guide/indexing.html#returning-a-view-versus-a-copy\n",
      "\n"
     ]
    },
    {
     "data": {
      "application/vnd.plotly.v1+json": {
       "config": {
        "plotlyServerURL": "https://plot.ly"
       },
       "data": [
        {
         "hovertemplate": "Year=%{x}<br>Car Sales=%{y}<extra></extra>",
         "legendgroup": "",
         "line": {
          "color": "#636efa",
          "dash": "solid",
          "shape": "linear"
         },
         "marker": {
          "symbol": "circle"
         },
         "mode": "lines+markers",
         "name": "",
         "orientation": "v",
         "showlegend": false,
         "type": "scatter",
         "x": [
          2000,
          2001,
          2002,
          2003,
          2004,
          2005,
          2006,
          2007,
          2008,
          2009,
          2010,
          2011,
          2012,
          2013,
          2014,
          2015,
          2016,
          2017,
          2018,
          2019,
          2020,
          2021
         ],
         "xaxis": "x",
         "y": [
          9400,
          20300,
          36000,
          47600,
          84200,
          205900,
          251900,
          351100,
          315800,
          290300,
          274600,
          268700,
          434600,
          495500,
          452200,
          384400,
          346900,
          362900,
          338100,
          399400,
          455100,
          799000
         ],
         "yaxis": "y"
        }
       ],
       "layout": {
        "legend": {
         "tracegroupgap": 0
        },
        "template": {
         "data": {
          "bar": [
           {
            "error_x": {
             "color": "#2a3f5f"
            },
            "error_y": {
             "color": "#2a3f5f"
            },
            "marker": {
             "line": {
              "color": "#E5ECF6",
              "width": 0.5
             },
             "pattern": {
              "fillmode": "overlay",
              "size": 10,
              "solidity": 0.2
             }
            },
            "type": "bar"
           }
          ],
          "barpolar": [
           {
            "marker": {
             "line": {
              "color": "#E5ECF6",
              "width": 0.5
             },
             "pattern": {
              "fillmode": "overlay",
              "size": 10,
              "solidity": 0.2
             }
            },
            "type": "barpolar"
           }
          ],
          "carpet": [
           {
            "aaxis": {
             "endlinecolor": "#2a3f5f",
             "gridcolor": "white",
             "linecolor": "white",
             "minorgridcolor": "white",
             "startlinecolor": "#2a3f5f"
            },
            "baxis": {
             "endlinecolor": "#2a3f5f",
             "gridcolor": "white",
             "linecolor": "white",
             "minorgridcolor": "white",
             "startlinecolor": "#2a3f5f"
            },
            "type": "carpet"
           }
          ],
          "choropleth": [
           {
            "colorbar": {
             "outlinewidth": 0,
             "ticks": ""
            },
            "type": "choropleth"
           }
          ],
          "contour": [
           {
            "colorbar": {
             "outlinewidth": 0,
             "ticks": ""
            },
            "colorscale": [
             [
              0,
              "#0d0887"
             ],
             [
              0.1111111111111111,
              "#46039f"
             ],
             [
              0.2222222222222222,
              "#7201a8"
             ],
             [
              0.3333333333333333,
              "#9c179e"
             ],
             [
              0.4444444444444444,
              "#bd3786"
             ],
             [
              0.5555555555555556,
              "#d8576b"
             ],
             [
              0.6666666666666666,
              "#ed7953"
             ],
             [
              0.7777777777777778,
              "#fb9f3a"
             ],
             [
              0.8888888888888888,
              "#fdca26"
             ],
             [
              1,
              "#f0f921"
             ]
            ],
            "type": "contour"
           }
          ],
          "contourcarpet": [
           {
            "colorbar": {
             "outlinewidth": 0,
             "ticks": ""
            },
            "type": "contourcarpet"
           }
          ],
          "heatmap": [
           {
            "colorbar": {
             "outlinewidth": 0,
             "ticks": ""
            },
            "colorscale": [
             [
              0,
              "#0d0887"
             ],
             [
              0.1111111111111111,
              "#46039f"
             ],
             [
              0.2222222222222222,
              "#7201a8"
             ],
             [
              0.3333333333333333,
              "#9c179e"
             ],
             [
              0.4444444444444444,
              "#bd3786"
             ],
             [
              0.5555555555555556,
              "#d8576b"
             ],
             [
              0.6666666666666666,
              "#ed7953"
             ],
             [
              0.7777777777777778,
              "#fb9f3a"
             ],
             [
              0.8888888888888888,
              "#fdca26"
             ],
             [
              1,
              "#f0f921"
             ]
            ],
            "type": "heatmap"
           }
          ],
          "heatmapgl": [
           {
            "colorbar": {
             "outlinewidth": 0,
             "ticks": ""
            },
            "colorscale": [
             [
              0,
              "#0d0887"
             ],
             [
              0.1111111111111111,
              "#46039f"
             ],
             [
              0.2222222222222222,
              "#7201a8"
             ],
             [
              0.3333333333333333,
              "#9c179e"
             ],
             [
              0.4444444444444444,
              "#bd3786"
             ],
             [
              0.5555555555555556,
              "#d8576b"
             ],
             [
              0.6666666666666666,
              "#ed7953"
             ],
             [
              0.7777777777777778,
              "#fb9f3a"
             ],
             [
              0.8888888888888888,
              "#fdca26"
             ],
             [
              1,
              "#f0f921"
             ]
            ],
            "type": "heatmapgl"
           }
          ],
          "histogram": [
           {
            "marker": {
             "pattern": {
              "fillmode": "overlay",
              "size": 10,
              "solidity": 0.2
             }
            },
            "type": "histogram"
           }
          ],
          "histogram2d": [
           {
            "colorbar": {
             "outlinewidth": 0,
             "ticks": ""
            },
            "colorscale": [
             [
              0,
              "#0d0887"
             ],
             [
              0.1111111111111111,
              "#46039f"
             ],
             [
              0.2222222222222222,
              "#7201a8"
             ],
             [
              0.3333333333333333,
              "#9c179e"
             ],
             [
              0.4444444444444444,
              "#bd3786"
             ],
             [
              0.5555555555555556,
              "#d8576b"
             ],
             [
              0.6666666666666666,
              "#ed7953"
             ],
             [
              0.7777777777777778,
              "#fb9f3a"
             ],
             [
              0.8888888888888888,
              "#fdca26"
             ],
             [
              1,
              "#f0f921"
             ]
            ],
            "type": "histogram2d"
           }
          ],
          "histogram2dcontour": [
           {
            "colorbar": {
             "outlinewidth": 0,
             "ticks": ""
            },
            "colorscale": [
             [
              0,
              "#0d0887"
             ],
             [
              0.1111111111111111,
              "#46039f"
             ],
             [
              0.2222222222222222,
              "#7201a8"
             ],
             [
              0.3333333333333333,
              "#9c179e"
             ],
             [
              0.4444444444444444,
              "#bd3786"
             ],
             [
              0.5555555555555556,
              "#d8576b"
             ],
             [
              0.6666666666666666,
              "#ed7953"
             ],
             [
              0.7777777777777778,
              "#fb9f3a"
             ],
             [
              0.8888888888888888,
              "#fdca26"
             ],
             [
              1,
              "#f0f921"
             ]
            ],
            "type": "histogram2dcontour"
           }
          ],
          "mesh3d": [
           {
            "colorbar": {
             "outlinewidth": 0,
             "ticks": ""
            },
            "type": "mesh3d"
           }
          ],
          "parcoords": [
           {
            "line": {
             "colorbar": {
              "outlinewidth": 0,
              "ticks": ""
             }
            },
            "type": "parcoords"
           }
          ],
          "pie": [
           {
            "automargin": true,
            "type": "pie"
           }
          ],
          "scatter": [
           {
            "fillpattern": {
             "fillmode": "overlay",
             "size": 10,
             "solidity": 0.2
            },
            "type": "scatter"
           }
          ],
          "scatter3d": [
           {
            "line": {
             "colorbar": {
              "outlinewidth": 0,
              "ticks": ""
             }
            },
            "marker": {
             "colorbar": {
              "outlinewidth": 0,
              "ticks": ""
             }
            },
            "type": "scatter3d"
           }
          ],
          "scattercarpet": [
           {
            "marker": {
             "colorbar": {
              "outlinewidth": 0,
              "ticks": ""
             }
            },
            "type": "scattercarpet"
           }
          ],
          "scattergeo": [
           {
            "marker": {
             "colorbar": {
              "outlinewidth": 0,
              "ticks": ""
             }
            },
            "type": "scattergeo"
           }
          ],
          "scattergl": [
           {
            "marker": {
             "colorbar": {
              "outlinewidth": 0,
              "ticks": ""
             }
            },
            "type": "scattergl"
           }
          ],
          "scattermapbox": [
           {
            "marker": {
             "colorbar": {
              "outlinewidth": 0,
              "ticks": ""
             }
            },
            "type": "scattermapbox"
           }
          ],
          "scatterpolar": [
           {
            "marker": {
             "colorbar": {
              "outlinewidth": 0,
              "ticks": ""
             }
            },
            "type": "scatterpolar"
           }
          ],
          "scatterpolargl": [
           {
            "marker": {
             "colorbar": {
              "outlinewidth": 0,
              "ticks": ""
             }
            },
            "type": "scatterpolargl"
           }
          ],
          "scatterternary": [
           {
            "marker": {
             "colorbar": {
              "outlinewidth": 0,
              "ticks": ""
             }
            },
            "type": "scatterternary"
           }
          ],
          "surface": [
           {
            "colorbar": {
             "outlinewidth": 0,
             "ticks": ""
            },
            "colorscale": [
             [
              0,
              "#0d0887"
             ],
             [
              0.1111111111111111,
              "#46039f"
             ],
             [
              0.2222222222222222,
              "#7201a8"
             ],
             [
              0.3333333333333333,
              "#9c179e"
             ],
             [
              0.4444444444444444,
              "#bd3786"
             ],
             [
              0.5555555555555556,
              "#d8576b"
             ],
             [
              0.6666666666666666,
              "#ed7953"
             ],
             [
              0.7777777777777778,
              "#fb9f3a"
             ],
             [
              0.8888888888888888,
              "#fdca26"
             ],
             [
              1,
              "#f0f921"
             ]
            ],
            "type": "surface"
           }
          ],
          "table": [
           {
            "cells": {
             "fill": {
              "color": "#EBF0F8"
             },
             "line": {
              "color": "white"
             }
            },
            "header": {
             "fill": {
              "color": "#C8D4E3"
             },
             "line": {
              "color": "white"
             }
            },
            "type": "table"
           }
          ]
         },
         "layout": {
          "annotationdefaults": {
           "arrowcolor": "#2a3f5f",
           "arrowhead": 0,
           "arrowwidth": 1
          },
          "autotypenumbers": "strict",
          "coloraxis": {
           "colorbar": {
            "outlinewidth": 0,
            "ticks": ""
           }
          },
          "colorscale": {
           "diverging": [
            [
             0,
             "#8e0152"
            ],
            [
             0.1,
             "#c51b7d"
            ],
            [
             0.2,
             "#de77ae"
            ],
            [
             0.3,
             "#f1b6da"
            ],
            [
             0.4,
             "#fde0ef"
            ],
            [
             0.5,
             "#f7f7f7"
            ],
            [
             0.6,
             "#e6f5d0"
            ],
            [
             0.7,
             "#b8e186"
            ],
            [
             0.8,
             "#7fbc41"
            ],
            [
             0.9,
             "#4d9221"
            ],
            [
             1,
             "#276419"
            ]
           ],
           "sequential": [
            [
             0,
             "#0d0887"
            ],
            [
             0.1111111111111111,
             "#46039f"
            ],
            [
             0.2222222222222222,
             "#7201a8"
            ],
            [
             0.3333333333333333,
             "#9c179e"
            ],
            [
             0.4444444444444444,
             "#bd3786"
            ],
            [
             0.5555555555555556,
             "#d8576b"
            ],
            [
             0.6666666666666666,
             "#ed7953"
            ],
            [
             0.7777777777777778,
             "#fb9f3a"
            ],
            [
             0.8888888888888888,
             "#fdca26"
            ],
            [
             1,
             "#f0f921"
            ]
           ],
           "sequentialminus": [
            [
             0,
             "#0d0887"
            ],
            [
             0.1111111111111111,
             "#46039f"
            ],
            [
             0.2222222222222222,
             "#7201a8"
            ],
            [
             0.3333333333333333,
             "#9c179e"
            ],
            [
             0.4444444444444444,
             "#bd3786"
            ],
            [
             0.5555555555555556,
             "#d8576b"
            ],
            [
             0.6666666666666666,
             "#ed7953"
            ],
            [
             0.7777777777777778,
             "#fb9f3a"
            ],
            [
             0.8888888888888888,
             "#fdca26"
            ],
            [
             1,
             "#f0f921"
            ]
           ]
          },
          "colorway": [
           "#636efa",
           "#EF553B",
           "#00cc96",
           "#ab63fa",
           "#FFA15A",
           "#19d3f3",
           "#FF6692",
           "#B6E880",
           "#FF97FF",
           "#FECB52"
          ],
          "font": {
           "color": "#2a3f5f"
          },
          "geo": {
           "bgcolor": "white",
           "lakecolor": "white",
           "landcolor": "#E5ECF6",
           "showlakes": true,
           "showland": true,
           "subunitcolor": "white"
          },
          "hoverlabel": {
           "align": "left"
          },
          "hovermode": "closest",
          "mapbox": {
           "style": "light"
          },
          "paper_bgcolor": "white",
          "plot_bgcolor": "#E5ECF6",
          "polar": {
           "angularaxis": {
            "gridcolor": "white",
            "linecolor": "white",
            "ticks": ""
           },
           "bgcolor": "#E5ECF6",
           "radialaxis": {
            "gridcolor": "white",
            "linecolor": "white",
            "ticks": ""
           }
          },
          "scene": {
           "xaxis": {
            "backgroundcolor": "#E5ECF6",
            "gridcolor": "white",
            "gridwidth": 2,
            "linecolor": "white",
            "showbackground": true,
            "ticks": "",
            "zerolinecolor": "white"
           },
           "yaxis": {
            "backgroundcolor": "#E5ECF6",
            "gridcolor": "white",
            "gridwidth": 2,
            "linecolor": "white",
            "showbackground": true,
            "ticks": "",
            "zerolinecolor": "white"
           },
           "zaxis": {
            "backgroundcolor": "#E5ECF6",
            "gridcolor": "white",
            "gridwidth": 2,
            "linecolor": "white",
            "showbackground": true,
            "ticks": "",
            "zerolinecolor": "white"
           }
          },
          "shapedefaults": {
           "line": {
            "color": "#2a3f5f"
           }
          },
          "ternary": {
           "aaxis": {
            "gridcolor": "white",
            "linecolor": "white",
            "ticks": ""
           },
           "baxis": {
            "gridcolor": "white",
            "linecolor": "white",
            "ticks": ""
           },
           "bgcolor": "#E5ECF6",
           "caxis": {
            "gridcolor": "white",
            "linecolor": "white",
            "ticks": ""
           }
          },
          "title": {
           "x": 0.05
          },
          "xaxis": {
           "automargin": true,
           "gridcolor": "white",
           "linecolor": "white",
           "ticks": "",
           "title": {
            "standoff": 15
           },
           "zerolinecolor": "white",
           "zerolinewidth": 2
          },
          "yaxis": {
           "automargin": true,
           "gridcolor": "white",
           "linecolor": "white",
           "ticks": "",
           "title": {
            "standoff": 15
           },
           "zerolinecolor": "white",
           "zerolinewidth": 2
          }
         }
        },
        "title": {
         "text": "HEV Sales by Year"
        },
        "xaxis": {
         "anchor": "y",
         "domain": [
          0,
          1
         ],
         "title": {
          "text": "Year"
         }
        },
        "yaxis": {
         "anchor": "x",
         "domain": [
          0,
          1
         ],
         "title": {
          "text": "Car Sales"
         }
        }
       }
      }
     },
     "metadata": {},
     "output_type": "display_data"
    }
   ],
   "source": [
    "#Sale of HEVs Nationwide\n",
    "to_filter = 'HEV'\n",
    "column = 'Statistic'\n",
    "mask = ev_sales_nation_df[column] == to_filter\n",
    "df = ev_sales_nation_df[mask]\n",
    "df.drop(columns = [column], inplace=True)\n",
    "\n",
    "title = to_filter + ' Sales by Year'\n",
    "\n",
    "fig = px.line(x=df['Fiscal Year'], y=df['Value'], labels={'x': 'Year', 'y': 'Car Sales'},\n",
    "              title = title, markers=True, line_shape='linear')\n",
    "fig.show()"
   ]
  },
  {
   "cell_type": "code",
   "execution_count": 89,
   "metadata": {},
   "outputs": [
    {
     "name": "stderr",
     "output_type": "stream",
     "text": [
      "C:\\Users\\riley\\AppData\\Local\\Temp\\ipykernel_2936\\3851931485.py:6: SettingWithCopyWarning:\n",
      "\n",
      "\n",
      "A value is trying to be set on a copy of a slice from a DataFrame\n",
      "\n",
      "See the caveats in the documentation: https://pandas.pydata.org/pandas-docs/stable/user_guide/indexing.html#returning-a-view-versus-a-copy\n",
      "\n"
     ]
    },
    {
     "data": {
      "application/vnd.plotly.v1+json": {
       "config": {
        "plotlyServerURL": "https://plot.ly"
       },
       "data": [
        {
         "hovertemplate": "Year=%{x}<br>Car Sales=%{y}<extra></extra>",
         "legendgroup": "",
         "line": {
          "color": "#636efa",
          "dash": "solid",
          "shape": "linear"
         },
         "marker": {
          "symbol": "circle"
         },
         "mode": "lines+markers",
         "name": "",
         "orientation": "v",
         "showlegend": false,
         "type": "scatter",
         "x": [
          2010,
          2011,
          2012,
          2013,
          2014,
          2015,
          2016,
          2017,
          2018,
          2019,
          2020,
          2021
         ],
         "xaxis": "x",
         "y": [
          300,
          7700,
          38600,
          49000,
          55400,
          43000,
          72900,
          91200,
          123900,
          85800,
          69000,
          173500
         ],
         "yaxis": "y"
        }
       ],
       "layout": {
        "legend": {
         "tracegroupgap": 0
        },
        "template": {
         "data": {
          "bar": [
           {
            "error_x": {
             "color": "#2a3f5f"
            },
            "error_y": {
             "color": "#2a3f5f"
            },
            "marker": {
             "line": {
              "color": "#E5ECF6",
              "width": 0.5
             },
             "pattern": {
              "fillmode": "overlay",
              "size": 10,
              "solidity": 0.2
             }
            },
            "type": "bar"
           }
          ],
          "barpolar": [
           {
            "marker": {
             "line": {
              "color": "#E5ECF6",
              "width": 0.5
             },
             "pattern": {
              "fillmode": "overlay",
              "size": 10,
              "solidity": 0.2
             }
            },
            "type": "barpolar"
           }
          ],
          "carpet": [
           {
            "aaxis": {
             "endlinecolor": "#2a3f5f",
             "gridcolor": "white",
             "linecolor": "white",
             "minorgridcolor": "white",
             "startlinecolor": "#2a3f5f"
            },
            "baxis": {
             "endlinecolor": "#2a3f5f",
             "gridcolor": "white",
             "linecolor": "white",
             "minorgridcolor": "white",
             "startlinecolor": "#2a3f5f"
            },
            "type": "carpet"
           }
          ],
          "choropleth": [
           {
            "colorbar": {
             "outlinewidth": 0,
             "ticks": ""
            },
            "type": "choropleth"
           }
          ],
          "contour": [
           {
            "colorbar": {
             "outlinewidth": 0,
             "ticks": ""
            },
            "colorscale": [
             [
              0,
              "#0d0887"
             ],
             [
              0.1111111111111111,
              "#46039f"
             ],
             [
              0.2222222222222222,
              "#7201a8"
             ],
             [
              0.3333333333333333,
              "#9c179e"
             ],
             [
              0.4444444444444444,
              "#bd3786"
             ],
             [
              0.5555555555555556,
              "#d8576b"
             ],
             [
              0.6666666666666666,
              "#ed7953"
             ],
             [
              0.7777777777777778,
              "#fb9f3a"
             ],
             [
              0.8888888888888888,
              "#fdca26"
             ],
             [
              1,
              "#f0f921"
             ]
            ],
            "type": "contour"
           }
          ],
          "contourcarpet": [
           {
            "colorbar": {
             "outlinewidth": 0,
             "ticks": ""
            },
            "type": "contourcarpet"
           }
          ],
          "heatmap": [
           {
            "colorbar": {
             "outlinewidth": 0,
             "ticks": ""
            },
            "colorscale": [
             [
              0,
              "#0d0887"
             ],
             [
              0.1111111111111111,
              "#46039f"
             ],
             [
              0.2222222222222222,
              "#7201a8"
             ],
             [
              0.3333333333333333,
              "#9c179e"
             ],
             [
              0.4444444444444444,
              "#bd3786"
             ],
             [
              0.5555555555555556,
              "#d8576b"
             ],
             [
              0.6666666666666666,
              "#ed7953"
             ],
             [
              0.7777777777777778,
              "#fb9f3a"
             ],
             [
              0.8888888888888888,
              "#fdca26"
             ],
             [
              1,
              "#f0f921"
             ]
            ],
            "type": "heatmap"
           }
          ],
          "heatmapgl": [
           {
            "colorbar": {
             "outlinewidth": 0,
             "ticks": ""
            },
            "colorscale": [
             [
              0,
              "#0d0887"
             ],
             [
              0.1111111111111111,
              "#46039f"
             ],
             [
              0.2222222222222222,
              "#7201a8"
             ],
             [
              0.3333333333333333,
              "#9c179e"
             ],
             [
              0.4444444444444444,
              "#bd3786"
             ],
             [
              0.5555555555555556,
              "#d8576b"
             ],
             [
              0.6666666666666666,
              "#ed7953"
             ],
             [
              0.7777777777777778,
              "#fb9f3a"
             ],
             [
              0.8888888888888888,
              "#fdca26"
             ],
             [
              1,
              "#f0f921"
             ]
            ],
            "type": "heatmapgl"
           }
          ],
          "histogram": [
           {
            "marker": {
             "pattern": {
              "fillmode": "overlay",
              "size": 10,
              "solidity": 0.2
             }
            },
            "type": "histogram"
           }
          ],
          "histogram2d": [
           {
            "colorbar": {
             "outlinewidth": 0,
             "ticks": ""
            },
            "colorscale": [
             [
              0,
              "#0d0887"
             ],
             [
              0.1111111111111111,
              "#46039f"
             ],
             [
              0.2222222222222222,
              "#7201a8"
             ],
             [
              0.3333333333333333,
              "#9c179e"
             ],
             [
              0.4444444444444444,
              "#bd3786"
             ],
             [
              0.5555555555555556,
              "#d8576b"
             ],
             [
              0.6666666666666666,
              "#ed7953"
             ],
             [
              0.7777777777777778,
              "#fb9f3a"
             ],
             [
              0.8888888888888888,
              "#fdca26"
             ],
             [
              1,
              "#f0f921"
             ]
            ],
            "type": "histogram2d"
           }
          ],
          "histogram2dcontour": [
           {
            "colorbar": {
             "outlinewidth": 0,
             "ticks": ""
            },
            "colorscale": [
             [
              0,
              "#0d0887"
             ],
             [
              0.1111111111111111,
              "#46039f"
             ],
             [
              0.2222222222222222,
              "#7201a8"
             ],
             [
              0.3333333333333333,
              "#9c179e"
             ],
             [
              0.4444444444444444,
              "#bd3786"
             ],
             [
              0.5555555555555556,
              "#d8576b"
             ],
             [
              0.6666666666666666,
              "#ed7953"
             ],
             [
              0.7777777777777778,
              "#fb9f3a"
             ],
             [
              0.8888888888888888,
              "#fdca26"
             ],
             [
              1,
              "#f0f921"
             ]
            ],
            "type": "histogram2dcontour"
           }
          ],
          "mesh3d": [
           {
            "colorbar": {
             "outlinewidth": 0,
             "ticks": ""
            },
            "type": "mesh3d"
           }
          ],
          "parcoords": [
           {
            "line": {
             "colorbar": {
              "outlinewidth": 0,
              "ticks": ""
             }
            },
            "type": "parcoords"
           }
          ],
          "pie": [
           {
            "automargin": true,
            "type": "pie"
           }
          ],
          "scatter": [
           {
            "fillpattern": {
             "fillmode": "overlay",
             "size": 10,
             "solidity": 0.2
            },
            "type": "scatter"
           }
          ],
          "scatter3d": [
           {
            "line": {
             "colorbar": {
              "outlinewidth": 0,
              "ticks": ""
             }
            },
            "marker": {
             "colorbar": {
              "outlinewidth": 0,
              "ticks": ""
             }
            },
            "type": "scatter3d"
           }
          ],
          "scattercarpet": [
           {
            "marker": {
             "colorbar": {
              "outlinewidth": 0,
              "ticks": ""
             }
            },
            "type": "scattercarpet"
           }
          ],
          "scattergeo": [
           {
            "marker": {
             "colorbar": {
              "outlinewidth": 0,
              "ticks": ""
             }
            },
            "type": "scattergeo"
           }
          ],
          "scattergl": [
           {
            "marker": {
             "colorbar": {
              "outlinewidth": 0,
              "ticks": ""
             }
            },
            "type": "scattergl"
           }
          ],
          "scattermapbox": [
           {
            "marker": {
             "colorbar": {
              "outlinewidth": 0,
              "ticks": ""
             }
            },
            "type": "scattermapbox"
           }
          ],
          "scatterpolar": [
           {
            "marker": {
             "colorbar": {
              "outlinewidth": 0,
              "ticks": ""
             }
            },
            "type": "scatterpolar"
           }
          ],
          "scatterpolargl": [
           {
            "marker": {
             "colorbar": {
              "outlinewidth": 0,
              "ticks": ""
             }
            },
            "type": "scatterpolargl"
           }
          ],
          "scatterternary": [
           {
            "marker": {
             "colorbar": {
              "outlinewidth": 0,
              "ticks": ""
             }
            },
            "type": "scatterternary"
           }
          ],
          "surface": [
           {
            "colorbar": {
             "outlinewidth": 0,
             "ticks": ""
            },
            "colorscale": [
             [
              0,
              "#0d0887"
             ],
             [
              0.1111111111111111,
              "#46039f"
             ],
             [
              0.2222222222222222,
              "#7201a8"
             ],
             [
              0.3333333333333333,
              "#9c179e"
             ],
             [
              0.4444444444444444,
              "#bd3786"
             ],
             [
              0.5555555555555556,
              "#d8576b"
             ],
             [
              0.6666666666666666,
              "#ed7953"
             ],
             [
              0.7777777777777778,
              "#fb9f3a"
             ],
             [
              0.8888888888888888,
              "#fdca26"
             ],
             [
              1,
              "#f0f921"
             ]
            ],
            "type": "surface"
           }
          ],
          "table": [
           {
            "cells": {
             "fill": {
              "color": "#EBF0F8"
             },
             "line": {
              "color": "white"
             }
            },
            "header": {
             "fill": {
              "color": "#C8D4E3"
             },
             "line": {
              "color": "white"
             }
            },
            "type": "table"
           }
          ]
         },
         "layout": {
          "annotationdefaults": {
           "arrowcolor": "#2a3f5f",
           "arrowhead": 0,
           "arrowwidth": 1
          },
          "autotypenumbers": "strict",
          "coloraxis": {
           "colorbar": {
            "outlinewidth": 0,
            "ticks": ""
           }
          },
          "colorscale": {
           "diverging": [
            [
             0,
             "#8e0152"
            ],
            [
             0.1,
             "#c51b7d"
            ],
            [
             0.2,
             "#de77ae"
            ],
            [
             0.3,
             "#f1b6da"
            ],
            [
             0.4,
             "#fde0ef"
            ],
            [
             0.5,
             "#f7f7f7"
            ],
            [
             0.6,
             "#e6f5d0"
            ],
            [
             0.7,
             "#b8e186"
            ],
            [
             0.8,
             "#7fbc41"
            ],
            [
             0.9,
             "#4d9221"
            ],
            [
             1,
             "#276419"
            ]
           ],
           "sequential": [
            [
             0,
             "#0d0887"
            ],
            [
             0.1111111111111111,
             "#46039f"
            ],
            [
             0.2222222222222222,
             "#7201a8"
            ],
            [
             0.3333333333333333,
             "#9c179e"
            ],
            [
             0.4444444444444444,
             "#bd3786"
            ],
            [
             0.5555555555555556,
             "#d8576b"
            ],
            [
             0.6666666666666666,
             "#ed7953"
            ],
            [
             0.7777777777777778,
             "#fb9f3a"
            ],
            [
             0.8888888888888888,
             "#fdca26"
            ],
            [
             1,
             "#f0f921"
            ]
           ],
           "sequentialminus": [
            [
             0,
             "#0d0887"
            ],
            [
             0.1111111111111111,
             "#46039f"
            ],
            [
             0.2222222222222222,
             "#7201a8"
            ],
            [
             0.3333333333333333,
             "#9c179e"
            ],
            [
             0.4444444444444444,
             "#bd3786"
            ],
            [
             0.5555555555555556,
             "#d8576b"
            ],
            [
             0.6666666666666666,
             "#ed7953"
            ],
            [
             0.7777777777777778,
             "#fb9f3a"
            ],
            [
             0.8888888888888888,
             "#fdca26"
            ],
            [
             1,
             "#f0f921"
            ]
           ]
          },
          "colorway": [
           "#636efa",
           "#EF553B",
           "#00cc96",
           "#ab63fa",
           "#FFA15A",
           "#19d3f3",
           "#FF6692",
           "#B6E880",
           "#FF97FF",
           "#FECB52"
          ],
          "font": {
           "color": "#2a3f5f"
          },
          "geo": {
           "bgcolor": "white",
           "lakecolor": "white",
           "landcolor": "#E5ECF6",
           "showlakes": true,
           "showland": true,
           "subunitcolor": "white"
          },
          "hoverlabel": {
           "align": "left"
          },
          "hovermode": "closest",
          "mapbox": {
           "style": "light"
          },
          "paper_bgcolor": "white",
          "plot_bgcolor": "#E5ECF6",
          "polar": {
           "angularaxis": {
            "gridcolor": "white",
            "linecolor": "white",
            "ticks": ""
           },
           "bgcolor": "#E5ECF6",
           "radialaxis": {
            "gridcolor": "white",
            "linecolor": "white",
            "ticks": ""
           }
          },
          "scene": {
           "xaxis": {
            "backgroundcolor": "#E5ECF6",
            "gridcolor": "white",
            "gridwidth": 2,
            "linecolor": "white",
            "showbackground": true,
            "ticks": "",
            "zerolinecolor": "white"
           },
           "yaxis": {
            "backgroundcolor": "#E5ECF6",
            "gridcolor": "white",
            "gridwidth": 2,
            "linecolor": "white",
            "showbackground": true,
            "ticks": "",
            "zerolinecolor": "white"
           },
           "zaxis": {
            "backgroundcolor": "#E5ECF6",
            "gridcolor": "white",
            "gridwidth": 2,
            "linecolor": "white",
            "showbackground": true,
            "ticks": "",
            "zerolinecolor": "white"
           }
          },
          "shapedefaults": {
           "line": {
            "color": "#2a3f5f"
           }
          },
          "ternary": {
           "aaxis": {
            "gridcolor": "white",
            "linecolor": "white",
            "ticks": ""
           },
           "baxis": {
            "gridcolor": "white",
            "linecolor": "white",
            "ticks": ""
           },
           "bgcolor": "#E5ECF6",
           "caxis": {
            "gridcolor": "white",
            "linecolor": "white",
            "ticks": ""
           }
          },
          "title": {
           "x": 0.05
          },
          "xaxis": {
           "automargin": true,
           "gridcolor": "white",
           "linecolor": "white",
           "ticks": "",
           "title": {
            "standoff": 15
           },
           "zerolinecolor": "white",
           "zerolinewidth": 2
          },
          "yaxis": {
           "automargin": true,
           "gridcolor": "white",
           "linecolor": "white",
           "ticks": "",
           "title": {
            "standoff": 15
           },
           "zerolinecolor": "white",
           "zerolinewidth": 2
          }
         }
        },
        "title": {
         "text": "PHEV Sales by Year"
        },
        "xaxis": {
         "anchor": "y",
         "domain": [
          0,
          1
         ],
         "title": {
          "text": "Year"
         }
        },
        "yaxis": {
         "anchor": "x",
         "domain": [
          0,
          1
         ],
         "title": {
          "text": "Car Sales"
         }
        }
       }
      }
     },
     "metadata": {},
     "output_type": "display_data"
    }
   ],
   "source": [
    "#Sale of HEVs Nationwide\n",
    "to_filter = 'PHEV'\n",
    "column = 'Statistic'\n",
    "mask = ev_sales_nation_df[column] == to_filter\n",
    "df = ev_sales_nation_df[mask]\n",
    "df.drop(columns = [column], inplace=True)\n",
    "\n",
    "title = to_filter + ' Sales by Year'\n",
    "\n",
    "fig = px.line(x=df['Fiscal Year'], y=df['Value'], labels={'x': 'Year', 'y': 'Car Sales'},\n",
    "              title = title, markers=True, line_shape='linear')\n",
    "fig.show()"
   ]
  },
  {
   "cell_type": "code",
   "execution_count": 90,
   "metadata": {},
   "outputs": [
    {
     "name": "stderr",
     "output_type": "stream",
     "text": [
      "C:\\Users\\riley\\AppData\\Local\\Temp\\ipykernel_2936\\4111188397.py:6: SettingWithCopyWarning:\n",
      "\n",
      "\n",
      "A value is trying to be set on a copy of a slice from a DataFrame\n",
      "\n",
      "See the caveats in the documentation: https://pandas.pydata.org/pandas-docs/stable/user_guide/indexing.html#returning-a-view-versus-a-copy\n",
      "\n"
     ]
    },
    {
     "data": {
      "application/vnd.plotly.v1+json": {
       "config": {
        "plotlyServerURL": "https://plot.ly"
       },
       "data": [
        {
         "hovertemplate": "Year=%{x}<br>Car Sales=%{y}<extra></extra>",
         "legendgroup": "",
         "line": {
          "color": "#636efa",
          "dash": "solid",
          "shape": "linear"
         },
         "marker": {
          "symbol": "circle"
         },
         "mode": "lines+markers",
         "name": "",
         "orientation": "v",
         "showlegend": false,
         "type": "scatter",
         "x": [
          2011,
          2012,
          2013,
          2014,
          2015,
          2016,
          2017,
          2018,
          2019,
          2020,
          2021
         ],
         "xaxis": "x",
         "y": [
          10100,
          14600,
          48100,
          63500,
          71100,
          86700,
          104500,
          207100,
          233800,
          238500,
          459400
         ],
         "yaxis": "y"
        }
       ],
       "layout": {
        "legend": {
         "tracegroupgap": 0
        },
        "template": {
         "data": {
          "bar": [
           {
            "error_x": {
             "color": "#2a3f5f"
            },
            "error_y": {
             "color": "#2a3f5f"
            },
            "marker": {
             "line": {
              "color": "#E5ECF6",
              "width": 0.5
             },
             "pattern": {
              "fillmode": "overlay",
              "size": 10,
              "solidity": 0.2
             }
            },
            "type": "bar"
           }
          ],
          "barpolar": [
           {
            "marker": {
             "line": {
              "color": "#E5ECF6",
              "width": 0.5
             },
             "pattern": {
              "fillmode": "overlay",
              "size": 10,
              "solidity": 0.2
             }
            },
            "type": "barpolar"
           }
          ],
          "carpet": [
           {
            "aaxis": {
             "endlinecolor": "#2a3f5f",
             "gridcolor": "white",
             "linecolor": "white",
             "minorgridcolor": "white",
             "startlinecolor": "#2a3f5f"
            },
            "baxis": {
             "endlinecolor": "#2a3f5f",
             "gridcolor": "white",
             "linecolor": "white",
             "minorgridcolor": "white",
             "startlinecolor": "#2a3f5f"
            },
            "type": "carpet"
           }
          ],
          "choropleth": [
           {
            "colorbar": {
             "outlinewidth": 0,
             "ticks": ""
            },
            "type": "choropleth"
           }
          ],
          "contour": [
           {
            "colorbar": {
             "outlinewidth": 0,
             "ticks": ""
            },
            "colorscale": [
             [
              0,
              "#0d0887"
             ],
             [
              0.1111111111111111,
              "#46039f"
             ],
             [
              0.2222222222222222,
              "#7201a8"
             ],
             [
              0.3333333333333333,
              "#9c179e"
             ],
             [
              0.4444444444444444,
              "#bd3786"
             ],
             [
              0.5555555555555556,
              "#d8576b"
             ],
             [
              0.6666666666666666,
              "#ed7953"
             ],
             [
              0.7777777777777778,
              "#fb9f3a"
             ],
             [
              0.8888888888888888,
              "#fdca26"
             ],
             [
              1,
              "#f0f921"
             ]
            ],
            "type": "contour"
           }
          ],
          "contourcarpet": [
           {
            "colorbar": {
             "outlinewidth": 0,
             "ticks": ""
            },
            "type": "contourcarpet"
           }
          ],
          "heatmap": [
           {
            "colorbar": {
             "outlinewidth": 0,
             "ticks": ""
            },
            "colorscale": [
             [
              0,
              "#0d0887"
             ],
             [
              0.1111111111111111,
              "#46039f"
             ],
             [
              0.2222222222222222,
              "#7201a8"
             ],
             [
              0.3333333333333333,
              "#9c179e"
             ],
             [
              0.4444444444444444,
              "#bd3786"
             ],
             [
              0.5555555555555556,
              "#d8576b"
             ],
             [
              0.6666666666666666,
              "#ed7953"
             ],
             [
              0.7777777777777778,
              "#fb9f3a"
             ],
             [
              0.8888888888888888,
              "#fdca26"
             ],
             [
              1,
              "#f0f921"
             ]
            ],
            "type": "heatmap"
           }
          ],
          "heatmapgl": [
           {
            "colorbar": {
             "outlinewidth": 0,
             "ticks": ""
            },
            "colorscale": [
             [
              0,
              "#0d0887"
             ],
             [
              0.1111111111111111,
              "#46039f"
             ],
             [
              0.2222222222222222,
              "#7201a8"
             ],
             [
              0.3333333333333333,
              "#9c179e"
             ],
             [
              0.4444444444444444,
              "#bd3786"
             ],
             [
              0.5555555555555556,
              "#d8576b"
             ],
             [
              0.6666666666666666,
              "#ed7953"
             ],
             [
              0.7777777777777778,
              "#fb9f3a"
             ],
             [
              0.8888888888888888,
              "#fdca26"
             ],
             [
              1,
              "#f0f921"
             ]
            ],
            "type": "heatmapgl"
           }
          ],
          "histogram": [
           {
            "marker": {
             "pattern": {
              "fillmode": "overlay",
              "size": 10,
              "solidity": 0.2
             }
            },
            "type": "histogram"
           }
          ],
          "histogram2d": [
           {
            "colorbar": {
             "outlinewidth": 0,
             "ticks": ""
            },
            "colorscale": [
             [
              0,
              "#0d0887"
             ],
             [
              0.1111111111111111,
              "#46039f"
             ],
             [
              0.2222222222222222,
              "#7201a8"
             ],
             [
              0.3333333333333333,
              "#9c179e"
             ],
             [
              0.4444444444444444,
              "#bd3786"
             ],
             [
              0.5555555555555556,
              "#d8576b"
             ],
             [
              0.6666666666666666,
              "#ed7953"
             ],
             [
              0.7777777777777778,
              "#fb9f3a"
             ],
             [
              0.8888888888888888,
              "#fdca26"
             ],
             [
              1,
              "#f0f921"
             ]
            ],
            "type": "histogram2d"
           }
          ],
          "histogram2dcontour": [
           {
            "colorbar": {
             "outlinewidth": 0,
             "ticks": ""
            },
            "colorscale": [
             [
              0,
              "#0d0887"
             ],
             [
              0.1111111111111111,
              "#46039f"
             ],
             [
              0.2222222222222222,
              "#7201a8"
             ],
             [
              0.3333333333333333,
              "#9c179e"
             ],
             [
              0.4444444444444444,
              "#bd3786"
             ],
             [
              0.5555555555555556,
              "#d8576b"
             ],
             [
              0.6666666666666666,
              "#ed7953"
             ],
             [
              0.7777777777777778,
              "#fb9f3a"
             ],
             [
              0.8888888888888888,
              "#fdca26"
             ],
             [
              1,
              "#f0f921"
             ]
            ],
            "type": "histogram2dcontour"
           }
          ],
          "mesh3d": [
           {
            "colorbar": {
             "outlinewidth": 0,
             "ticks": ""
            },
            "type": "mesh3d"
           }
          ],
          "parcoords": [
           {
            "line": {
             "colorbar": {
              "outlinewidth": 0,
              "ticks": ""
             }
            },
            "type": "parcoords"
           }
          ],
          "pie": [
           {
            "automargin": true,
            "type": "pie"
           }
          ],
          "scatter": [
           {
            "fillpattern": {
             "fillmode": "overlay",
             "size": 10,
             "solidity": 0.2
            },
            "type": "scatter"
           }
          ],
          "scatter3d": [
           {
            "line": {
             "colorbar": {
              "outlinewidth": 0,
              "ticks": ""
             }
            },
            "marker": {
             "colorbar": {
              "outlinewidth": 0,
              "ticks": ""
             }
            },
            "type": "scatter3d"
           }
          ],
          "scattercarpet": [
           {
            "marker": {
             "colorbar": {
              "outlinewidth": 0,
              "ticks": ""
             }
            },
            "type": "scattercarpet"
           }
          ],
          "scattergeo": [
           {
            "marker": {
             "colorbar": {
              "outlinewidth": 0,
              "ticks": ""
             }
            },
            "type": "scattergeo"
           }
          ],
          "scattergl": [
           {
            "marker": {
             "colorbar": {
              "outlinewidth": 0,
              "ticks": ""
             }
            },
            "type": "scattergl"
           }
          ],
          "scattermapbox": [
           {
            "marker": {
             "colorbar": {
              "outlinewidth": 0,
              "ticks": ""
             }
            },
            "type": "scattermapbox"
           }
          ],
          "scatterpolar": [
           {
            "marker": {
             "colorbar": {
              "outlinewidth": 0,
              "ticks": ""
             }
            },
            "type": "scatterpolar"
           }
          ],
          "scatterpolargl": [
           {
            "marker": {
             "colorbar": {
              "outlinewidth": 0,
              "ticks": ""
             }
            },
            "type": "scatterpolargl"
           }
          ],
          "scatterternary": [
           {
            "marker": {
             "colorbar": {
              "outlinewidth": 0,
              "ticks": ""
             }
            },
            "type": "scatterternary"
           }
          ],
          "surface": [
           {
            "colorbar": {
             "outlinewidth": 0,
             "ticks": ""
            },
            "colorscale": [
             [
              0,
              "#0d0887"
             ],
             [
              0.1111111111111111,
              "#46039f"
             ],
             [
              0.2222222222222222,
              "#7201a8"
             ],
             [
              0.3333333333333333,
              "#9c179e"
             ],
             [
              0.4444444444444444,
              "#bd3786"
             ],
             [
              0.5555555555555556,
              "#d8576b"
             ],
             [
              0.6666666666666666,
              "#ed7953"
             ],
             [
              0.7777777777777778,
              "#fb9f3a"
             ],
             [
              0.8888888888888888,
              "#fdca26"
             ],
             [
              1,
              "#f0f921"
             ]
            ],
            "type": "surface"
           }
          ],
          "table": [
           {
            "cells": {
             "fill": {
              "color": "#EBF0F8"
             },
             "line": {
              "color": "white"
             }
            },
            "header": {
             "fill": {
              "color": "#C8D4E3"
             },
             "line": {
              "color": "white"
             }
            },
            "type": "table"
           }
          ]
         },
         "layout": {
          "annotationdefaults": {
           "arrowcolor": "#2a3f5f",
           "arrowhead": 0,
           "arrowwidth": 1
          },
          "autotypenumbers": "strict",
          "coloraxis": {
           "colorbar": {
            "outlinewidth": 0,
            "ticks": ""
           }
          },
          "colorscale": {
           "diverging": [
            [
             0,
             "#8e0152"
            ],
            [
             0.1,
             "#c51b7d"
            ],
            [
             0.2,
             "#de77ae"
            ],
            [
             0.3,
             "#f1b6da"
            ],
            [
             0.4,
             "#fde0ef"
            ],
            [
             0.5,
             "#f7f7f7"
            ],
            [
             0.6,
             "#e6f5d0"
            ],
            [
             0.7,
             "#b8e186"
            ],
            [
             0.8,
             "#7fbc41"
            ],
            [
             0.9,
             "#4d9221"
            ],
            [
             1,
             "#276419"
            ]
           ],
           "sequential": [
            [
             0,
             "#0d0887"
            ],
            [
             0.1111111111111111,
             "#46039f"
            ],
            [
             0.2222222222222222,
             "#7201a8"
            ],
            [
             0.3333333333333333,
             "#9c179e"
            ],
            [
             0.4444444444444444,
             "#bd3786"
            ],
            [
             0.5555555555555556,
             "#d8576b"
            ],
            [
             0.6666666666666666,
             "#ed7953"
            ],
            [
             0.7777777777777778,
             "#fb9f3a"
            ],
            [
             0.8888888888888888,
             "#fdca26"
            ],
            [
             1,
             "#f0f921"
            ]
           ],
           "sequentialminus": [
            [
             0,
             "#0d0887"
            ],
            [
             0.1111111111111111,
             "#46039f"
            ],
            [
             0.2222222222222222,
             "#7201a8"
            ],
            [
             0.3333333333333333,
             "#9c179e"
            ],
            [
             0.4444444444444444,
             "#bd3786"
            ],
            [
             0.5555555555555556,
             "#d8576b"
            ],
            [
             0.6666666666666666,
             "#ed7953"
            ],
            [
             0.7777777777777778,
             "#fb9f3a"
            ],
            [
             0.8888888888888888,
             "#fdca26"
            ],
            [
             1,
             "#f0f921"
            ]
           ]
          },
          "colorway": [
           "#636efa",
           "#EF553B",
           "#00cc96",
           "#ab63fa",
           "#FFA15A",
           "#19d3f3",
           "#FF6692",
           "#B6E880",
           "#FF97FF",
           "#FECB52"
          ],
          "font": {
           "color": "#2a3f5f"
          },
          "geo": {
           "bgcolor": "white",
           "lakecolor": "white",
           "landcolor": "#E5ECF6",
           "showlakes": true,
           "showland": true,
           "subunitcolor": "white"
          },
          "hoverlabel": {
           "align": "left"
          },
          "hovermode": "closest",
          "mapbox": {
           "style": "light"
          },
          "paper_bgcolor": "white",
          "plot_bgcolor": "#E5ECF6",
          "polar": {
           "angularaxis": {
            "gridcolor": "white",
            "linecolor": "white",
            "ticks": ""
           },
           "bgcolor": "#E5ECF6",
           "radialaxis": {
            "gridcolor": "white",
            "linecolor": "white",
            "ticks": ""
           }
          },
          "scene": {
           "xaxis": {
            "backgroundcolor": "#E5ECF6",
            "gridcolor": "white",
            "gridwidth": 2,
            "linecolor": "white",
            "showbackground": true,
            "ticks": "",
            "zerolinecolor": "white"
           },
           "yaxis": {
            "backgroundcolor": "#E5ECF6",
            "gridcolor": "white",
            "gridwidth": 2,
            "linecolor": "white",
            "showbackground": true,
            "ticks": "",
            "zerolinecolor": "white"
           },
           "zaxis": {
            "backgroundcolor": "#E5ECF6",
            "gridcolor": "white",
            "gridwidth": 2,
            "linecolor": "white",
            "showbackground": true,
            "ticks": "",
            "zerolinecolor": "white"
           }
          },
          "shapedefaults": {
           "line": {
            "color": "#2a3f5f"
           }
          },
          "ternary": {
           "aaxis": {
            "gridcolor": "white",
            "linecolor": "white",
            "ticks": ""
           },
           "baxis": {
            "gridcolor": "white",
            "linecolor": "white",
            "ticks": ""
           },
           "bgcolor": "#E5ECF6",
           "caxis": {
            "gridcolor": "white",
            "linecolor": "white",
            "ticks": ""
           }
          },
          "title": {
           "x": 0.05
          },
          "xaxis": {
           "automargin": true,
           "gridcolor": "white",
           "linecolor": "white",
           "ticks": "",
           "title": {
            "standoff": 15
           },
           "zerolinecolor": "white",
           "zerolinewidth": 2
          },
          "yaxis": {
           "automargin": true,
           "gridcolor": "white",
           "linecolor": "white",
           "ticks": "",
           "title": {
            "standoff": 15
           },
           "zerolinecolor": "white",
           "zerolinewidth": 2
          }
         }
        },
        "title": {
         "text": "BEV Sales by Year"
        },
        "xaxis": {
         "anchor": "y",
         "domain": [
          0,
          1
         ],
         "title": {
          "text": "Year"
         }
        },
        "yaxis": {
         "anchor": "x",
         "domain": [
          0,
          1
         ],
         "title": {
          "text": "Car Sales"
         }
        }
       }
      }
     },
     "metadata": {},
     "output_type": "display_data"
    }
   ],
   "source": [
    "#Sale of HEVs Nationwide\n",
    "to_filter = 'BEV'\n",
    "column = 'Statistic'\n",
    "mask = ev_sales_nation_df[column] == to_filter\n",
    "df = ev_sales_nation_df[mask]\n",
    "df.drop(columns = [column], inplace=True)\n",
    "\n",
    "title = to_filter + ' Sales by Year'\n",
    "\n",
    "fig = px.line(x=df['Fiscal Year'], y=df['Value'], labels={'x': 'Year', 'y': 'Car Sales'},\n",
    "              title = title, markers=True, line_shape='linear')\n",
    "fig.show()"
   ]
  },
  {
   "cell_type": "code",
   "execution_count": 101,
   "metadata": {},
   "outputs": [
    {
     "name": "stdout",
     "output_type": "stream",
     "text": [
      "    Fiscal Year    Value\n",
      "0          2000     9400\n",
      "1          2001    20300\n",
      "2          2002    36000\n",
      "3          2003    47600\n",
      "4          2004    84200\n",
      "5          2005   205900\n",
      "6          2006   251900\n",
      "7          2007   351100\n",
      "8          2008   315800\n",
      "9          2009   290300\n",
      "10         2010   274900\n",
      "11         2011   286500\n",
      "12         2012   487800\n",
      "13         2013   592600\n",
      "14         2014   571100\n",
      "15         2015   498500\n",
      "16         2016   506500\n",
      "17         2017   558600\n",
      "18         2018   669100\n",
      "19         2019   719000\n",
      "20         2020   762600\n",
      "21         2021  1431900\n"
     ]
    },
    {
     "data": {
      "application/vnd.plotly.v1+json": {
       "config": {
        "plotlyServerURL": "https://plot.ly"
       },
       "data": [
        {
         "hovertemplate": "Year=%{x}<br>Car Sales=%{y}<extra></extra>",
         "legendgroup": "",
         "line": {
          "color": "#636efa",
          "dash": "solid",
          "shape": "linear"
         },
         "marker": {
          "symbol": "circle"
         },
         "mode": "lines+markers",
         "name": "",
         "orientation": "v",
         "showlegend": false,
         "type": "scatter",
         "x": [
          2000,
          2001,
          2002,
          2003,
          2004,
          2005,
          2006,
          2007,
          2008,
          2009,
          2010,
          2011,
          2012,
          2013,
          2014,
          2015,
          2016,
          2017,
          2018,
          2019,
          2020,
          2021
         ],
         "xaxis": "x",
         "y": [
          9400,
          20300,
          36000,
          47600,
          84200,
          205900,
          251900,
          351100,
          315800,
          290300,
          274900,
          286500,
          487800,
          592600,
          571100,
          498500,
          506500,
          558600,
          669100,
          719000,
          762600,
          1431900
         ],
         "yaxis": "y"
        }
       ],
       "layout": {
        "legend": {
         "tracegroupgap": 0
        },
        "template": {
         "data": {
          "bar": [
           {
            "error_x": {
             "color": "#2a3f5f"
            },
            "error_y": {
             "color": "#2a3f5f"
            },
            "marker": {
             "line": {
              "color": "#E5ECF6",
              "width": 0.5
             },
             "pattern": {
              "fillmode": "overlay",
              "size": 10,
              "solidity": 0.2
             }
            },
            "type": "bar"
           }
          ],
          "barpolar": [
           {
            "marker": {
             "line": {
              "color": "#E5ECF6",
              "width": 0.5
             },
             "pattern": {
              "fillmode": "overlay",
              "size": 10,
              "solidity": 0.2
             }
            },
            "type": "barpolar"
           }
          ],
          "carpet": [
           {
            "aaxis": {
             "endlinecolor": "#2a3f5f",
             "gridcolor": "white",
             "linecolor": "white",
             "minorgridcolor": "white",
             "startlinecolor": "#2a3f5f"
            },
            "baxis": {
             "endlinecolor": "#2a3f5f",
             "gridcolor": "white",
             "linecolor": "white",
             "minorgridcolor": "white",
             "startlinecolor": "#2a3f5f"
            },
            "type": "carpet"
           }
          ],
          "choropleth": [
           {
            "colorbar": {
             "outlinewidth": 0,
             "ticks": ""
            },
            "type": "choropleth"
           }
          ],
          "contour": [
           {
            "colorbar": {
             "outlinewidth": 0,
             "ticks": ""
            },
            "colorscale": [
             [
              0,
              "#0d0887"
             ],
             [
              0.1111111111111111,
              "#46039f"
             ],
             [
              0.2222222222222222,
              "#7201a8"
             ],
             [
              0.3333333333333333,
              "#9c179e"
             ],
             [
              0.4444444444444444,
              "#bd3786"
             ],
             [
              0.5555555555555556,
              "#d8576b"
             ],
             [
              0.6666666666666666,
              "#ed7953"
             ],
             [
              0.7777777777777778,
              "#fb9f3a"
             ],
             [
              0.8888888888888888,
              "#fdca26"
             ],
             [
              1,
              "#f0f921"
             ]
            ],
            "type": "contour"
           }
          ],
          "contourcarpet": [
           {
            "colorbar": {
             "outlinewidth": 0,
             "ticks": ""
            },
            "type": "contourcarpet"
           }
          ],
          "heatmap": [
           {
            "colorbar": {
             "outlinewidth": 0,
             "ticks": ""
            },
            "colorscale": [
             [
              0,
              "#0d0887"
             ],
             [
              0.1111111111111111,
              "#46039f"
             ],
             [
              0.2222222222222222,
              "#7201a8"
             ],
             [
              0.3333333333333333,
              "#9c179e"
             ],
             [
              0.4444444444444444,
              "#bd3786"
             ],
             [
              0.5555555555555556,
              "#d8576b"
             ],
             [
              0.6666666666666666,
              "#ed7953"
             ],
             [
              0.7777777777777778,
              "#fb9f3a"
             ],
             [
              0.8888888888888888,
              "#fdca26"
             ],
             [
              1,
              "#f0f921"
             ]
            ],
            "type": "heatmap"
           }
          ],
          "heatmapgl": [
           {
            "colorbar": {
             "outlinewidth": 0,
             "ticks": ""
            },
            "colorscale": [
             [
              0,
              "#0d0887"
             ],
             [
              0.1111111111111111,
              "#46039f"
             ],
             [
              0.2222222222222222,
              "#7201a8"
             ],
             [
              0.3333333333333333,
              "#9c179e"
             ],
             [
              0.4444444444444444,
              "#bd3786"
             ],
             [
              0.5555555555555556,
              "#d8576b"
             ],
             [
              0.6666666666666666,
              "#ed7953"
             ],
             [
              0.7777777777777778,
              "#fb9f3a"
             ],
             [
              0.8888888888888888,
              "#fdca26"
             ],
             [
              1,
              "#f0f921"
             ]
            ],
            "type": "heatmapgl"
           }
          ],
          "histogram": [
           {
            "marker": {
             "pattern": {
              "fillmode": "overlay",
              "size": 10,
              "solidity": 0.2
             }
            },
            "type": "histogram"
           }
          ],
          "histogram2d": [
           {
            "colorbar": {
             "outlinewidth": 0,
             "ticks": ""
            },
            "colorscale": [
             [
              0,
              "#0d0887"
             ],
             [
              0.1111111111111111,
              "#46039f"
             ],
             [
              0.2222222222222222,
              "#7201a8"
             ],
             [
              0.3333333333333333,
              "#9c179e"
             ],
             [
              0.4444444444444444,
              "#bd3786"
             ],
             [
              0.5555555555555556,
              "#d8576b"
             ],
             [
              0.6666666666666666,
              "#ed7953"
             ],
             [
              0.7777777777777778,
              "#fb9f3a"
             ],
             [
              0.8888888888888888,
              "#fdca26"
             ],
             [
              1,
              "#f0f921"
             ]
            ],
            "type": "histogram2d"
           }
          ],
          "histogram2dcontour": [
           {
            "colorbar": {
             "outlinewidth": 0,
             "ticks": ""
            },
            "colorscale": [
             [
              0,
              "#0d0887"
             ],
             [
              0.1111111111111111,
              "#46039f"
             ],
             [
              0.2222222222222222,
              "#7201a8"
             ],
             [
              0.3333333333333333,
              "#9c179e"
             ],
             [
              0.4444444444444444,
              "#bd3786"
             ],
             [
              0.5555555555555556,
              "#d8576b"
             ],
             [
              0.6666666666666666,
              "#ed7953"
             ],
             [
              0.7777777777777778,
              "#fb9f3a"
             ],
             [
              0.8888888888888888,
              "#fdca26"
             ],
             [
              1,
              "#f0f921"
             ]
            ],
            "type": "histogram2dcontour"
           }
          ],
          "mesh3d": [
           {
            "colorbar": {
             "outlinewidth": 0,
             "ticks": ""
            },
            "type": "mesh3d"
           }
          ],
          "parcoords": [
           {
            "line": {
             "colorbar": {
              "outlinewidth": 0,
              "ticks": ""
             }
            },
            "type": "parcoords"
           }
          ],
          "pie": [
           {
            "automargin": true,
            "type": "pie"
           }
          ],
          "scatter": [
           {
            "fillpattern": {
             "fillmode": "overlay",
             "size": 10,
             "solidity": 0.2
            },
            "type": "scatter"
           }
          ],
          "scatter3d": [
           {
            "line": {
             "colorbar": {
              "outlinewidth": 0,
              "ticks": ""
             }
            },
            "marker": {
             "colorbar": {
              "outlinewidth": 0,
              "ticks": ""
             }
            },
            "type": "scatter3d"
           }
          ],
          "scattercarpet": [
           {
            "marker": {
             "colorbar": {
              "outlinewidth": 0,
              "ticks": ""
             }
            },
            "type": "scattercarpet"
           }
          ],
          "scattergeo": [
           {
            "marker": {
             "colorbar": {
              "outlinewidth": 0,
              "ticks": ""
             }
            },
            "type": "scattergeo"
           }
          ],
          "scattergl": [
           {
            "marker": {
             "colorbar": {
              "outlinewidth": 0,
              "ticks": ""
             }
            },
            "type": "scattergl"
           }
          ],
          "scattermapbox": [
           {
            "marker": {
             "colorbar": {
              "outlinewidth": 0,
              "ticks": ""
             }
            },
            "type": "scattermapbox"
           }
          ],
          "scatterpolar": [
           {
            "marker": {
             "colorbar": {
              "outlinewidth": 0,
              "ticks": ""
             }
            },
            "type": "scatterpolar"
           }
          ],
          "scatterpolargl": [
           {
            "marker": {
             "colorbar": {
              "outlinewidth": 0,
              "ticks": ""
             }
            },
            "type": "scatterpolargl"
           }
          ],
          "scatterternary": [
           {
            "marker": {
             "colorbar": {
              "outlinewidth": 0,
              "ticks": ""
             }
            },
            "type": "scatterternary"
           }
          ],
          "surface": [
           {
            "colorbar": {
             "outlinewidth": 0,
             "ticks": ""
            },
            "colorscale": [
             [
              0,
              "#0d0887"
             ],
             [
              0.1111111111111111,
              "#46039f"
             ],
             [
              0.2222222222222222,
              "#7201a8"
             ],
             [
              0.3333333333333333,
              "#9c179e"
             ],
             [
              0.4444444444444444,
              "#bd3786"
             ],
             [
              0.5555555555555556,
              "#d8576b"
             ],
             [
              0.6666666666666666,
              "#ed7953"
             ],
             [
              0.7777777777777778,
              "#fb9f3a"
             ],
             [
              0.8888888888888888,
              "#fdca26"
             ],
             [
              1,
              "#f0f921"
             ]
            ],
            "type": "surface"
           }
          ],
          "table": [
           {
            "cells": {
             "fill": {
              "color": "#EBF0F8"
             },
             "line": {
              "color": "white"
             }
            },
            "header": {
             "fill": {
              "color": "#C8D4E3"
             },
             "line": {
              "color": "white"
             }
            },
            "type": "table"
           }
          ]
         },
         "layout": {
          "annotationdefaults": {
           "arrowcolor": "#2a3f5f",
           "arrowhead": 0,
           "arrowwidth": 1
          },
          "autotypenumbers": "strict",
          "coloraxis": {
           "colorbar": {
            "outlinewidth": 0,
            "ticks": ""
           }
          },
          "colorscale": {
           "diverging": [
            [
             0,
             "#8e0152"
            ],
            [
             0.1,
             "#c51b7d"
            ],
            [
             0.2,
             "#de77ae"
            ],
            [
             0.3,
             "#f1b6da"
            ],
            [
             0.4,
             "#fde0ef"
            ],
            [
             0.5,
             "#f7f7f7"
            ],
            [
             0.6,
             "#e6f5d0"
            ],
            [
             0.7,
             "#b8e186"
            ],
            [
             0.8,
             "#7fbc41"
            ],
            [
             0.9,
             "#4d9221"
            ],
            [
             1,
             "#276419"
            ]
           ],
           "sequential": [
            [
             0,
             "#0d0887"
            ],
            [
             0.1111111111111111,
             "#46039f"
            ],
            [
             0.2222222222222222,
             "#7201a8"
            ],
            [
             0.3333333333333333,
             "#9c179e"
            ],
            [
             0.4444444444444444,
             "#bd3786"
            ],
            [
             0.5555555555555556,
             "#d8576b"
            ],
            [
             0.6666666666666666,
             "#ed7953"
            ],
            [
             0.7777777777777778,
             "#fb9f3a"
            ],
            [
             0.8888888888888888,
             "#fdca26"
            ],
            [
             1,
             "#f0f921"
            ]
           ],
           "sequentialminus": [
            [
             0,
             "#0d0887"
            ],
            [
             0.1111111111111111,
             "#46039f"
            ],
            [
             0.2222222222222222,
             "#7201a8"
            ],
            [
             0.3333333333333333,
             "#9c179e"
            ],
            [
             0.4444444444444444,
             "#bd3786"
            ],
            [
             0.5555555555555556,
             "#d8576b"
            ],
            [
             0.6666666666666666,
             "#ed7953"
            ],
            [
             0.7777777777777778,
             "#fb9f3a"
            ],
            [
             0.8888888888888888,
             "#fdca26"
            ],
            [
             1,
             "#f0f921"
            ]
           ]
          },
          "colorway": [
           "#636efa",
           "#EF553B",
           "#00cc96",
           "#ab63fa",
           "#FFA15A",
           "#19d3f3",
           "#FF6692",
           "#B6E880",
           "#FF97FF",
           "#FECB52"
          ],
          "font": {
           "color": "#2a3f5f"
          },
          "geo": {
           "bgcolor": "white",
           "lakecolor": "white",
           "landcolor": "#E5ECF6",
           "showlakes": true,
           "showland": true,
           "subunitcolor": "white"
          },
          "hoverlabel": {
           "align": "left"
          },
          "hovermode": "closest",
          "mapbox": {
           "style": "light"
          },
          "paper_bgcolor": "white",
          "plot_bgcolor": "#E5ECF6",
          "polar": {
           "angularaxis": {
            "gridcolor": "white",
            "linecolor": "white",
            "ticks": ""
           },
           "bgcolor": "#E5ECF6",
           "radialaxis": {
            "gridcolor": "white",
            "linecolor": "white",
            "ticks": ""
           }
          },
          "scene": {
           "xaxis": {
            "backgroundcolor": "#E5ECF6",
            "gridcolor": "white",
            "gridwidth": 2,
            "linecolor": "white",
            "showbackground": true,
            "ticks": "",
            "zerolinecolor": "white"
           },
           "yaxis": {
            "backgroundcolor": "#E5ECF6",
            "gridcolor": "white",
            "gridwidth": 2,
            "linecolor": "white",
            "showbackground": true,
            "ticks": "",
            "zerolinecolor": "white"
           },
           "zaxis": {
            "backgroundcolor": "#E5ECF6",
            "gridcolor": "white",
            "gridwidth": 2,
            "linecolor": "white",
            "showbackground": true,
            "ticks": "",
            "zerolinecolor": "white"
           }
          },
          "shapedefaults": {
           "line": {
            "color": "#2a3f5f"
           }
          },
          "ternary": {
           "aaxis": {
            "gridcolor": "white",
            "linecolor": "white",
            "ticks": ""
           },
           "baxis": {
            "gridcolor": "white",
            "linecolor": "white",
            "ticks": ""
           },
           "bgcolor": "#E5ECF6",
           "caxis": {
            "gridcolor": "white",
            "linecolor": "white",
            "ticks": ""
           }
          },
          "title": {
           "x": 0.05
          },
          "xaxis": {
           "automargin": true,
           "gridcolor": "white",
           "linecolor": "white",
           "ticks": "",
           "title": {
            "standoff": 15
           },
           "zerolinecolor": "white",
           "zerolinewidth": 2
          },
          "yaxis": {
           "automargin": true,
           "gridcolor": "white",
           "linecolor": "white",
           "ticks": "",
           "title": {
            "standoff": 15
           },
           "zerolinecolor": "white",
           "zerolinewidth": 2
          }
         }
        },
        "title": {
         "text": "All EV Sales by Year"
        },
        "xaxis": {
         "anchor": "y",
         "domain": [
          0,
          1
         ],
         "title": {
          "text": "Year"
         }
        },
        "yaxis": {
         "anchor": "x",
         "domain": [
          0,
          1
         ],
         "title": {
          "text": "Car Sales"
         }
        }
       }
      }
     },
     "metadata": {},
     "output_type": "display_data"
    }
   ],
   "source": [
    "#Sale of All above Nationwide\n",
    "\n",
    "df = ev_sales_nation_df.groupby('Fiscal Year')['Value'].sum().reset_index()\n",
    "print(df)\n",
    "\n",
    "title = 'All EV Sales by Year'\n",
    "\n",
    "fig = px.line(x=df['Fiscal Year'], y=df['Value'], labels={'x': 'Year', 'y': 'Car Sales'},\n",
    "              title = title, markers=True, line_shape='linear')\n",
    "fig.show()"
   ]
  },
  {
   "cell_type": "markdown",
   "metadata": {},
   "source": [
    "The data indicates strong correlations between income, charging ports, and vehicle ownership off of solely visual data. The EV Sales indicate large increase in the selling of EVs in 2004-2007, 2011-2013, and 2020."
   ]
  },
  {
   "cell_type": "code",
   "execution_count": null,
   "metadata": {},
   "outputs": [],
   "source": []
  }
 ],
 "metadata": {
  "kernelspec": {
   "display_name": "Python 3",
   "language": "python",
   "name": "python3"
  },
  "language_info": {
   "codemirror_mode": {
    "name": "ipython",
    "version": 3
   },
   "file_extension": ".py",
   "mimetype": "text/x-python",
   "name": "python",
   "nbconvert_exporter": "python",
   "pygments_lexer": "ipython3",
   "version": "3.11.1"
  }
 },
 "nbformat": 4,
 "nbformat_minor": 2
}
